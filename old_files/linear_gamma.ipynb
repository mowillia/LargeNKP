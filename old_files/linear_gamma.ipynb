{
 "cells": [
  {
   "cell_type": "code",
   "execution_count": 1,
   "id": "affected-gambling",
   "metadata": {},
   "outputs": [],
   "source": [
    "from KP import KnapsackProblem, find_root\n",
    "import matplotlib.pyplot as plt\n",
    "from tqdm.notebook import tqdm\n",
    "import numpy as np\n",
    "%matplotlib inline\n",
    "\n",
    "### Plot Example\n",
    "plt.rcParams.update({\n",
    "    \"text.usetex\": True,\n",
    "    \"font.family\": \"serif\",\n",
    "    \"font.serif\": [\"Computer Modern Roman\"],\n",
    "})"
   ]
  },
  {
   "cell_type": "markdown",
   "id": "equivalent-fruit",
   "metadata": {},
   "source": [
    "#### Weight, Value, and Limit"
   ]
  },
  {
   "cell_type": "markdown",
   "id": "0144434b",
   "metadata": {},
   "source": [
    "## Linear Approximation of $\\gamma(T)$"
   ]
  },
  {
   "cell_type": "markdown",
   "id": "a9047232",
   "metadata": {},
   "source": [
    "We approximate $\\gamma(T)$ defined as\n",
    "\n",
    "$$\\gamma(T) = -T \\ln z_0(T),$$\n",
    "\n",
    "(where $z_0(T)$ is the minimum of the constraint potential as a function of temperature) by the linear function \n",
    "\n",
    "$$ \\gamma(T) = \\gamma'_0T + \\gamma_0 + O(T^2)$$\n",
    "\n",
    "where we determine $\\gamma'_0$ and $\\gamma_0$ by evaluating $\\gamma(T)$ at two points $T_1$ and $T_2$. \n"
   ]
  },
  {
   "cell_type": "code",
   "execution_count": 2,
   "id": "cf8152f0",
   "metadata": {},
   "outputs": [],
   "source": [
    "items = (\n",
    "    (\"map\", 9, 150), (\"compass\", 13, 35), (\"water\", 153, 200), (\"sandwich\", 50, 160),\n",
    "    (\"glucose\", 15, 60), (\"tin\", 68, 45), (\"banana\", 27, 60), (\"apple\", 39, 40),\n",
    "    (\"cheese\", 23, 30), (\"beer\", 52, 10), (\"suntan cream\", 11, 70), (\"camera\", 32, 30),\n",
    "    (\"t-shirt\", 24, 15), (\"trousers\", 48, 10), (\"umbrella\", 73, 40),\n",
    "    (\"waterproof trousers\", 42, 70), (\"waterproof overclothes\", 43, 75),\n",
    "    (\"note-case\", 22, 80), (\"sunglasses\", 7, 20), (\"towel\", 18, 12),\n",
    "    (\"socks\", 4, 50), (\"book\", 30, 10),\n",
    "    )\n",
    "\n",
    "# defining weight and value vectors and weight limit\n",
    "weight_vec = np.array([item[1] for item in items])\n",
    "value_vec = np.array([item[2] for item in items])\n",
    "Wlimit = 400\n",
    "\n",
    "# defining instance of problem\n",
    "KP_init = KnapsackProblem(weights = weight_vec, values = value_vec, limit = Wlimit)"
   ]
  },
  {
   "cell_type": "code",
   "execution_count": 3,
   "id": "cbc366af",
   "metadata": {},
   "outputs": [
    {
     "data": {
      "application/vnd.jupyter.widget-view+json": {
       "model_id": "a90eef2b0158431e9c4c0c5f79fdac81",
       "version_major": 2,
       "version_minor": 0
      },
      "text/plain": [
       "  0%|          | 0/79 [00:00<?, ?it/s]"
      ]
     },
     "metadata": {},
     "output_type": "display_data"
    }
   ],
   "source": [
    "# computing exact values for gamma(T)\n",
    "T0_vals = np.arange(0.1, 8.0, 0.1)\n",
    "gamma_vals = np.zeros_like(T0_vals)\n",
    "\n",
    "for m in tqdm(range(len(gamma_vals))):\n",
    "    T0 = T0_vals[m]\n",
    "    z_res, _ = find_root(KP_init.constraint, T=T0)\n",
    "    gamma_vals[m] = -np.log(z_res)*T0"
   ]
  },
  {
   "cell_type": "code",
   "execution_count": 4,
   "id": "4a311171",
   "metadata": {},
   "outputs": [],
   "source": [
    "# defining equation for linear approximation\n",
    "x1= 0.1\n",
    "y1 =  -x1*np.log(find_root(KP_init.constraint, T=x1)[0])\n",
    "\n",
    "x2 = 0.12\n",
    "y2 = -x2*np.log(find_root(KP_init.constraint, T=x2)[0])\n",
    "\n",
    "m = (y2-y1)/(x2-x1)\n",
    "\n",
    "linear_func = lambda x: m*(x-x1) + y1"
   ]
  },
  {
   "cell_type": "code",
   "execution_count": 5,
   "id": "529ff3cc",
   "metadata": {},
   "outputs": [
    {
     "data": {
      "image/png": "[encoded data removed]",
      "text/plain": [
       "<Figure size 504x360 with 1 Axes>"
      ]
     },
     "metadata": {
      "needs_background": "light"
     },
     "output_type": "display_data"
    }
   ],
   "source": [
    "plt.figure(figsize = (7,5))\n",
    "ax = plt.subplot(111)\n",
    "\n",
    "plt.plot(T0_vals, gamma_vals, linewidth = 2, label = r'$-T\\,\\ln z(T)$')\n",
    "plt.plot(T0_vals, linear_func(T0_vals),  linestyle = '--', linewidth = 2, label = 'Linear Approximation')\n",
    "plt.xlabel(r'$T$', fontsize = 20)\n",
    "plt.ylabel(r'$\\gamma(T)$', fontsize = 20, rotation =0, labelpad = 25.0)\n",
    "plt.xlim(0,8)\n",
    "plt.yticks(fontsize = 14)\n",
    "plt.xticks(fontsize = 14)\n",
    "\n",
    "ax.spines['right'].set_visible(False)\n",
    "ax.spines['top'].set_visible(False)\n",
    "\n",
    "plt.ylim(1.189, 1.315)\n",
    "plt.grid(alpha = 1)\n",
    "plt.legend(loc = 'best', fontsize = 15, framealpha = 1)\n",
    "# plt.savefig('/Users/mobolajiwilliams/Dropbox/0Tex_Files_Mac/2020_largeN_knapsack_problem/LaTeX_Scientific_reports/linear_comparison.png', dpi = 100, bbox_inches='tight' )\n",
    "plt.show()"
   ]
  },
  {
   "cell_type": "code",
   "execution_count": null,
   "id": "b9223054",
   "metadata": {},
   "outputs": [],
   "source": []
  }
 ],
 "metadata": {
  "kernelspec": {
   "display_name": "Python 3 (ipykernel)",
   "language": "python",
   "name": "python3"
  },
  "language_info": {
   "codemirror_mode": {
    "name": "ipython",
    "version": 3
   },
   "file_extension": ".py",
   "mimetype": "text/x-python",
   "name": "python",
   "nbconvert_exporter": "python",
   "pygments_lexer": "ipython3",
   "version": "3.10.2"
  }
 },
 "nbformat": 4,
 "nbformat_minor": 5
}
