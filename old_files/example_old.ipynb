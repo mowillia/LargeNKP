{
 "cells": [
  {
   "cell_type": "markdown",
   "id": "attractive-librarian",
   "metadata": {},
   "source": [
    "## Quick Start Examples"
   ]
  },
  {
   "cell_type": "markdown",
   "id": "earlier-demonstration",
   "metadata": {},
   "source": [
    "### Knapsack Instance"
   ]
  },
  {
   "cell_type": "markdown",
   "id": "blond-malta",
   "metadata": {},
   "source": [
    "In the following examples, we will use the item list, weights, values, and weight limits given as follows. These values are taken from the problem statement in [RossettaCode Knapsack: 0-1](https://rosettacode.org/wiki/Knapsack_problem/0-1)"
   ]
  },
  {
   "cell_type": "code",
   "execution_count": 1,
   "id": "immediate-internet",
   "metadata": {},
   "outputs": [],
   "source": [
    "import numpy as np\n",
    "\n",
    "items = (\n",
    "    (\"map\", 9, 150), (\"compass\", 13, 35), (\"water\", 153, 200), (\"sandwich\", 50, 160),\n",
    "    (\"glucose\", 15, 60), (\"tin\", 68, 45), (\"banana\", 27, 60), (\"apple\", 39, 40),\n",
    "    (\"cheese\", 23, 30), (\"beer\", 52, 10), (\"suntan cream\", 11, 70), (\"camera\", 32, 30),\n",
    "    (\"t-shirt\", 24, 15), (\"trousers\", 48, 10), (\"umbrella\", 73, 40),\n",
    "    (\"waterproof trousers\", 42, 70), (\"waterproof overclothes\", 43, 75),\n",
    "    (\"note-case\", 22, 80), (\"sunglasses\", 7, 20), (\"towel\", 18, 12),\n",
    "    (\"socks\", 4, 50), (\"book\", 30, 10),\n",
    "    )\n",
    "\n",
    "# defining weight and value vectors and weight limit\n",
    "weight_vec = np.array([item[1] for item in items])\n",
    "value_vec = np.array([item[2] for item in items])\n",
    "Wlimit = 400"
   ]
  },
  {
   "cell_type": "markdown",
   "id": "applicable-alberta",
   "metadata": {},
   "source": [
    "### Running Large N Algorithm"
   ]
  },
  {
   "cell_type": "code",
   "execution_count": 2,
   "id": "everyday-sense",
   "metadata": {},
   "outputs": [
    {
     "name": "stdout",
     "output_type": "stream",
     "text": [
      "map\n",
      "compass\n",
      "water\n",
      "sandwich\n",
      "glucose\n",
      "banana\n",
      "suntan cream\n",
      "waterproof trousers\n",
      "waterproof overclothes\n",
      "note-case\n",
      "sunglasses\n",
      "socks\n"
     ]
    }
   ],
   "source": [
    "from largeN_algo import zero_one_algorithm\n",
    "\n",
    "soln = zero_one_algorithm(weights = weight_vec, values = value_vec, limit = Wlimit)\n",
    "for k in range(len(soln)):\n",
    "    if soln[k] == 1:\n",
    "        print(items[k][0])"
   ]
  },
  {
   "cell_type": "markdown",
   "id": "noted-hungary",
   "metadata": {},
   "source": [
    "### Plotting Potential Function"
   ]
  },
  {
   "cell_type": "code",
   "execution_count": 3,
   "id": "political-facial",
   "metadata": {},
   "outputs": [
    {
     "data": {
      "image/png": "[encoded data removed]",
      "text/plain": [
       "<Figure size 432x360 with 1 Axes>"
      ]
     },
     "metadata": {
      "needs_background": "light"
     },
     "output_type": "display_data"
    }
   ],
   "source": [
    "from largeN_algo import plot_potential_zero_one\n",
    "\n",
    "plot_potential_zero_one(weights = weight_vec, values = value_vec, limit = Wlimit, T= 1.5)"
   ]
  },
  {
   "cell_type": "markdown",
   "id": "associate-quarterly",
   "metadata": {},
   "source": [
    "### Plotting Temperature Dependence"
   ]
  },
  {
   "cell_type": "code",
   "execution_count": 4,
   "id": "straight-broadcast",
   "metadata": {},
   "outputs": [
    {
     "data": {
      "image/png": "[encoded data removed]",
      "text/plain": [
       "<Figure size 432x360 with 1 Axes>"
      ]
     },
     "metadata": {
      "needs_background": "light"
     },
     "output_type": "display_data"
    }
   ],
   "source": [
    "from largeN_algo import plot_value_vs_temp\n",
    "\n",
    "plot_value_vs_temp(weights = weight_vec, values = value_vec, limit = Wlimit, temp_low=1.0, temp_high = 60.0)"
   ]
  },
  {
   "cell_type": "markdown",
   "id": "blank-enzyme",
   "metadata": {},
   "source": [
    "### Algorithm Comparison"
   ]
  },
  {
   "cell_type": "code",
   "execution_count": 8,
   "id": "offensive-hudson",
   "metadata": {},
   "outputs": [],
   "source": [
    "from classic_algos import (brute_force, \n",
    "                           knapsack01_dpV, \n",
    "                           fptas, \n",
    "                           greedy, \n",
    "                           simann_knapsack)\n",
    "from largeN_algo import zero_one_algorithm\n",
    "\n",
    "from tabulate import tabulate\n",
    "from collections import defaultdict\n",
    "\n",
    "import time"
   ]
  },
  {
   "cell_type": "code",
   "execution_count": 6,
   "id": "romance-mobile",
   "metadata": {},
   "outputs": [
    {
     "name": "stdout",
     "output_type": "stream",
     "text": [
      "Stopping annealing because error tolerance was reached\n",
      "+-------------+---------+-----------+--------------+\n",
      "| Algorithm   |   Value |   Weight  |   Time (sec) |\n",
      "+=============+=========+===========+==============+\n",
      "| Brute       |    1030 |       396 |     34.5579  |\n",
      "+-------------+---------+-----------+--------------+\n",
      "| DP          |    1030 |       396 |      0.0052  |\n",
      "+-------------+---------+-----------+--------------+\n",
      "| FPTAS       |    1030 |       396 |      0.00448 |\n",
      "+-------------+---------+-----------+--------------+\n",
      "| Greedy      |    1030 |       396 |      0.0001  |\n",
      "+-------------+---------+-----------+--------------+\n",
      "| Annealing   |     960 |       390 |      0.17645 |\n",
      "+-------------+---------+-----------+--------------+\n",
      "| Large N     |    1030 |       396 |      0.00113 |\n",
      "+-------------+---------+-----------+--------------+\n"
     ]
    }
   ],
   "source": [
    "# dictionary of algorithm names and functions\n",
    "algo_name_dict = {'Brute': brute_force,\n",
    "                  'DP': knapsack01_dpV,\n",
    "                  'FPTAS': fptas,\n",
    "                  'Greedy': greedy,\n",
    "                  'Annealing': simann_knapsack,\n",
    "                  'Large N': zero_one_algorithm}\n",
    "\n",
    "# dictionary of algorithm names and results\n",
    "results_name_dict = defaultdict(lambda: list())\n",
    "\n",
    "for name, func in algo_name_dict.items():\n",
    "    start_clock = time.time()\n",
    "    soln  = func(weights = weight_vec, values = value_vec, limit = Wlimit)\n",
    "    \n",
    "    # calculating values\n",
    "    tot_value = str(round(np.dot(value_vec, soln), 0))\n",
    "    tot_weight = str(round(np.dot(weight_vec, soln), 0))\n",
    "    time_calc = str(round(time.time()-start_clock, 5)) \n",
    "    \n",
    "    # assembling results\n",
    "    results_name_dict[name] = [name, tot_value, tot_weight, time_calc]\n",
    "    \n",
    "# creating table of results\n",
    "tabular_results = []\n",
    "for k, v in results_name_dict.items():\n",
    "    tabular_results.append(v) \n",
    "\n",
    "print(tabulate(tabular_results, [\"Algorithm\", \"Value\", \"Weight \", \"Time (sec)\"], tablefmt=\"grid\"))"
   ]
  },
  {
   "cell_type": "markdown",
   "id": "sacred-marshall",
   "metadata": {},
   "source": [
    "### Knapsack Variations: Bounded"
   ]
  },
  {
   "cell_type": "code",
   "execution_count": 7,
   "id": "mental-sapphire",
   "metadata": {},
   "outputs": [
    {
     "name": "stdout",
     "output_type": "stream",
     "text": [
      "Item: Item #\n",
      "-----------\n",
      "map : 1 \n",
      "compass : 1 \n",
      "water : 3 \n",
      "suntan cream : 1 \n",
      "waterproof trousers : 1 \n",
      "waterproof overclothes : 1 \n",
      "note-case : 1 \n",
      "sunglasses : 1 \n",
      "socks : 1 \n",
      "\n",
      "Total Value: 1050\n",
      "Total Weight: 415\n"
     ]
    }
   ],
   "source": [
    "from largeN_algo import bounded_algorithm\n",
    "\n",
    "items = ((\"map\", 9, 150, 1),(\"compass\", 13, 35, 1), (\"water\", 153, 200, 3),(\"sandwich\", 50, 60, 2),\n",
    "         (\"glucose\", 15, 60, 2),(\"tin\", 68, 45, 3), (\"banana\", 27, 60, 3),(\"apple\", 39, 40, 3),\n",
    "            (\"cheese\", 23, 30, 1),(\"beer\", 52, 10, 3),(\"suntan cream\", 11, 70, 1),(\"camera\", 32, 30, 1),\n",
    "            (\"t-shirt\", 24, 15, 2),(\"trousers\", 48, 10, 2),(\"umbrella\", 73, 40, 1),(\"waterproof trousers\", 42, 70, 1),\n",
    "            (\"waterproof overclothes\", 43, 75, 1),(\"note-case\", 22, 80, 1),(\"sunglasses\", 7, 20, 1),(\"towel\", 18, 12, 2),\n",
    "            (\"socks\", 4, 50, 1),(\"book\", 30, 10, 2),\n",
    "           )\n",
    "\n",
    "# defining weight and value vectors and weight limit\n",
    "weight_vec = np.array([item[1] for item in items])\n",
    "value_vec = np.array([item[2] for item in items])\n",
    "bound_vec = np.array([item[3] for item in items])\n",
    "Wlimit = 400\n",
    "\n",
    "soln = bounded_algorithm(weights = weight_vec, values = value_vec, bounds=bound_vec, limit = Wlimit, T = 8.10, threshold = 0.51)\n",
    "print('Item: Item #')\n",
    "print('-----------')\n",
    "for k in range(len(soln)):\n",
    "    if soln[k] == 1:\n",
    "        print('%s : %i ' % (items[k][0], items[k][3]))\n",
    "print()        \n",
    "print('Total Value: %i' % (np.dot(soln, value_vec)))\n",
    "print('Total Weight: %i' % (np.dot(soln, weight_vec)))"
   ]
  },
  {
   "cell_type": "code",
   "execution_count": null,
   "id": "square-distance",
   "metadata": {},
   "outputs": [],
   "source": []
  }
 ],
 "metadata": {
  "kernelspec": {
   "display_name": "Python 3",
   "language": "python",
   "name": "python3"
  },
  "language_info": {
   "codemirror_mode": {
    "name": "ipython",
    "version": 3
   },
   "file_extension": ".py",
   "mimetype": "text/x-python",
   "name": "python",
   "nbconvert_exporter": "python",
   "pygments_lexer": "ipython3",
   "version": "3.8.5"
  }
 },
 "nbformat": 4,
 "nbformat_minor": 5
}
