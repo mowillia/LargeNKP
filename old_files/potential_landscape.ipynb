{
 "cells": [
  {
   "cell_type": "code",
   "execution_count": 1,
   "id": "affected-gambling",
   "metadata": {},
   "outputs": [],
   "source": [
    "from KP import KnapsackProblem\n",
    "import matplotlib.pyplot as plt\n",
    "import numpy as np\n",
    "%matplotlib inline\n",
    "\n",
    "### Plot Example\n",
    "plt.rcParams.update({\n",
    "    \"text.usetex\": True,\n",
    "    \"font.family\": \"serif\",\n",
    "    \"font.serif\": [\"Computer Modern Roman\"],\n",
    "})"
   ]
  },
  {
   "cell_type": "markdown",
   "id": "binary-baseball",
   "metadata": {},
   "source": [
    "## Potential Landscape of Continuous Objective Function\n",
    "\n",
    "We plot the function \n",
    "\n",
    "\\begin{equation}\n",
    "F_{N}\\left(z; \\{v_i\\}, \\{w_i\\}, W\\right) = - W \\ln z - \\ln (1-z) + \\sum_{i=1}^N\\ln \\left(1+ z^{ w_i}e^{\\beta v_i}\\right),\n",
    "\\label{eq:knapsack_Fdef}\n",
    "\\end{equation}\n",
    "\n",
    "for a random collection of weights and values. \n",
    "\n",
    "----"
   ]
  },
  {
   "cell_type": "markdown",
   "id": "equivalent-fruit",
   "metadata": {},
   "source": [
    "#### Weight, Value, and Limit"
   ]
  },
  {
   "cell_type": "code",
   "execution_count": 2,
   "id": "armed-tennessee",
   "metadata": {},
   "outputs": [],
   "source": [
    "## Weight and Value Parameters; randomly selected\n",
    "\n",
    "# set seed\n",
    "np.random.seed(42) \n",
    "\n",
    "# number of objects\n",
    "nelems = 100\n",
    "\n",
    "# Randomly choose the value and weight of each object\n",
    "weight_vec = np.random.randint(1,10,nelems)\n",
    "value_vec = np.random.randint(1,10,nelems)\n",
    "\n",
    "# Defining Weight limit as the average \n",
    "# of the weights of randomly chosen objects\n",
    "empt_list = []\n",
    "for k in range(100):\n",
    "    empt_list.append(np.dot(np.random.randint(0,2,nelems), weight_vec))\n",
    "Wlimit = int(np.mean(empt_list))\n",
    "\n",
    "# defining knapsack instance\n",
    "KP_init = KnapsackProblem(weights = weight_vec, values = value_vec, limit = Wlimit)"
   ]
  },
  {
   "cell_type": "markdown",
   "id": "competent-samba",
   "metadata": {},
   "source": [
    "#### Plotting Potential"
   ]
  },
  {
   "cell_type": "code",
   "execution_count": 3,
   "id": "valued-toronto",
   "metadata": {},
   "outputs": [
    {
     "name": "stderr",
     "output_type": "stream",
     "text": [
      "findfont: Font family ['serif'] not found. Falling back to DejaVu Sans.\n"
     ]
    },
    {
     "data": {
      "image/png": "[encoded data removed]",
      "text/plain": [
       "<Figure size 432x360 with 1 Axes>"
      ]
     },
     "metadata": {
      "needs_background": "light"
     },
     "output_type": "display_data"
    }
   ],
   "source": [
    "# plotting \"Potential landscape\"\n",
    "# Taken from interior of `plot_potential_zero_one` in `potential_plots`\n",
    "\n",
    "mvals = 300 # number of points to plot\n",
    "ztest = np.linspace(0.001, 0.99, mvals) # values to evaluate potential\n",
    "Tlist = [0.5, 1.0, 1.5]\n",
    "\n",
    "# figure\n",
    "plt.figure(figsize = (6, 5))\n",
    "ax = plt.subplot(111)\n",
    "\n",
    "marker_list = ['solid', 'dashdot', 'dashed']\n",
    "\n",
    "# Plotting function for three temperature values\n",
    "Fvals_dict = dict() # empty dictionary of F values\n",
    "for i in range(len(Tlist)):\n",
    "    Fvals_dict[i] = np.zeros(mvals)\n",
    "    for k in range(mvals):\n",
    "        Fvals_dict[i][k] = KP_init.potential(z = ztest[k], T = Tlist[i])\n",
    "    ax.plot(ztest, Fvals_dict[i], label = r'$T = %.1f$' % Tlist[i], linestyle = marker_list[i], linewidth = 2.5)\n",
    "\n",
    "\n",
    "# plot sides\n",
    "plt.xlabel(r'$z$', fontsize = 20, x = 1.02)\n",
    "plt.ylabel(r'$F_N(z)$', fontsize = 18, rotation = 0,y = 1.05)\n",
    "plt.yticks(fontsize= 13)\n",
    "plt.xticks(fontsize=13 )\n",
    "ax.spines['right'].set_visible(False)\n",
    "ax.spines['top'].set_visible(False)\n",
    "plt.grid(alpha = 0.5)\n",
    "plt.legend(loc = 'best', fontsize = 15)\n",
    "\n",
    "plt.show()"
   ]
  },
  {
   "cell_type": "code",
   "execution_count": null,
   "id": "d7c69463",
   "metadata": {},
   "outputs": [],
   "source": []
  }
 ],
 "metadata": {
  "kernelspec": {
   "display_name": "Python 3 (ipykernel)",
   "language": "python",
   "name": "python3"
  },
  "language_info": {
   "codemirror_mode": {
    "name": "ipython",
    "version": 3
   },
   "file_extension": ".py",
   "mimetype": "text/x-python",
   "name": "python",
   "nbconvert_exporter": "python",
   "pygments_lexer": "ipython3",
   "version": "3.10.2"
  }
 },
 "nbformat": 4,
 "nbformat_minor": 5
}
