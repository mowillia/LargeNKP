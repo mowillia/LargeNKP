{
 "cells": [
  {
   "cell_type": "code",
   "execution_count": 5,
   "id": "10b543c6",
   "metadata": {},
   "outputs": [],
   "source": [
    "# defining instance\n",
    "import numpy as np\n",
    "# from KP_old import KnapsackProblem\n",
    "from KP import KnapsackProblem, find_root"
   ]
  },
  {
   "cell_type": "markdown",
   "id": "bb58913f",
   "metadata": {},
   "source": [
    "## Dynamical Programming for KP Partition Function \n",
    "\n",
    "**(August 26, 2022)**\n",
    "\n",
    "We have a KP instance defined by a vector of values $\\textbf{v} = (v_1, \\ldots, v_N)$, a vector of weights $\\textbf{w} = (w_1, \\ldots, w_N)$ and a weight limit $W$. The partition function $Z_N(\\beta \\textbf{v}, \\textbf{w}, W)$ (at inverse temperature $\\beta$) for the KP obeys the recursive identity \n",
    "\n",
    "\\begin{equation}\n",
    "Z_N(\\beta \\textbf{v}, \\textbf{w}, W)  = Z_{N-1}^{(N)}(\\beta \\textbf{v}, \\textbf{w}, W) + e^{\\beta v_N}Z^{(N)}_{N-1}(\\beta \\textbf{v}, \\textbf{w}, W-w_N),\n",
    "\\label{eq:dynamic_prog}\n",
    "\\end{equation}\n",
    "\n",
    "where $Z^{(N)}_{N-1}(\\beta \\textbf{v}, \\textbf{w}, W)$ is the partition function for which the $N$th component is eliminated from both $\\textbf{v}$ and $\\textbf{w}$, and thus only $N-1$ items are under consideration. The above identity is tantamount to a dynamic programming solution to the KP partition function. In dynamic programming we build up the solution to a problem by writing said solution in terms of the stored solutions of sub-problems. Similarly the identity shows that we can build up the partition function for the main KP instance by writing it as the sum of partition functions for sub-instances. \n",
    "\n",
    "The partition function in turn allows us to determine the occupancy of object $j$ in the knapsack: We have\n",
    "\n",
    "\\begin{equation}\n",
    "X_j  = 1 - \\lim_{\\beta\\to\\infty}\\frac{Z_{N-1}^{(j)}(\\beta\\textbf{v}, \\textbf{w}, W)}{Z_{N} (\\beta\\textbf{v}, \\textbf{w}, W)},\n",
    "\\label{eq:XsolnSimp}\n",
    "\\end{equation}\n",
    "\n",
    "where $Z^{(j)}_{N-1}(\\beta \\textbf{v}, \\textbf{w}, W)$ is the partition function for which the $j$th component is eliminated from both $\\textbf{v}$ and $\\textbf{w}$. For numerical implementations, we generally cannot take $\\beta\\to \\infty$ without overflow errors, so we will simply take $\\beta$ to be large and finite (or $T$ to be small) after which we will threshold the result for $X_j$ to get a binary prediction.\n",
    "\n",
    "\n",
    "### Knapsack Instance\n",
    "\n",
    "In the following examples, we will use the item list, weights, values, and weight limits given as follows. These values are taken from the problem statement in [RossettaCode Knapsack: 0-1](https://rosettacode.org/wiki/Knapsack_problem/0-1)"
   ]
  },
  {
   "cell_type": "code",
   "execution_count": 6,
   "id": "c73d2883",
   "metadata": {},
   "outputs": [],
   "source": [
    "items = (\n",
    "    (\"map\", 9, 150), (\"compass\", 13, 35), (\"water\", 153, 200), (\"sandwich\", 50, 160),\n",
    "    (\"glucose\", 15, 60), (\"tin\", 68, 45), (\"banana\", 27, 60), (\"apple\", 39, 40),\n",
    "    (\"cheese\", 23, 30), (\"beer\", 52, 10), (\"suntan cream\", 11, 70), (\"camera\", 32, 30),\n",
    "    (\"t-shirt\", 24, 15), (\"trousers\", 48, 10), (\"umbrella\", 73, 40),\n",
    "    (\"waterproof trousers\", 42, 70), (\"waterproof overclothes\", 43, 75),\n",
    "    (\"note-case\", 22, 80), (\"sunglasses\", 7, 20), (\"towel\", 18, 12),\n",
    "    (\"socks\", 4, 50), (\"book\", 30, 10),\n",
    "    )\n",
    "\n",
    "# defining weight and value vectors and weight limit\n",
    "weight_vec = np.array([item[1] for item in items])\n",
    "value_vec = np.array([item[2] for item in items])\n",
    "Wlimit = 400\n",
    "\n",
    "# defining instance of problem\n",
    "KP_camping = KnapsackProblem(weights = weight_vec, values = value_vec, limit = Wlimit)"
   ]
  },
  {
   "cell_type": "code",
   "execution_count": 7,
   "id": "6a215eb7",
   "metadata": {},
   "outputs": [],
   "source": [
    "soln = KP_camping.exact_z_algorithm()"
   ]
  },
  {
   "cell_type": "code",
   "execution_count": null,
   "id": "c3859693",
   "metadata": {},
   "outputs": [],
   "source": []
  },
  {
   "cell_type": "code",
   "execution_count": null,
   "id": "f76f2a95",
   "metadata": {},
   "outputs": [],
   "source": []
  },
  {
   "cell_type": "code",
   "execution_count": 8,
   "id": "23848282",
   "metadata": {},
   "outputs": [],
   "source": [
    "def knapSack_dp(W, weights, values):\n",
    "    N = len(weights)\n",
    "    K = [[0 for x in range(W + 1)] for x in range(N + 1)]\n",
    " \n",
    "    # Build table K[][] in bottom up manner\n",
    "    for i in range(N + 1):\n",
    "        for w in range(W + 1):\n",
    "            if i == 0 or w == 0:\n",
    "                K[i][w] = 0\n",
    "            elif weights[i-1] <= w:\n",
    "                K[i][w] = max(values[i-1]\n",
    "                          + K[i-1][w-weights[i-1]], \n",
    "                              K[i-1][w])\n",
    "            else:\n",
    "                K[i][w] = K[i-1][w]\n",
    " \n",
    "    return K[N][W]"
   ]
  },
  {
   "cell_type": "code",
   "execution_count": 9,
   "id": "a160a3b6",
   "metadata": {},
   "outputs": [
    {
     "ename": "NameError",
     "evalue": "name 'knapSack' is not defined",
     "output_type": "error",
     "traceback": [
      "\u001b[0;31m---------------------------------------------------------------------------\u001b[0m",
      "\u001b[0;31mNameError\u001b[0m                                 Traceback (most recent call last)",
      "Input \u001b[0;32mIn [9]\u001b[0m, in \u001b[0;36m<cell line: 1>\u001b[0;34m()\u001b[0m\n\u001b[0;32m----> 1\u001b[0m \u001b[43mknapSack\u001b[49m(Wlimit, weight_vec, value_vec )\n",
      "\u001b[0;31mNameError\u001b[0m: name 'knapSack' is not defined"
     ]
    }
   ],
   "source": [
    "knapSack(Wlimit, weight_vec, value_vec )"
   ]
  },
  {
   "cell_type": "code",
   "execution_count": 10,
   "id": "9227c4b2",
   "metadata": {},
   "outputs": [
    {
     "data": {
      "text/plain": [
       "True"
      ]
     },
     "execution_count": 10,
     "metadata": {},
     "output_type": "execute_result"
    }
   ],
   "source": [
    "type([4,4,4]) == list"
   ]
  },
  {
   "cell_type": "code",
   "execution_count": 116,
   "id": "9236dee8",
   "metadata": {},
   "outputs": [],
   "source": [
    "# def part_func(beta, W, weights, values):\n",
    "#     N = len(weights)\n",
    "    \n",
    "#     if type(weights) != list:\n",
    "#         weights = list(weights)\n",
    "    \n",
    "#     if type(values) != list:\n",
    "#         values = list(values)  \n",
    "\n",
    "#     Z = [[1 for x in range(W + 1)] for x in range(N + 1)]\n",
    "\n",
    "#     for i in range(N + 1):\n",
    "\n",
    "#         for w in range(W + 1):\n",
    "#             if i == 0 or w == 0:\n",
    "#                 Z[i][w] = 1\n",
    "\n",
    "#             elif weights[i-1] <= w:\n",
    "#                 Z[i][w] = Z[i-1][w] + np.exp(values[i-1]*beta)*Z[i-1][w-weights[i-1]]\n",
    "\n",
    "#             else:\n",
    "#                 Z[i][w] = Z[i-1][w]\n",
    "\n",
    "\n",
    "    \n",
    "#     return Z[N][W]"
   ]
  },
  {
   "cell_type": "code",
   "execution_count": 173,
   "id": "89952c01",
   "metadata": {},
   "outputs": [
    {
     "data": {
      "text/plain": [
       "1.792097746293673"
      ]
     },
     "execution_count": 173,
     "metadata": {},
     "output_type": "execute_result"
    }
   ],
   "source": [
    "np.sum(value_vec)/np.log(1.797693e308)"
   ]
  },
  {
   "cell_type": "code",
   "execution_count": 170,
   "id": "b2961afd",
   "metadata": {},
   "outputs": [
    {
     "data": {
      "text/plain": [
       "709.7827128183643"
      ]
     },
     "execution_count": 170,
     "metadata": {},
     "output_type": "execute_result"
    }
   ],
   "source": [
    "np.log(1.797693e308)"
   ]
  },
  {
   "cell_type": "code",
   "execution_count": 179,
   "id": "9e56b9ee",
   "metadata": {},
   "outputs": [
    {
     "ename": "TypeError",
     "evalue": "round() missing required argument 'number' (pos 1)",
     "output_type": "error",
     "traceback": [
      "\u001b[0;31m---------------------------------------------------------------------------\u001b[0m",
      "\u001b[0;31mTypeError\u001b[0m                                 Traceback (most recent call last)",
      "Input \u001b[0;32mIn [179]\u001b[0m, in \u001b[0;36m<cell line: 1>\u001b[0;34m()\u001b[0m\n\u001b[0;32m----> 1\u001b[0m \u001b[38;5;28;43mround\u001b[39;49m\u001b[43m(\u001b[49m\u001b[43m)\u001b[49m\n",
      "\u001b[0;31mTypeError\u001b[0m: round() missing required argument 'number' (pos 1)"
     ]
    }
   ],
   "source": [
    "round()"
   ]
  },
  {
   "cell_type": "code",
   "execution_count": 183,
   "id": "2f7e02ce",
   "metadata": {},
   "outputs": [],
   "source": [
    "# np.ones(10)[:].pop(4)"
   ]
  },
  {
   "cell_type": "code",
   "execution_count": 34,
   "id": "b107fb5e",
   "metadata": {},
   "outputs": [],
   "source": [
    "# first version of algorithm\n",
    "def X_Zsoln(W, weights, values, rounded=True):\n",
    "    '''\n",
    "    Computes the exact partition function for the KP \n",
    "    using dynamical programming and then uses this solution\n",
    "    to write the solution to the KP.\n",
    "    \n",
    "    '''\n",
    "    \n",
    "    # defining temperature as lowest as possible\n",
    "    T = np.sum(values)/np.log(1.797693e308)\n",
    "    \n",
    "    # number of possible items\n",
    "    N = len(weights)\n",
    "    \n",
    "    # empty list for solutions\n",
    "    X = [0 for x in range(N)]\n",
    "    \n",
    "    # converting to lists if arrays\n",
    "    if type(weights) != list:\n",
    "        weights = list(weights)    \n",
    "    if type(values) != list:\n",
    "        values = list(values)\n",
    "    \n",
    "    # assembling solution\n",
    "    for idx in range(N):\n",
    "        \n",
    "        # copying weight and value vector\n",
    "        w_vec, v_vec = weights[:], values[:]\n",
    "        \n",
    "        # getting desired element\n",
    "        wt, val = w_vec[idx], v_vec[idx]\n",
    "        \n",
    "        # reordering weight and value vectors to put chosen \n",
    "        # index element at the end        \n",
    "        w_vec.pop(idx)\n",
    "        w_vec.append(wt)\n",
    "        \n",
    "        v_vec.pop(idx)\n",
    "        v_vec.append(val) \n",
    "\n",
    "        # defining empty partition function matrix\n",
    "        Z = [[1 for x in range(W + 1)] for q in range(N + 1)]\n",
    "\n",
    "        # implementing recursion identity \n",
    "        for i in range(N + 1):\n",
    "\n",
    "            for w in range(W + 1):\n",
    "                if i == 0 or w == 0:\n",
    "                    Z[i][w] = 1\n",
    "                    \n",
    "                else:\n",
    "                    # final factor ensures second term is zero for negative weights\n",
    "                    Z[i][w] = Z[i-1][w] + np.exp(v_vec[i-1]/T)*Z[i-1][w-w_vec[i-1]]*(w-w_vec[i-1]>=0)                 \n",
    "                    \n",
    "        # Using solution identity\n",
    "        X[idx] = 1-Z[N-1][W]/Z[N][W]\n",
    "    \n",
    "    if rounded:\n",
    "        X =  [round(elem) for elem in X]\n",
    "    \n",
    "    return X"
   ]
  },
  {
   "cell_type": "code",
   "execution_count": null,
   "id": "3d285959",
   "metadata": {},
   "outputs": [],
   "source": [
    "# second version of algorithm\n",
    "def X_Zsoln_2ndversion(W, weights, values, rounded=True):\n",
    "    '''\n",
    "    Computes the exact partition function for the KP \n",
    "    using dynamical programming and then uses this solution\n",
    "    to write the solution to the KP.\n",
    "    \n",
    "    '''\n",
    "    \n",
    "    # defining temperature as lowest as possible\n",
    "    T = np.sum(values)/np.log(1.797693e308)\n",
    "#     T = 1.5\n",
    "    \n",
    "    # number of possible items\n",
    "    N = len(weights)\n",
    "    \n",
    "    # copying weight and value vector\n",
    "    w_vec, v_vec = weights[:], values[:]\n",
    "\n",
    "    # defining empty partition function matrix\n",
    "    Z = [[1 for x in range(W + 1)] for q in range(N + 1)]\n",
    "\n",
    "    # implementing recursion identity \n",
    "    for i in range(1, N + 1):\n",
    "\n",
    "        for w in range(1, W + 1):\n",
    "\n",
    "            else:\n",
    "                # final factor ensures second term is zero for negative weights\n",
    "                Z[i][w] = Z[i-1][w] + np.exp(v_vec[i-1]/T)*Z[i-1][w-w_vec[i-1]]*(w-w_vec[i-1]>=0)                 \n",
    "    \n",
    "    # computing results vector\n",
    "    results = [0]*N\n",
    "    w = W\n",
    "    for j in range(N, 0, -1):\n",
    "        # using X_j definition\n",
    "        was_added = 1-Z[j-1][w]/Z[j][w] > 0.5\n",
    "\n",
    "        if was_added:\n",
    "            results[j-1] = 1\n",
    "            w -= w_vec[j-1]\n",
    "\n",
    "    return results"
   ]
  },
  {
   "cell_type": "code",
   "execution_count": 35,
   "id": "90246539",
   "metadata": {},
   "outputs": [],
   "source": [
    "# solving KP with dynamical programming partition function\n",
    "soln = X_Zsoln_test(Wlimit, weight_vec, value_vec )"
   ]
  },
  {
   "cell_type": "code",
   "execution_count": 36,
   "id": "cbed619d",
   "metadata": {
    "scrolled": true
   },
   "outputs": [
    {
     "data": {
      "text/plain": [
       "1030"
      ]
     },
     "execution_count": 36,
     "metadata": {},
     "output_type": "execute_result"
    }
   ],
   "source": [
    "np.dot(soln, value_vec)"
   ]
  },
  {
   "cell_type": "code",
   "execution_count": 150,
   "id": "8e766b2b",
   "metadata": {},
   "outputs": [
    {
     "name": "stdout",
     "output_type": "stream",
     "text": [
      "map\n",
      "compass\n",
      "water\n",
      "sandwich\n",
      "glucose\n",
      "banana\n",
      "suntan cream\n",
      "waterproof trousers\n",
      "waterproof overclothes\n",
      "note-case\n",
      "sunglasses\n",
      "socks\n"
     ]
    }
   ],
   "source": [
    "for k in range(len(soln)):\n",
    "    if soln[k] == 1:\n",
    "        print(items[k][0])"
   ]
  },
  {
   "cell_type": "markdown",
   "id": "2e09ec5f",
   "metadata": {},
   "source": [
    "### Running Large W Algorithm"
   ]
  },
  {
   "cell_type": "code",
   "execution_count": 4,
   "id": "674d6cf8",
   "metadata": {
    "scrolled": true
   },
   "outputs": [
    {
     "name": "stdout",
     "output_type": "stream",
     "text": [
      "map\n",
      "compass\n",
      "water\n",
      "sandwich\n",
      "glucose\n",
      "banana\n",
      "suntan cream\n",
      "waterproof trousers\n",
      "waterproof overclothes\n",
      "note-case\n",
      "sunglasses\n",
      "socks\n"
     ]
    }
   ],
   "source": [
    "soln = KP_camping.largeW_algorithm(T=1.0)\n",
    "for k in range(len(soln)):\n",
    "    if soln[k] == 1:\n",
    "        print(items[k][0])"
   ]
  },
  {
   "cell_type": "markdown",
   "id": "587c018d",
   "metadata": {},
   "source": [
    "### Plotting Potential Function"
   ]
  },
  {
   "cell_type": "code",
   "execution_count": 5,
   "id": "ed15b2d8",
   "metadata": {},
   "outputs": [
    {
     "data": {
      "image/png": "[encoded data removed]",
      "text/plain": [
       "<Figure size 432x360 with 1 Axes>"
      ]
     },
     "metadata": {
      "needs_background": "light"
     },
     "output_type": "display_data"
    }
   ],
   "source": [
    "KP_camping.plot_potential(T = .75)"
   ]
  },
  {
   "cell_type": "markdown",
   "id": "c131363b",
   "metadata": {},
   "source": [
    "### Plotting Temperature Dependence of Value"
   ]
  },
  {
   "cell_type": "code",
   "execution_count": 6,
   "id": "466704f4",
   "metadata": {},
   "outputs": [
    {
     "name": "stderr",
     "output_type": "stream",
     "text": [
      "/Users/mobolajiwilliams/Dropbox/0Tex_Files_Mac/ipython_personal/LargeNKP/KP.py:238: RuntimeWarning: invalid value encountered in log\n",
      "  return - self.limit*np.log(z)-np.log(1-z) + np.sum(np.log(1+z**(self.weights)*np.exp(self.values/T)))\n"
     ]
    },
    {
     "data": {
      "image/png": "[encoded data removed]",
      "text/plain": [
       "<Figure size 432x360 with 1 Axes>"
      ]
     },
     "metadata": {
      "needs_background": "light"
     },
     "output_type": "display_data"
    }
   ],
   "source": [
    "KP_camping.plot_value_vs_temp(temp_low=1.0, temp_high = 60.0)"
   ]
  },
  {
   "cell_type": "markdown",
   "id": "ed0c9875",
   "metadata": {},
   "source": [
    "### Algorithm Comparison"
   ]
  },
  {
   "cell_type": "code",
   "execution_count": 7,
   "id": "f6c9ad41",
   "metadata": {},
   "outputs": [],
   "source": [
    "from tabulate import tabulate\n",
    "from collections import defaultdict\n",
    "\n",
    "import time"
   ]
  },
  {
   "cell_type": "code",
   "execution_count": 10,
   "id": "5c73184c",
   "metadata": {},
   "outputs": [
    {
     "name": "stdout",
     "output_type": "stream",
     "text": [
      "Stopping annealing because error tolerance was reached\n",
      "+----------------+---------+-----------+--------------+\n",
      "| Algorithm      |   Value |   Weight  |   Time (sec) |\n",
      "+================+=========+===========+==============+\n",
      "| Brute          |    1030 |       396 |     18.2886  |\n",
      "+----------------+---------+-----------+--------------+\n",
      "| DP             |    1030 |       396 |      0.00418 |\n",
      "+----------------+---------+-----------+--------------+\n",
      "| FPTAS          |    1030 |       396 |      0.00532 |\n",
      "+----------------+---------+-----------+--------------+\n",
      "| Greedy         |    1030 |       396 |      8e-05   |\n",
      "+----------------+---------+-----------+--------------+\n",
      "| Annealing      |     857 |       396 |      0.07015 |\n",
      "+----------------+---------+-----------+--------------+\n",
      "| Large W (T=0)  |    1030 |       396 |      0.0603  |\n",
      "+----------------+---------+-----------+--------------+\n",
      "| Large W (T/=0) |    1030 |       396 |      0.00362 |\n",
      "+----------------+---------+-----------+--------------+\n"
     ]
    }
   ],
   "source": [
    "# dictionary of algorithm names and functions\n",
    "algo_name_dict = {'Brute': KP_camping.brute_force,\n",
    "                  'DP': KP_camping.knapsack01_dpV,\n",
    "                  'FPTAS': KP_camping.fptas,\n",
    "                  'Greedy': KP_camping.greedy,\n",
    "                  'Annealing': KP_camping.simann_knapsack,\n",
    "                  'Large W (T=0)': KP_camping.largeW_algorithm,\n",
    "                  'Large W (T/=0)': KP_camping.largeW_algorithm}\n",
    "\n",
    "# dictionary of algorithm names and results\n",
    "results_name_dict = defaultdict(lambda: list())\n",
    "\n",
    "for name, func in algo_name_dict.items():\n",
    "    start_clock = time.time()\n",
    "    if name == 'Large W (T/=0)':\n",
    "        soln = func(T=1.0)\n",
    "    else:    \n",
    "        soln = func()    \n",
    "    \n",
    "    # calculating values\n",
    "    tot_value = str(round(np.dot(value_vec, soln), 0))\n",
    "    tot_weight = str(round(np.dot(weight_vec, soln), 0))\n",
    "    time_calc = str(round(time.time()-start_clock, 5)) \n",
    "    \n",
    "    # assembling results\n",
    "    results_name_dict[name] = [name, tot_value, tot_weight, time_calc]\n",
    "    \n",
    "# creating table of results\n",
    "tabular_results = []\n",
    "for k, v in results_name_dict.items():\n",
    "    tabular_results.append(v) \n",
    "\n",
    "print(tabulate(tabular_results, [\"Algorithm\", \"Value\", \"Weight \", \"Time (sec)\"], tablefmt=\"grid\"))"
   ]
  }
 ],
 "metadata": {
  "kernelspec": {
   "display_name": "Python 3 (ipykernel)",
   "language": "python",
   "name": "python3"
  },
  "language_info": {
   "codemirror_mode": {
    "name": "ipython",
    "version": 3
   },
   "file_extension": ".py",
   "mimetype": "text/x-python",
   "name": "python",
   "nbconvert_exporter": "python",
   "pygments_lexer": "ipython3",
   "version": "3.10.2"
  }
 },
 "nbformat": 4,
 "nbformat_minor": 5
}
