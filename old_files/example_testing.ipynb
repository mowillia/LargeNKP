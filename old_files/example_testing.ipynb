{
 "cells": [
  {
   "cell_type": "markdown",
   "id": "bb58913f",
   "metadata": {},
   "source": [
    "## Quick Start Examples\n",
    "\n",
    "\n",
    "### Knapsack Instance\n",
    "\n",
    "In the following examples, we will use the item list, weights, values, and weight limits given as follows. These values are taken from the problem statement in [RossettaCode Knapsack: 0-1](https://rosettacode.org/wiki/Knapsack_problem/0-1)"
   ]
  },
  {
   "cell_type": "code",
   "execution_count": 206,
   "id": "b064bb37",
   "metadata": {},
   "outputs": [
    {
     "name": "stdout",
     "output_type": "stream",
     "text": [
      "3.141592653589793\n"
     ]
    }
   ],
   "source": [
    "import mpmath as mp\n",
    "mp.dps = 30; mp.pretty = True\n",
    "print(float(mp.findroot(mp.sin, 3)))"
   ]
  },
  {
   "cell_type": "code",
   "execution_count": 289,
   "id": "32ad17db",
   "metadata": {},
   "outputs": [
    {
     "name": "stderr",
     "output_type": "stream",
     "text": [
      "/var/folders/c4/fvxhsb8j6kb6c97612_b98k00000gn/T/ipykernel_98108/2509924834.py:1: RuntimeWarning: overflow encountered in exp\n",
      "  np.exp(800)\n"
     ]
    },
    {
     "data": {
      "text/plain": [
       "inf"
      ]
     },
     "execution_count": 289,
     "metadata": {},
     "output_type": "execute_result"
    }
   ],
   "source": [
    "np.exp(800)"
   ]
  },
  {
   "cell_type": "code",
   "execution_count": 294,
   "id": "6e19f60c",
   "metadata": {},
   "outputs": [
    {
     "data": {
      "text/plain": [
       "mpf('1.4657628444614842e+391')"
      ]
     },
     "execution_count": 294,
     "metadata": {},
     "output_type": "execute_result"
    }
   ],
   "source": [
    "mp.exp(900)+mp.exp(900)"
   ]
  },
  {
   "cell_type": "code",
   "execution_count": 314,
   "id": "04278ab9",
   "metadata": {},
   "outputs": [
    {
     "data": {
      "text/plain": [
       "array([mpf('9.9999999999999763e+29'), mpf('9.9999999999999531e+59')],\n",
       "      dtype=object)"
      ]
     },
     "execution_count": 314,
     "metadata": {},
     "output_type": "execute_result"
    }
   ],
   "source": [
    "mp_exp_array(-np.array([10,20])*mp.log(0.001))"
   ]
  },
  {
   "cell_type": "code",
   "execution_count": 299,
   "id": "3a2a6658",
   "metadata": {},
   "outputs": [],
   "source": [
    "mp_exp_array = np.frompyfunc(mp.exp, 1, 1)\n",
    "mp_z_array = np."
   ]
  },
  {
   "cell_type": "code",
   "execution_count": 312,
   "id": "c8e81fa6",
   "metadata": {},
   "outputs": [
    {
     "data": {
      "text/plain": [
       "array([mpf('22026.465794806718'), mpf('44052.931589613436'),\n",
       "       mpf('66079.397384420154')], dtype=object)"
      ]
     },
     "execution_count": 312,
     "metadata": {},
     "output_type": "execute_result"
    }
   ],
   "source": [
    "mp_exp_array(np.array([10,10,10]))*np.array([1,2,3])"
   ]
  },
  {
   "cell_type": "code",
   "execution_count": 1307,
   "id": "6fca264a",
   "metadata": {},
   "outputs": [],
   "source": [
    "# deriv_potential = lambda z, T, weights, values, limit: -limit/z+ 1/(1-z) + (1/z)*np.sum(weights/(mp_exp_array(-values/T)*mp_exp_array(-weights*mp.log(z)) + 1))   "
   ]
  },
  {
   "cell_type": "code",
   "execution_count": 1315,
   "id": "f7ca3321",
   "metadata": {},
   "outputs": [
    {
     "ename": "KeyboardInterrupt",
     "evalue": "",
     "output_type": "error",
     "traceback": [
      "\u001b[0;31m---------------------------------------------------------------------------\u001b[0m",
      "\u001b[0;31mKeyboardInterrupt\u001b[0m                         Traceback (most recent call last)",
      "Input \u001b[0;32mIn [1315]\u001b[0m, in \u001b[0;36m<cell line: 4>\u001b[0;34m()\u001b[0m\n\u001b[1;32m      3\u001b[0m deltaz \u001b[38;5;241m=\u001b[39m \u001b[38;5;241m1e-7\u001b[39m\n\u001b[1;32m      4\u001b[0m \u001b[38;5;28;01mfor\u001b[39;00m k \u001b[38;5;129;01min\u001b[39;00m \u001b[38;5;28mrange\u001b[39m(\u001b[38;5;28mint\u001b[39m(\u001b[38;5;241m1e13\u001b[39m)):\n\u001b[0;32m----> 5\u001b[0m     z0 \u001b[38;5;241m=\u001b[39m z0\u001b[38;5;241m-\u001b[39m\u001b[43mderiv_potential\u001b[49m\u001b[43m(\u001b[49m\u001b[43mz0\u001b[49m\u001b[43m,\u001b[49m\u001b[43m \u001b[49m\u001b[43mT0\u001b[49m\u001b[43m,\u001b[49m\u001b[43m \u001b[49m\u001b[43mweight_vec\u001b[49m\u001b[43m,\u001b[49m\u001b[43m \u001b[49m\u001b[43mvalue_vec\u001b[49m\u001b[43m,\u001b[49m\u001b[43m \u001b[49m\u001b[43mWlimit\u001b[49m\u001b[43m)\u001b[49m\n\u001b[1;32m      6\u001b[0m \u001b[38;5;28mprint\u001b[39m(z0)\n",
      "Input \u001b[0;32mIn [1307]\u001b[0m, in \u001b[0;36m<lambda>\u001b[0;34m(z, T, weights, values, limit)\u001b[0m\n\u001b[0;32m----> 1\u001b[0m deriv_potential \u001b[38;5;241m=\u001b[39m \u001b[38;5;28;01mlambda\u001b[39;00m z, T, weights, values, limit: \u001b[38;5;241m-\u001b[39mlimit\u001b[38;5;241m/\u001b[39mz\u001b[38;5;241m+\u001b[39m \u001b[38;5;241m1\u001b[39m\u001b[38;5;241m/\u001b[39m(\u001b[38;5;241m1\u001b[39m\u001b[38;5;241m-\u001b[39mz) \u001b[38;5;241m+\u001b[39m (\u001b[38;5;241m1\u001b[39m\u001b[38;5;241m/\u001b[39mz)\u001b[38;5;241m*\u001b[39mnp\u001b[38;5;241m.\u001b[39msum(weights\u001b[38;5;241m/\u001b[39m(mp_exp_array(\u001b[38;5;241m-\u001b[39mvalues\u001b[38;5;241m/\u001b[39mT)\u001b[38;5;241m*\u001b[39m\u001b[43mmp_exp_array\u001b[49m\u001b[43m(\u001b[49m\u001b[38;5;241;43m-\u001b[39;49m\u001b[43mweights\u001b[49m\u001b[38;5;241;43m*\u001b[39;49m\u001b[43mmp\u001b[49m\u001b[38;5;241;43m.\u001b[39;49m\u001b[43mlog\u001b[49m\u001b[43m(\u001b[49m\u001b[43mz\u001b[49m\u001b[43m)\u001b[49m\u001b[43m)\u001b[49m \u001b[38;5;241m+\u001b[39m \u001b[38;5;241m1\u001b[39m))\n",
      "File \u001b[0;32m/Library/Frameworks/Python.framework/Versions/3.10/lib/python3.10/site-packages/mpmath/ctx_mp_python.py:1005\u001b[0m, in \u001b[0;36mPythonMPContext._wrap_libmp_function.<locals>.f\u001b[0;34m(x, **kwargs)\u001b[0m\n\u001b[1;32m   1003\u001b[0m         \u001b[38;5;28;01mreturn\u001b[39;00m ctx\u001b[38;5;241m.\u001b[39mmake_mpc(mpc_f((x\u001b[38;5;241m.\u001b[39m_mpf_, fzero), prec, rounding))\n\u001b[1;32m   1004\u001b[0m \u001b[38;5;28;01melif\u001b[39;00m \u001b[38;5;28mhasattr\u001b[39m(x, \u001b[38;5;124m'\u001b[39m\u001b[38;5;124m_mpc_\u001b[39m\u001b[38;5;124m'\u001b[39m):\n\u001b[0;32m-> 1005\u001b[0m     \u001b[38;5;28;01mreturn\u001b[39;00m ctx\u001b[38;5;241m.\u001b[39mmake_mpc(\u001b[43mmpc_f\u001b[49m\u001b[43m(\u001b[49m\u001b[43mx\u001b[49m\u001b[38;5;241;43m.\u001b[39;49m\u001b[43m_mpc_\u001b[49m\u001b[43m,\u001b[49m\u001b[43m \u001b[49m\u001b[43mprec\u001b[49m\u001b[43m,\u001b[49m\u001b[43m \u001b[49m\u001b[43mrounding\u001b[49m\u001b[43m)\u001b[49m)\n\u001b[1;32m   1006\u001b[0m \u001b[38;5;28;01mraise\u001b[39;00m \u001b[38;5;167;01mNotImplementedError\u001b[39;00m(\u001b[38;5;124m\"\u001b[39m\u001b[38;5;132;01m%s\u001b[39;00m\u001b[38;5;124m of a \u001b[39m\u001b[38;5;132;01m%s\u001b[39;00m\u001b[38;5;124m\"\u001b[39m \u001b[38;5;241m%\u001b[39m (name, \u001b[38;5;28mtype\u001b[39m(x)))\n",
      "File \u001b[0;32m/Library/Frameworks/Python.framework/Versions/3.10/lib/python3.10/site-packages/mpmath/libmp/libmpc.py:439\u001b[0m, in \u001b[0;36mmpc_exp\u001b[0;34m(z, prec, rnd)\u001b[0m\n\u001b[1;32m    437\u001b[0m     \u001b[38;5;28;01mreturn\u001b[39;00m mpf_exp(a, prec, rnd), fzero\n\u001b[1;32m    438\u001b[0m mag \u001b[38;5;241m=\u001b[39m mpf_exp(a, prec\u001b[38;5;241m+\u001b[39m\u001b[38;5;241m4\u001b[39m, rnd)\n\u001b[0;32m--> 439\u001b[0m c, s \u001b[38;5;241m=\u001b[39m \u001b[43mmpf_cos_sin\u001b[49m\u001b[43m(\u001b[49m\u001b[43mb\u001b[49m\u001b[43m,\u001b[49m\u001b[43m \u001b[49m\u001b[43mprec\u001b[49m\u001b[38;5;241;43m+\u001b[39;49m\u001b[38;5;241;43m4\u001b[39;49m\u001b[43m,\u001b[49m\u001b[43m \u001b[49m\u001b[43mrnd\u001b[49m\u001b[43m)\u001b[49m\n\u001b[1;32m    440\u001b[0m re \u001b[38;5;241m=\u001b[39m mpf_mul(mag, c, prec, rnd)\n\u001b[1;32m    441\u001b[0m im \u001b[38;5;241m=\u001b[39m mpf_mul(mag, s, prec, rnd)\n",
      "File \u001b[0;32m/Library/Frameworks/Python.framework/Versions/3.10/lib/python3.10/site-packages/mpmath/libmp/libelefun.py:1368\u001b[0m, in \u001b[0;36mmpf_cos_sin\u001b[0;34m(x, prec, rnd, which, pi)\u001b[0m\n\u001b[1;32m   1366\u001b[0m     s \u001b[38;5;241m=\u001b[39m \u001b[38;5;241m-\u001b[39ms\n\u001b[1;32m   1367\u001b[0m \u001b[38;5;28;01mif\u001b[39;00m which \u001b[38;5;241m==\u001b[39m \u001b[38;5;241m0\u001b[39m:\n\u001b[0;32m-> 1368\u001b[0m     c \u001b[38;5;241m=\u001b[39m \u001b[43mfrom_man_exp\u001b[49m\u001b[43m(\u001b[49m\u001b[43mc\u001b[49m\u001b[43m,\u001b[49m\u001b[43m \u001b[49m\u001b[38;5;241;43m-\u001b[39;49m\u001b[43mwp\u001b[49m\u001b[43m,\u001b[49m\u001b[43m \u001b[49m\u001b[43mprec\u001b[49m\u001b[43m,\u001b[49m\u001b[43m \u001b[49m\u001b[43mrnd\u001b[49m\u001b[43m)\u001b[49m\n\u001b[1;32m   1369\u001b[0m     s \u001b[38;5;241m=\u001b[39m from_man_exp(s, \u001b[38;5;241m-\u001b[39mwp, prec, rnd)\n\u001b[1;32m   1370\u001b[0m     \u001b[38;5;28;01mreturn\u001b[39;00m c, s\n",
      "File \u001b[0;32m/Library/Frameworks/Python.framework/Versions/3.10/lib/python3.10/site-packages/mpmath/libmp/libmpf.py:320\u001b[0m, in \u001b[0;36mfrom_man_exp\u001b[0;34m(man, exp, prec, rnd)\u001b[0m\n\u001b[1;32m    318\u001b[0m         bc \u001b[38;5;241m-\u001b[39m\u001b[38;5;241m=\u001b[39m t\n\u001b[1;32m    319\u001b[0m     \u001b[38;5;28;01mreturn\u001b[39;00m (sign, man, exp, bc)\n\u001b[0;32m--> 320\u001b[0m \u001b[38;5;28;01mreturn\u001b[39;00m \u001b[43mnormalize\u001b[49m\u001b[43m(\u001b[49m\u001b[43msign\u001b[49m\u001b[43m,\u001b[49m\u001b[43m \u001b[49m\u001b[43mman\u001b[49m\u001b[43m,\u001b[49m\u001b[43m \u001b[49m\u001b[43mexp\u001b[49m\u001b[43m,\u001b[49m\u001b[43m \u001b[49m\u001b[43mbc\u001b[49m\u001b[43m,\u001b[49m\u001b[43m \u001b[49m\u001b[43mprec\u001b[49m\u001b[43m,\u001b[49m\u001b[43m \u001b[49m\u001b[43mrnd\u001b[49m\u001b[43m)\u001b[49m\n",
      "File \u001b[0;32m/Library/Frameworks/Python.framework/Versions/3.10/lib/python3.10/site-packages/mpmath/libmp/libmpf.py:153\u001b[0m, in \u001b[0;36m_normalize\u001b[0;34m(sign, man, exp, bc, prec, rnd)\u001b[0m\n\u001b[1;32m    142\u001b[0m shifts_down \u001b[38;5;241m=\u001b[39m {round_floor:(\u001b[38;5;241m1\u001b[39m,\u001b[38;5;241m0\u001b[39m), round_ceiling:(\u001b[38;5;241m0\u001b[39m,\u001b[38;5;241m1\u001b[39m),\n\u001b[1;32m    143\u001b[0m     round_down:(\u001b[38;5;241m1\u001b[39m,\u001b[38;5;241m1\u001b[39m), round_up:(\u001b[38;5;241m0\u001b[39m,\u001b[38;5;241m0\u001b[39m)}\n\u001b[1;32m    146\u001b[0m \u001b[38;5;66;03m#----------------------------------------------------------------------------#\u001b[39;00m\n\u001b[1;32m    147\u001b[0m \u001b[38;5;66;03m#                          Normalization of raw mpfs                         #\u001b[39;00m\n\u001b[1;32m    148\u001b[0m \u001b[38;5;66;03m#----------------------------------------------------------------------------#\u001b[39;00m\n\u001b[1;32m    149\u001b[0m \n\u001b[1;32m    150\u001b[0m \u001b[38;5;66;03m# This function is called almost every time an mpf is created.\u001b[39;00m\n\u001b[1;32m    151\u001b[0m \u001b[38;5;66;03m# It has been optimized accordingly.\u001b[39;00m\n\u001b[0;32m--> 153\u001b[0m \u001b[38;5;28;01mdef\u001b[39;00m \u001b[38;5;21m_normalize\u001b[39m(sign, man, exp, bc, prec, rnd):\n\u001b[1;32m    154\u001b[0m     \u001b[38;5;124;03m\"\"\"\u001b[39;00m\n\u001b[1;32m    155\u001b[0m \u001b[38;5;124;03m    Create a raw mpf tuple with value (-1)**sign * man * 2**exp and\u001b[39;00m\n\u001b[1;32m    156\u001b[0m \u001b[38;5;124;03m    normalized mantissa. The mantissa is rounded in the specified\u001b[39;00m\n\u001b[0;32m   (...)\u001b[0m\n\u001b[1;32m    169\u001b[0m \u001b[38;5;124;03m    of the conversion functions to create normalized raw mpf tuples.\u001b[39;00m\n\u001b[1;32m    170\u001b[0m \u001b[38;5;124;03m    \"\"\"\u001b[39;00m\n\u001b[1;32m    171\u001b[0m     \u001b[38;5;28;01mif\u001b[39;00m \u001b[38;5;129;01mnot\u001b[39;00m man:\n",
      "\u001b[0;31mKeyboardInterrupt\u001b[0m: "
     ]
    }
   ],
   "source": [
    "# z0 = 0.25\n",
    "# deriv_potential(z0, T0, weight_vec, value_vec, Wlimit)\n",
    "# deltaz = 1e-7\n",
    "# for k in range(int(1e13)):\n",
    "#     z0 = z0-deriv_potential(z0, T0, weight_vec, value_vec, Wlimit)\n",
    "# print(z0)"
   ]
  },
  {
   "cell_type": "code",
   "execution_count": 1313,
   "id": "1c7617be",
   "metadata": {},
   "outputs": [
    {
     "data": {
      "text/plain": [
       "0.1"
      ]
     },
     "execution_count": 1313,
     "metadata": {},
     "output_type": "execute_result"
    }
   ],
   "source": [
    "T0"
   ]
  },
  {
   "cell_type": "code",
   "execution_count": 439,
   "id": "d959e32f",
   "metadata": {},
   "outputs": [],
   "source": [
    "test_constraint = lambda z, T, weights, values, limit: -limit+ z/(1-z) + np.sum(weights/(mp_exp_array(-values/T)*mp_exp_array(-weights*mp.log(z)) + 1))   "
   ]
  },
  {
   "cell_type": "code",
   "execution_count": 1097,
   "id": "749adc77",
   "metadata": {},
   "outputs": [],
   "source": [
    "test_constraint_deriv = lambda z, T, weights, values, limit: 1/(1-z)**2 + np.sum(weights**2*mp_exp_array(-(weights+1)*mp.log(z))*mp_exp_array(-values/T)/(mp_exp_array(-values/T)*mp_exp_array(-weights*mp.log(z)) + 1)**2)   "
   ]
  },
  {
   "cell_type": "code",
   "execution_count": 1100,
   "id": "56f1aa3b",
   "metadata": {},
   "outputs": [
    {
     "data": {
      "text/plain": [
       "mpc(real='1.2014768464178407e-4685113255847602394141246519210', imag='-5.8447586216225187e-4685113255847602394141246519215')"
      ]
     },
     "execution_count": 1100,
     "metadata": {},
     "output_type": "execute_result"
    }
   ],
   "source": [
    "test_constraint_deriv(z0, T0, weight_vec, value_vec, Wlimit)"
   ]
  },
  {
   "cell_type": "code",
   "execution_count": 1107,
   "id": "ca51cfe1",
   "metadata": {},
   "outputs": [
    {
     "data": {
      "text/plain": [
       "-1"
      ]
     },
     "execution_count": 1107,
     "metadata": {},
     "output_type": "execute_result"
    }
   ],
   "source": [
    "z0 = 0.15\n",
    "for k in range(100):\n",
    "    zf = z0 - test_constraint(z0, T0, weight_vec, value_vec, Wlimit)/test_constraint_deriv(z0, T0, weight_vec, value_vec, Wlimit)\n",
    "    z0 = zf\n",
    "np.sign(zf.real)"
   ]
  },
  {
   "cell_type": "code",
   "execution_count": 1112,
   "id": "29e0d3c1",
   "metadata": {},
   "outputs": [
    {
     "data": {
      "text/plain": [
       "0.7300991853753718"
      ]
     },
     "execution_count": 1112,
     "metadata": {},
     "output_type": "execute_result"
    }
   ],
   "source": [
    "a = 1e-9\n",
    "b = 1-1e-9\n",
    "c = (a+b)/2\n",
    "for k in range(30):\n",
    "    f_a = test_constraint(a, T0, weight_vec, value_vec, Wlimit).real\n",
    "    f_b = test_constraint(b, T0, weight_vec, value_vec, Wlimit).real\n",
    "    f_c = test_constraint(c, T0, weight_vec, value_vec, Wlimit).real\n",
    "    \n",
    "    if np.sign(f_a) == -np.sign(f_c):\n",
    "        b = c\n",
    "        c = (a+b)/2\n",
    "        \n",
    "    elif np.sign(f_b) == -np.sign(f_c):  \n",
    "        a = c\n",
    "        c = (a+b)/2\n",
    "\n",
    "c"
   ]
  },
  {
   "cell_type": "code",
   "execution_count": 1113,
   "id": "14f7e1a4",
   "metadata": {},
   "outputs": [],
   "source": [
    "def find_root_bijection(func, num_bijections = 20, **args):\n",
    "\n",
    "    \"\"\"\n",
    "    Finds the root of a function in the domain (0, 1) by \n",
    "    the bijection method\n",
    "\n",
    "    Parameters\n",
    "    ----------\n",
    "    func : function\n",
    "        Function for which we are seeking the root\n",
    "        \n",
    "    num_powers : int\n",
    "        Number of powers of 10 to include in final answer\n",
    "\n",
    "    Returns\n",
    "    ----------\n",
    "    fin_z : float\n",
    "        Value of critical point\n",
    "\n",
    "    error : float \n",
    "        How far function is from zero at this critical point\n",
    "\n",
    "    \"\"\"        \n",
    "    \n",
    "    a = 1e-9\n",
    "    b = 1-1e-9\n",
    "    c = (a+b)/2\n",
    "\n",
    "    for k in range(num_bijections):\n",
    "        f_a = func(a, **args).real\n",
    "        f_b = func(b, **args).real\n",
    "        f_c = func(c, **args).real\n",
    "\n",
    "        if np.sign(f_a) == -np.sign(f_c):\n",
    "            b = c\n",
    "            c = (a+b)/2\n",
    "\n",
    "        elif np.sign(f_b) == -np.sign(f_c):  \n",
    "            a = c\n",
    "            c = (a+b)/2\n",
    "\n",
    "    fin_z = c\n",
    "    error = func(c, **args).real\n",
    "\n",
    "    return fin_z, error  "
   ]
  },
  {
   "cell_type": "code",
   "execution_count": 1438,
   "id": "3222e10c",
   "metadata": {},
   "outputs": [
    {
     "name": "stdout",
     "output_type": "stream",
     "text": [
      "Elapsed Time: 0.003326 secs\n"
     ]
    },
    {
     "name": "stderr",
     "output_type": "stream",
     "text": [
      "/var/folders/c4/fvxhsb8j6kb6c97612_b98k00000gn/T/ipykernel_98108/597087447.py:3: RuntimeWarning: overflow encountered in exp\n",
      "  test_constraint = lambda z, T, weights, values, limit: -limit+ z/(1-z) + np.sum(weights/(np.exp(-values/T)*np.exp(-weights*np.log(z)) + 1))\n"
     ]
    },
    {
     "data": {
      "text/plain": [
       "0.27536344573125554"
      ]
     },
     "execution_count": 1438,
     "metadata": {},
     "output_type": "execute_result"
    }
   ],
   "source": [
    "T0 = 1.0\n",
    "start_time = time.time()\n",
    "\n",
    "zval, _ = find_root_bijection(test_constraint, T=T0, weights=weight_vec, values=value_vec, limit=Wlimit)\n",
    "\n",
    "print('Elapsed Time: {:2f} secs'.format( time.time()-start_time))\n",
    "zval"
   ]
  },
  {
   "cell_type": "code",
   "execution_count": null,
   "id": "ebdfc2dc",
   "metadata": {},
   "outputs": [],
   "source": [
    "dec_exp_array = lambda array: np.array([DC(elem).exp() for elem in array])\n",
    "\n",
    "dec_log_array = lambda array: np.array([DC(elem).ln() for elem in array])\n",
    "\n",
    "dec_array = lambda array: np.array([DC(elem) for elem in array])"
   ]
  },
  {
   "cell_type": "code",
   "execution_count": 1430,
   "id": "dfcc4cc7",
   "metadata": {},
   "outputs": [],
   "source": [
    "test_constraint_mp = lambda z, T, weights, values, limit: -limit+ z/(1-z) + np.sum(weights/(mp_exp_array(-values/T)*mp_exp_array(-weights*mp.log(z)) + 1))   \n",
    "\n",
    "test_constraint_np = lambda z, T, weights, values, limit: -limit+ z/(1-z) + np.sum(weights*np.exp(weights*np.log(z))/(np.exp(-values/T)+np.exp(weights*np.log(z)) ))   \n",
    "\n",
    "test_constraint_dec = lambda z, T, weights, values, limit:  -DC(limit)+ DC(z/(1-z)) + np.sum(dec_array(weights)/(dec_exp_array(-values/T)*dec_exp_array(-dec_array(weights)*DC(z).ln()) + 1))   \n",
    "\n",
    "\n",
    "\n"
   ]
  },
  {
   "cell_type": "code",
   "execution_count": 1428,
   "id": "2ddb2d19",
   "metadata": {},
   "outputs": [
    {
     "data": {
      "text/plain": [
       "0.038789908819153646"
      ]
     },
     "execution_count": 1428,
     "metadata": {},
     "output_type": "execute_result"
    }
   ],
   "source": [
    "float(z0.real)"
   ]
  },
  {
   "cell_type": "code",
   "execution_count": 1436,
   "id": "bc1a278a",
   "metadata": {},
   "outputs": [
    {
     "data": {
      "text/plain": [
       "True"
      ]
     },
     "execution_count": 1436,
     "metadata": {},
     "output_type": "execute_result"
    }
   ],
   "source": [
    "test_constraint_dec(float(z0.real), T0, weight_vec, value_vec, Wlimit)"
   ]
  },
  {
   "cell_type": "code",
   "execution_count": 1432,
   "id": "585845a2",
   "metadata": {},
   "outputs": [
    {
     "data": {
      "text/plain": [
       "mpf('300.79002212086471')"
      ]
     },
     "execution_count": 1432,
     "metadata": {},
     "output_type": "execute_result"
    }
   ],
   "source": [
    "test_constraint_mp(float(z0.real), T0, weight_vec, value_vec, Wlimit)"
   ]
  },
  {
   "cell_type": "code",
   "execution_count": 1414,
   "id": "e9a82147",
   "metadata": {},
   "outputs": [
    {
     "name": "stdout",
     "output_type": "stream",
     "text": [
      "\u001b[31mERROR: Could not find a version that satisfies the requirement decimal (from versions: none)\u001b[0m\u001b[31m\r\n",
      "\u001b[0m\u001b[31mERROR: No matching distribution found for decimal\u001b[0m\u001b[31m\r\n",
      "\u001b[0m\r\n",
      "\u001b[1m[\u001b[0m\u001b[34;49mnotice\u001b[0m\u001b[1;39;49m]\u001b[0m\u001b[39;49m A new release of pip available: \u001b[0m\u001b[31;49m22.1.2\u001b[0m\u001b[39;49m -> \u001b[0m\u001b[32;49m22.2\u001b[0m\r\n",
      "\u001b[1m[\u001b[0m\u001b[34;49mnotice\u001b[0m\u001b[1;39;49m]\u001b[0m\u001b[39;49m To update, run: \u001b[0m\u001b[32;49mpip install --upgrade pip\u001b[0m\r\n"
     ]
    }
   ],
   "source": [
    "!pip install decimal\n",
    "import decimal\n",
    "from decimal import Decimal as DC\n",
    "\n"
   ]
  },
  {
   "cell_type": "code",
   "execution_count": 1400,
   "id": "830d05a6",
   "metadata": {},
   "outputs": [
    {
     "ename": "TypeError",
     "evalue": "unsupported operand type(s) for *: 'decimal.Decimal' and 'float'",
     "output_type": "error",
     "traceback": [
      "\u001b[0;31m---------------------------------------------------------------------------\u001b[0m",
      "\u001b[0;31mTypeError\u001b[0m                                 Traceback (most recent call last)",
      "Input \u001b[0;32mIn [1400]\u001b[0m, in \u001b[0;36m<cell line: 1>\u001b[0;34m()\u001b[0m\n\u001b[0;32m----> 1\u001b[0m \u001b[43mdecimal\u001b[49m\u001b[38;5;241;43m.\u001b[39;49m\u001b[43mDecimal\u001b[49m\u001b[43m(\u001b[49m\u001b[43mmath\u001b[49m\u001b[38;5;241;43m.\u001b[39;49m\u001b[43mexp\u001b[49m\u001b[43m(\u001b[49m\u001b[38;5;241;43m1\u001b[39;49m\u001b[43m)\u001b[49m\u001b[43m)\u001b[49m\u001b[38;5;241;43m*\u001b[39;49m\u001b[43mnp\u001b[49m\u001b[38;5;241;43m.\u001b[39;49m\u001b[43mones\u001b[49m\u001b[43m(\u001b[49m\u001b[38;5;241;43m4\u001b[39;49m\u001b[43m)\u001b[49m\n",
      "\u001b[0;31mTypeError\u001b[0m: unsupported operand type(s) for *: 'decimal.Decimal' and 'float'"
     ]
    }
   ],
   "source": [
    "decimal.Decimal(math.exp(1))*np.ones(4)"
   ]
  },
  {
   "cell_type": "code",
   "execution_count": 1406,
   "id": "c053dc19",
   "metadata": {},
   "outputs": [
    {
     "data": {
      "text/plain": [
       "Decimal('90.01713130052181355011545675')"
      ]
     },
     "execution_count": 1406,
     "metadata": {},
     "output_type": "execute_result"
    }
   ],
   "source": [
    "Decimal(4.5).exp()"
   ]
  },
  {
   "cell_type": "code",
   "execution_count": 1387,
   "id": "c219831e",
   "metadata": {},
   "outputs": [
    {
     "data": {
      "text/plain": [
       "array([Decimal('7.389056098930649441295292229'),\n",
       "       Decimal('20.08553692318766453633873498')], dtype=object)"
      ]
     },
     "execution_count": 1387,
     "metadata": {},
     "output_type": "execute_result"
    }
   ],
   "source": [
    "np.array([decimal.Decimal(math.exp(1))**(2), decimal.Decimal(math.exp(1))**(3)])"
   ]
  },
  {
   "cell_type": "code",
   "execution_count": 1415,
   "id": "68ac5eb2",
   "metadata": {},
   "outputs": [],
   "source": [
    "\n",
    "\n",
    "# dec_exp_array = lambda array: np.array([decimal.Decimal(math.exp(1))**(decimal.Decimal(elem)) for elem in array])"
   ]
  },
  {
   "cell_type": "code",
   "execution_count": 1416,
   "id": "0ad25fb0",
   "metadata": {},
   "outputs": [
    {
     "data": {
      "text/plain": [
       "array([Decimal('9'), Decimal('13'), Decimal('153'), Decimal('50'),\n",
       "       Decimal('15'), Decimal('68'), Decimal('27'), Decimal('39'),\n",
       "       Decimal('23'), Decimal('52'), Decimal('11'), Decimal('32'),\n",
       "       Decimal('24'), Decimal('48'), Decimal('73'), Decimal('42'),\n",
       "       Decimal('43'), Decimal('22'), Decimal('7'), Decimal('18'),\n",
       "       Decimal('4'), Decimal('30')], dtype=object)"
      ]
     },
     "execution_count": 1416,
     "metadata": {},
     "output_type": "execute_result"
    }
   ],
   "source": [
    "dec_array(weight_vec)"
   ]
  },
  {
   "cell_type": "code",
   "execution_count": 1398,
   "id": "791180b5",
   "metadata": {},
   "outputs": [
    {
     "data": {
      "text/plain": [
       "array([Decimal('8103.083927575380129238613181'),\n",
       "       Decimal('442413.3920089201974543569483'),\n",
       "       Decimal('2.799340524267474290409678314E+66'),\n",
       "       Decimal('5184705528587058677339.233433'),\n",
       "       Decimal('3269017.372472108031490136971'),\n",
       "       Decimal('3.404276049931728210147415526E+29'),\n",
       "       Decimal('532048240601.7978527028132809'),\n",
       "       Decimal('86593400423993567.34913489426'),\n",
       "       Decimal('9744803446.248890680242972485'),\n",
       "       Decimal('38310080007165662547137.43615'),\n",
       "       Decimal('59874.14171519778342858549254'),\n",
       "       Decimal('78962960182680.56077896449663'),\n",
       "       Decimal('26489122129.84343848403161196'),\n",
       "       Decimal('701673591209761382665.3353592'),\n",
       "       Decimal('5.052393630276084579580909733E+31'),\n",
       "       Decimal('1739274941520497162.446099321'),\n",
       "       Decimal('4727839468229335749.651581355'),\n",
       "       Decimal('3584912846.131587367289051844'),\n",
       "       Decimal('1096.633158428458191012813295'),\n",
       "       Decimal('65659969.13733044828362824073'),\n",
       "       Decimal('54.59815003314422746347265252'),\n",
       "       Decimal('10686474581524.44509702684761')], dtype=object)"
      ]
     },
     "execution_count": 1398,
     "metadata": {},
     "output_type": "execute_result"
    }
   ],
   "source": [
    "dec_exp_array(weight_vec)"
   ]
  },
  {
   "cell_type": "code",
   "execution_count": 1396,
   "id": "ea4cd7a8",
   "metadata": {},
   "outputs": [
    {
     "ename": "ValueError",
     "evalue": "sign must be an integer with the value 0 or 1",
     "output_type": "error",
     "traceback": [
      "\u001b[0;31m---------------------------------------------------------------------------\u001b[0m",
      "\u001b[0;31mValueError\u001b[0m                                Traceback (most recent call last)",
      "Input \u001b[0;32mIn [1396]\u001b[0m, in \u001b[0;36m<cell line: 1>\u001b[0;34m()\u001b[0m\n\u001b[0;32m----> 1\u001b[0m decimal\u001b[38;5;241m.\u001b[39mDecimal(np\u001b[38;5;241m.\u001b[39mexp(\u001b[38;5;241m1\u001b[39m))\u001b[38;5;241m*\u001b[39m\u001b[38;5;241m*\u001b[39m(\u001b[43mdecimal\u001b[49m\u001b[38;5;241;43m.\u001b[39;49m\u001b[43mDecimal\u001b[49m\u001b[43m(\u001b[49m\u001b[43m[\u001b[49m\u001b[38;5;241;43m2.1\u001b[39;49m\u001b[43m,\u001b[49m\u001b[43m \u001b[49m\u001b[38;5;241;43m2.1\u001b[39;49m\u001b[43m,\u001b[49m\u001b[43m \u001b[49m\u001b[38;5;241;43m2.1\u001b[39;49m\u001b[43m]\u001b[49m\u001b[43m)\u001b[49m)\n",
      "\u001b[0;31mValueError\u001b[0m: sign must be an integer with the value 0 or 1"
     ]
    }
   ],
   "source": [
    "decimal.Decimal(np.exp(1))**(decimal.Decimal([2.1, 2.1, 2.1]))"
   ]
  },
  {
   "cell_type": "code",
   "execution_count": 1374,
   "id": "6b623a14",
   "metadata": {},
   "outputs": [],
   "source": [
    "dec_exp = lambda x: decimal.Decimal(math.exp(1))**(x)"
   ]
  },
  {
   "cell_type": "code",
   "execution_count": 1381,
   "id": "69500d90",
   "metadata": {},
   "outputs": [
    {
     "ename": "TypeError",
     "evalue": "conversion from numpy.ndarray to Decimal is not supported",
     "output_type": "error",
     "traceback": [
      "\u001b[0;31m---------------------------------------------------------------------------\u001b[0m",
      "\u001b[0;31mTypeError\u001b[0m                                 Traceback (most recent call last)",
      "Input \u001b[0;32mIn [1381]\u001b[0m, in \u001b[0;36m<cell line: 1>\u001b[0;34m()\u001b[0m\n\u001b[0;32m----> 1\u001b[0m \u001b[43mdecimal\u001b[49m\u001b[38;5;241;43m.\u001b[39;49m\u001b[43mDecimal\u001b[49m\u001b[43m(\u001b[49m\u001b[43mnp\u001b[49m\u001b[38;5;241;43m.\u001b[39;49m\u001b[43mexp\u001b[49m\u001b[43m(\u001b[49m\u001b[43m[\u001b[49m\u001b[38;5;241;43m1\u001b[39;49m\u001b[43m,\u001b[49m\u001b[38;5;241;43m2\u001b[39;49m\u001b[43m]\u001b[49m\u001b[43m)\u001b[49m\u001b[43m)\u001b[49m\n",
      "\u001b[0;31mTypeError\u001b[0m: conversion from numpy.ndarray to Decimal is not supported"
     ]
    }
   ],
   "source": [
    "decimal.Decimal(np.exp([1,2]))"
   ]
  },
  {
   "cell_type": "code",
   "execution_count": 1375,
   "id": "ea351757",
   "metadata": {},
   "outputs": [],
   "source": [
    "dec_exp_array = np.frompyfunc(dec_exp, 1, 1)"
   ]
  },
  {
   "cell_type": "code",
   "execution_count": 1376,
   "id": "0fbccdb9",
   "metadata": {},
   "outputs": [
    {
     "ename": "TypeError",
     "evalue": "unsupported operand type(s) for ** or pow(): 'decimal.Decimal' and 'float'",
     "output_type": "error",
     "traceback": [
      "\u001b[0;31m---------------------------------------------------------------------------\u001b[0m",
      "\u001b[0;31mTypeError\u001b[0m                                 Traceback (most recent call last)",
      "Input \u001b[0;32mIn [1376]\u001b[0m, in \u001b[0;36m<cell line: 1>\u001b[0;34m()\u001b[0m\n\u001b[0;32m----> 1\u001b[0m \u001b[43mdec_exp_array\u001b[49m\u001b[43m(\u001b[49m\u001b[43mweight_vec\u001b[49m\u001b[43m)\u001b[49m\n",
      "Input \u001b[0;32mIn [1374]\u001b[0m, in \u001b[0;36m<lambda>\u001b[0;34m(x)\u001b[0m\n\u001b[0;32m----> 1\u001b[0m dec_exp \u001b[38;5;241m=\u001b[39m \u001b[38;5;28;01mlambda\u001b[39;00m x: \u001b[43mdecimal\u001b[49m\u001b[38;5;241;43m.\u001b[39;49m\u001b[43mDecimal\u001b[49m\u001b[43m(\u001b[49m\u001b[43mmath\u001b[49m\u001b[38;5;241;43m.\u001b[39;49m\u001b[43mexp\u001b[49m\u001b[43m(\u001b[49m\u001b[38;5;241;43m1\u001b[39;49m\u001b[43m)\u001b[49m\u001b[43m)\u001b[49m\u001b[38;5;241;43m*\u001b[39;49m\u001b[38;5;241;43m*\u001b[39;49m\u001b[43m(\u001b[49m\u001b[43mx\u001b[49m\u001b[43m)\u001b[49m\n",
      "\u001b[0;31mTypeError\u001b[0m: unsupported operand type(s) for ** or pow(): 'decimal.Decimal' and 'float'"
     ]
    }
   ],
   "source": [
    "dec_exp_array(weight_vec)"
   ]
  },
  {
   "cell_type": "markdown",
   "id": "d942eb3d",
   "metadata": {},
   "source": [
    "### Finding Root"
   ]
  },
  {
   "cell_type": "code",
   "execution_count": 1457,
   "id": "614c135f",
   "metadata": {},
   "outputs": [
    {
     "name": "stdout",
     "output_type": "stream",
     "text": [
      "Elapsed Time: 0.060608 secs\n"
     ]
    },
    {
     "data": {
      "text/plain": [
       "0.2753630407012555"
      ]
     },
     "execution_count": 1457,
     "metadata": {},
     "output_type": "execute_result"
    }
   ],
   "source": [
    "start_time = time.time()\n",
    "\n",
    "zval, _ = find_root(test_constraint_mp, T=T0, weights=weight_vec, values=value_vec, limit=Wlimit, num_powers =20)\n",
    "\n",
    "print('Elapsed Time: {:2f} secs'.format( time.time()-start_time))\n",
    "zval"
   ]
  },
  {
   "cell_type": "code",
   "execution_count": 1458,
   "id": "92225508",
   "metadata": {},
   "outputs": [
    {
     "name": "stdout",
     "output_type": "stream",
     "text": [
      "Elapsed Time: 0.007787 secs\n"
     ]
    },
    {
     "name": "stderr",
     "output_type": "stream",
     "text": [
      "/var/folders/c4/fvxhsb8j6kb6c97612_b98k00000gn/T/ipykernel_98108/3076663006.py:3: RuntimeWarning: divide by zero encountered in log\n",
      "  test_constraint_np = lambda z, T, weights, values, limit: -limit+ z/(1-z) + np.sum(weights*np.exp(weights*np.log(z))/(np.exp(-values/T)+np.exp(weights*np.log(z)) ))\n"
     ]
    },
    {
     "data": {
      "text/plain": [
       "0.27536304070125545"
      ]
     },
     "execution_count": 1458,
     "metadata": {},
     "output_type": "execute_result"
    }
   ],
   "source": [
    "start_time = time.time()\n",
    "\n",
    "zval, _ = find_root(test_constraint_np, T=T0, weights=weight_vec, values=value_vec, limit=Wlimit, num_powers =20)\n",
    "\n",
    "print('Elapsed Time: {:2f} secs'.format( time.time()-start_time))\n",
    "zval"
   ]
  },
  {
   "cell_type": "code",
   "execution_count": 1459,
   "id": "7956dba0",
   "metadata": {},
   "outputs": [
    {
     "name": "stdout",
     "output_type": "stream",
     "text": [
      "Elapsed Time: 0.049923 secs\n"
     ]
    },
    {
     "data": {
      "text/plain": [
       "0.2753630407"
      ]
     },
     "execution_count": 1459,
     "metadata": {},
     "output_type": "execute_result"
    }
   ],
   "source": [
    "start_time = time.time()\n",
    "\n",
    "zval, _ = find_root(test_constraint_dec, T=T0, weights=weight_vec, values=value_vec, limit=Wlimit, num_powers =10)\n",
    "\n",
    "print('Elapsed Time: {:2f} secs'.format( time.time()-start_time))\n",
    "zval"
   ]
  },
  {
   "cell_type": "markdown",
   "id": "30a5b265",
   "metadata": {},
   "source": [
    "### Evaluating Function"
   ]
  },
  {
   "cell_type": "code",
   "execution_count": 1460,
   "id": "05635214",
   "metadata": {},
   "outputs": [
    {
     "name": "stdout",
     "output_type": "stream",
     "text": [
      "Elapsed Time: 0.003908 secs\n"
     ]
    }
   ],
   "source": [
    "start_time = time.time()\n",
    "\n",
    "test_constraint_dec(float(z0.real), T0, weight_vec, value_vec, Wlimit)\n",
    "\n",
    "print('Elapsed Time: {:2f} secs'.format( time.time()-start_time))"
   ]
  },
  {
   "cell_type": "code",
   "execution_count": 1461,
   "id": "ed535b92",
   "metadata": {},
   "outputs": [
    {
     "name": "stdout",
     "output_type": "stream",
     "text": [
      "Elapsed Time: 0.003543 secs\n"
     ]
    }
   ],
   "source": [
    "start_time = time.time()\n",
    "\n",
    "test_constraint_mp(float(z0.real), T0, weight_vec, value_vec, Wlimit)\n",
    "\n",
    "print('Elapsed Time: {:2f} secs'.format( time.time()-start_time))"
   ]
  },
  {
   "cell_type": "code",
   "execution_count": 1462,
   "id": "0614aaf5",
   "metadata": {},
   "outputs": [
    {
     "name": "stdout",
     "output_type": "stream",
     "text": [
      "Elapsed Time: 0.000432 secs\n"
     ]
    }
   ],
   "source": [
    "start_time = time.time()\n",
    "\n",
    "test_constraint_np(float(z0.real), T0, weight_vec, value_vec, Wlimit)\n",
    "\n",
    "print('Elapsed Time: {:2f} secs'.format( time.time()-start_time))"
   ]
  },
  {
   "cell_type": "code",
   "execution_count": null,
   "id": "003da896",
   "metadata": {},
   "outputs": [],
   "source": []
  },
  {
   "cell_type": "code",
   "execution_count": null,
   "id": "1d8a96dc",
   "metadata": {},
   "outputs": [],
   "source": []
  },
  {
   "cell_type": "code",
   "execution_count": 702,
   "id": "29d6eb83",
   "metadata": {},
   "outputs": [
    {
     "data": {
      "text/plain": [
       "mpf('9.4865683984655789')"
      ]
     },
     "execution_count": 702,
     "metadata": {},
     "output_type": "execute_result"
    }
   ],
   "source": [
    "T0 =.10\n",
    "z0 = 0.0000022\n",
    "second_constraint = lambda z: test_constraint(z, T0, weight_vec, value_vec, Wlimit)\n",
    "second_constraint(z0)\n",
    "# z1 = .00000002\n",
    "# mp.findroot(second_constraint, z1, tol = 1e-3)"
   ]
  },
  {
   "cell_type": "code",
   "execution_count": 912,
   "id": "58edf1f5",
   "metadata": {},
   "outputs": [
    {
     "data": {
      "text/plain": [
       "6.821210263296962e-13"
      ]
     },
     "execution_count": 912,
     "metadata": {},
     "output_type": "execute_result"
    }
   ],
   "source": [
    "T0 =.10\n",
    "z0 = 0.000002146919165813740290\n",
    "float(test_constraint(z0, T0, weight_vec, value_vec, Wlimit))"
   ]
  },
  {
   "cell_type": "code",
   "execution_count": 962,
   "id": "0710fa33",
   "metadata": {},
   "outputs": [
    {
     "data": {
      "text/plain": [
       "17.393688032765965"
      ]
     },
     "execution_count": 962,
     "metadata": {},
     "output_type": "execute_result"
    }
   ],
   "source": [
    "T0 = 1.0\n",
    "z0 = 0.3\n",
    "float(test_constraint(z0, T0, weight_vec, value_vec, Wlimit))"
   ]
  },
  {
   "cell_type": "code",
   "execution_count": null,
   "id": "d1cf7cab",
   "metadata": {},
   "outputs": [],
   "source": [
    "### np.log(z0)"
   ]
  },
  {
   "cell_type": "code",
   "execution_count": 909,
   "id": "c4315e01",
   "metadata": {},
   "outputs": [],
   "source": [
    "mp.dps = 50"
   ]
  },
  {
   "cell_type": "code",
   "execution_count": 713,
   "id": "405c2e8a",
   "metadata": {},
   "outputs": [
    {
     "data": {
      "text/plain": [
       "0.0"
      ]
     },
     "execution_count": 713,
     "metadata": {},
     "output_type": "execute_result"
    }
   ],
   "source": [
    "current_z = np.dot(coeffs, powers_10)"
   ]
  },
  {
   "cell_type": "code",
   "execution_count": 720,
   "id": "94b8156a",
   "metadata": {},
   "outputs": [
    {
     "name": "stdout",
     "output_type": "stream",
     "text": [
      "9\n",
      "8\n",
      "7\n",
      "6\n",
      "5\n",
      "4\n",
      "3\n",
      "2\n",
      "1\n",
      "0\n"
     ]
    }
   ],
   "source": [
    "for k in range(0,10, 1)[::-1]:\n",
    "    print(k)"
   ]
  },
  {
   "cell_type": "code",
   "execution_count": 722,
   "id": "11f8432f",
   "metadata": {},
   "outputs": [
    {
     "data": {
      "text/plain": [
       "0.1"
      ]
     },
     "execution_count": 722,
     "metadata": {},
     "output_type": "execute_result"
    }
   ],
   "source": [
    "T0"
   ]
  },
  {
   "cell_type": "code",
   "execution_count": 727,
   "id": "8e2645a5",
   "metadata": {},
   "outputs": [
    {
     "data": {
      "text/plain": [
       "True"
      ]
     },
     "execution_count": 727,
     "metadata": {},
     "output_type": "execute_result"
    }
   ],
   "source": [
    "test_constraint(current_z, T0, weight_vec, value_vec, Wlimit).real>0"
   ]
  },
  {
   "cell_type": "code",
   "execution_count": 925,
   "id": "6febb0c9",
   "metadata": {},
   "outputs": [
    {
     "data": {
      "text/plain": [
       "array([0.1 , 0.11, 0.12, 0.13, 0.14, 0.15, 0.16, 0.17, 0.18, 0.19])"
      ]
     },
     "execution_count": 925,
     "metadata": {},
     "output_type": "execute_result"
    }
   ],
   "source": [
    "np.arange(0.1, 0.2, 0.01)"
   ]
  },
  {
   "cell_type": "code",
   "execution_count": 991,
   "id": "447373a3",
   "metadata": {},
   "outputs": [],
   "source": [
    "def test_function(func, **args):\n",
    "    return func(0.1, **args)"
   ]
  },
  {
   "cell_type": "code",
   "execution_count": 992,
   "id": "1b93cafd",
   "metadata": {},
   "outputs": [
    {
     "data": {
      "text/plain": [
       "mpf('-266.34432600312721')"
      ]
     },
     "execution_count": 992,
     "metadata": {},
     "output_type": "execute_result"
    }
   ],
   "source": [
    "test_function(test_constraint, T=1.0, weights=weight_vec, values=value_vec, limit=Wlimit)"
   ]
  },
  {
   "cell_type": "code",
   "execution_count": 993,
   "id": "b3ded292",
   "metadata": {},
   "outputs": [
    {
     "data": {
      "text/plain": [
       "mpf('-266.34432600312721')"
      ]
     },
     "execution_count": 993,
     "metadata": {},
     "output_type": "execute_result"
    }
   ],
   "source": [
    "test_constraint(0.1, T=1.0, weights=weight_vec, values=value_vec, limit=Wlimit)"
   ]
  },
  {
   "cell_type": "code",
   "execution_count": 1023,
   "id": "d367f667",
   "metadata": {},
   "outputs": [],
   "source": [
    "def find_root(func, num_powers = 20, **args):\n",
    "    \n",
    "    \"\"\"\n",
    "    Finds the root of a function in the domain (0, 1) exclusive\n",
    "\n",
    "    Parameters\n",
    "    ----------\n",
    "    func : function\n",
    "        Function for which we are seeking the root\n",
    "        \n",
    "    num_powers : int\n",
    "        Number of powers of 10 to include in final answer\n",
    "\n",
    "    Returns\n",
    "    ----------\n",
    "    fin_z : float\n",
    "        Value of critical point\n",
    "\n",
    "    error : float \n",
    "        How far function is from zero at this critical point\n",
    "\n",
    "    \"\"\"    \n",
    "    \n",
    "    powers_10 = np.array([10**(-k) for k in range(num_powers+1)])\n",
    "    coeffs = np.zeros_like(powers_10)\n",
    "    coeffs[0] = 0\n",
    "\n",
    "    # determining initial order of current z\n",
    "    for i in range(1, num_powers+1):\n",
    "        coeffs[i] = 1\n",
    "        current_z =  np.dot(coeffs, powers_10)\n",
    "        current_sign = np.sign(func(current_z, **args).real)\n",
    "        # reset coeffs if sign doesn't change\n",
    "        if current_sign > 0:\n",
    "            coeffs[i] = 0\n",
    "        else:\n",
    "            l_start = i\n",
    "            break\n",
    "            \n",
    "    # determine subsequent coefficients\n",
    "    for k in range(l_start,num_powers+1):\n",
    "\n",
    "        # marching up\n",
    "        for j in range(10):\n",
    "\n",
    "            # try a value of the coefficient\n",
    "            coeffs[k] = j\n",
    "            new_z = np.dot(coeffs, powers_10)\n",
    "            new_sign = np.sign(func(new_z,**args).real)  \n",
    "\n",
    "            # if the sign has changed from the current sign, go to previous value\n",
    "            if new_sign > 0:\n",
    "                coeffs[k] = j-1 # set to the j value before the change\n",
    "                current_z = np.dot(coeffs, powers_10)\n",
    "                break\n",
    "\n",
    "    # final z value\n",
    "    fin_z = np.dot(coeffs, powers_10)    \n",
    "    \n",
    "    # error \n",
    "    error = func(fin_z, **args).real\n",
    "    \n",
    "    return fin_z, float(error)"
   ]
  },
  {
   "cell_type": "code",
   "execution_count": 1050,
   "id": "2128be1a",
   "metadata": {},
   "outputs": [],
   "source": [
    "T0_vals = np.arange(0.1, 4.0, 0.01)\n",
    "gamma_vals = np.zeros_like(T0_vals)\n",
    "\n",
    "for m in range(len(gamma_vals)):\n",
    "    T0 = T0_vals[m]\n",
    "    z_res, _ = find_root(test_constraint, T=T0, weights=weight_vec, values=value_vec, limit=Wlimit)\n",
    "    gamma_vals[m] = -np.log(z_res)*T0"
   ]
  },
  {
   "cell_type": "code",
   "execution_count": 1135,
   "id": "95e9d88a",
   "metadata": {},
   "outputs": [],
   "source": [
    "x1= 0.1\n",
    "y1 =  -x1*np.log(find_root_bijection(test_constraint, T=x1, weights=weight_vec, values=value_vec, limit=Wlimit)[0])\n",
    "\n",
    "x2 = 0.12\n",
    "y2 = -x2*np.log(find_root_bijection(test_constraint, T=x2, weights=weight_vec, values=value_vec, limit=Wlimit)[0])\n",
    "\n",
    "m = (y2-y1)/(x2-x1)\n",
    "\n",
    "linear_func = lambda x: m*(x-x1) + y1"
   ]
  },
  {
   "cell_type": "code",
   "execution_count": 1136,
   "id": "2b78ea1c",
   "metadata": {},
   "outputs": [
    {
     "data": {
      "text/plain": [
       "1.2322548977481855"
      ]
     },
     "execution_count": 1136,
     "metadata": {},
     "output_type": "execute_result"
    }
   ],
   "source": [
    "linear_func(0)"
   ]
  },
  {
   "cell_type": "code",
   "execution_count": 1072,
   "id": "5dec861c",
   "metadata": {},
   "outputs": [],
   "source": [
    "test_constraint = lambda z, T, weights, values, limit: -limit+ z/(1-z) + np.sum(weights/(mp_exp_array(-values/T)*mp_exp_array(-weights*mp.log(z)) + 1))   "
   ]
  },
  {
   "cell_type": "code",
   "execution_count": 1188,
   "id": "7fca304f",
   "metadata": {},
   "outputs": [],
   "source": [
    "def gamma_calc(weights, values, limit):\n",
    "    \n",
    "    T1, T2 = 0.1, 0.35\n",
    "    z1, _ = find_root(test_constraint, T=T1, weights=weights, values=values, limit=limit)\n",
    "    z2, _ = find_root(test_constraint, T=T2, weights=weights, values=values, limit=limit)\n",
    "\n",
    "    # calculating y values\n",
    "    y1 =  -T1*np.log(z1)\n",
    "    y2 =  -T2*np.log(z2)\n",
    "\n",
    "    # calculating slope\n",
    "    m = (y2-y1)/(T2-T1)\n",
    "\n",
    "    # computing y intercept\n",
    "    return -m*T1 + y1\n",
    "  "
   ]
  },
  {
   "cell_type": "code",
   "execution_count": 1189,
   "id": "88f43743",
   "metadata": {},
   "outputs": [
    {
     "data": {
      "text/plain": [
       "1.3068835492236306"
      ]
     },
     "execution_count": 1189,
     "metadata": {},
     "output_type": "execute_result"
    }
   ],
   "source": [
    "gamma_calc(weights=weight_vec, values=value_vec, limit=Wlimit)"
   ]
  },
  {
   "cell_type": "code",
   "execution_count": 1200,
   "id": "045884d7",
   "metadata": {},
   "outputs": [],
   "source": [
    "def gamma_calc(weights, values, limit):\n",
    "    \n",
    "    T1, T2 = 0.05, 0.06\n",
    "    z1, _ = find_root(test_constraint, T=T1, weights=weights, values=values, limit=limit)\n",
    "    z2, _ = find_root(test_constraint, T=T2, weights=weights, values=values, limit=limit)\n",
    "\n",
    "    # computing y intercept\n",
    "    return T2*T1/(T2-T1)*np.log(z2/z1)\n",
    "#     return (T2-T1)*np.log(z2)*np.log(z1)/np.log(z2/z1)\n",
    "#     return -T1*np.log(z1)\n",
    "  "
   ]
  },
  {
   "cell_type": "code",
   "execution_count": 1201,
   "id": "7d055fcf",
   "metadata": {},
   "outputs": [
    {
     "data": {
      "text/plain": [
       "1.306704168047351"
      ]
     },
     "execution_count": 1201,
     "metadata": {},
     "output_type": "execute_result"
    }
   ],
   "source": [
    "gamma_calc(weights=weight_vec, values=value_vec, limit=Wlimit)"
   ]
  },
  {
   "cell_type": "code",
   "execution_count": 1161,
   "id": "32944061",
   "metadata": {},
   "outputs": [
    {
     "data": {
      "text/plain": [
       "1.3043478260869565"
      ]
     },
     "execution_count": 1161,
     "metadata": {},
     "output_type": "execute_result"
    }
   ],
   "source": [
    "30/23"
   ]
  },
  {
   "cell_type": "code",
   "execution_count": 1060,
   "id": "e9f12e47",
   "metadata": {},
   "outputs": [
    {
     "data": {
      "text/plain": [
       "1.3068929981638986"
      ]
     },
     "execution_count": 1060,
     "metadata": {},
     "output_type": "execute_result"
    }
   ],
   "source": [
    "linear_func(0)"
   ]
  },
  {
   "cell_type": "code",
   "execution_count": 1057,
   "id": "b52a8d87",
   "metadata": {},
   "outputs": [
    {
     "data": {
      "text/plain": [
       "-0.017356769998770886"
      ]
     },
     "execution_count": 1057,
     "metadata": {},
     "output_type": "execute_result"
    }
   ],
   "source": [
    "(y2-y1)/(x2-x1)"
   ]
  },
  {
   "cell_type": "code",
   "execution_count": 1204,
   "id": "544fbb83",
   "metadata": {},
   "outputs": [
    {
     "data": {
      "application/vnd.jupyter.widget-view+json": {
       "model_id": "94570d0384614867b4c80119649cde42",
       "version_major": 2,
       "version_minor": 0
      },
      "text/plain": [
       "  0%|          | 0/990 [00:00<?, ?it/s]"
      ]
     },
     "metadata": {},
     "output_type": "display_data"
    }
   ],
   "source": [
    "from tqdm.notebook import tqdm\n",
    "\n",
    "T0_vals = np.arange(0.1, 10.0, 0.01)\n",
    "gamma_vals = np.zeros_like(T0_vals)\n",
    "\n",
    "for m in tqdm(range(len(gamma_vals))):\n",
    "    T0 = T0_vals[m]\n",
    "    z_res, _ = find_root(test_constraint, T=T0, weights=weight_vec, values=value_vec, limit=Wlimit)\n",
    "    gamma_vals[m] = -np.log(z_res)*T0"
   ]
  },
  {
   "cell_type": "code",
   "execution_count": 1215,
   "id": "bfa26cbc",
   "metadata": {},
   "outputs": [],
   "source": [
    "# equation for linear approximation\n",
    "x1= 0.1\n",
    "y1 =  -x1*np.log(find_root(test_constraint, T=x1, weights=weight_vec, values=value_vec, limit=Wlimit)[0])\n",
    "\n",
    "x2 = 0.12\n",
    "y2 = -x2*np.log(find_root(test_constraint, T=x2, weights=weight_vec, values=value_vec, limit=Wlimit)[0])\n",
    "\n",
    "m = (y2-y1)/(x2-x1)\n",
    "\n",
    "linear_func = lambda x: m*(x-x1) + y1"
   ]
  },
  {
   "cell_type": "code",
   "execution_count": 1302,
   "id": "e1804fcb",
   "metadata": {},
   "outputs": [
    {
     "data": {
      "text/plain": [
       "9"
      ]
     },
     "execution_count": 1302,
     "metadata": {},
     "output_type": "execute_result"
    }
   ],
   "source": [
    "idx = np.argmin(value_vec/weight_vec - linear_func(0))\n"
   ]
  },
  {
   "cell_type": "code",
   "execution_count": 1286,
   "id": "010ae9f6",
   "metadata": {},
   "outputs": [],
   "source": [
    "### Plot Example\n",
    "plt.rcParams.update({\n",
    "    \"text.usetex\": True,\n",
    "    \"font.family\": \"serif\",\n",
    "    \"font.serif\": [\"Computer Modern Roman\"],\n",
    "})"
   ]
  },
  {
   "cell_type": "code",
   "execution_count": 1300,
   "id": "3e960506",
   "metadata": {},
   "outputs": [
    {
     "data": {
      "image/png": "[encoded data removed]",
      "text/plain": [
       "<Figure size 504x360 with 1 Axes>"
      ]
     },
     "metadata": {
      "needs_background": "light"
     },
     "output_type": "display_data"
    }
   ],
   "source": [
    "plt.figure(figsize = (7,5))\n",
    "plt.plot(T0_vals, gamma_vals, linewidth = 2, label = r'$-T\\,\\ln z(T)$')\n",
    "plt.plot(T0_vals, linear_func(T0_vals),  linestyle = '--', linewidth = 2, label = 'Linear Approximation')\n",
    "plt.xlabel(r'$T$', fontsize = 17)\n",
    "plt.ylabel(r'$\\gamma(T)$', fontsize = 17, rotation =0, labelpad = 25.0)\n",
    "plt.xlim(0,8)\n",
    "plt.yticks(fontsize = 14)\n",
    "plt.xticks(fontsize = 14)\n",
    "# plt.axhline(y = linear_func(0), color = 'k', linestyle ='--', linewidth = 0.75, label = r'$\\gamma_0$')\n",
    "plt.ylim(1.12, 1.325)\n",
    "plt.grid(alpha = 1)\n",
    "plt.legend(loc = 'best', fontsize = 14, framealpha = 1)\n",
    "plt.savefig('/Users/mobolajiwilliams/Dropbox/0Tex_Files_Mac/2020_largeN_knapsack_problem/LaTeX_Scientific_reports/linear_comparison.png', dpi = 600, bbox_inches='tight' )\n",
    "plt.show()"
   ]
  },
  {
   "cell_type": "code",
   "execution_count": 1036,
   "id": "0a47d12b",
   "metadata": {},
   "outputs": [
    {
     "data": {
      "text/plain": [
       "-8.695263217760553"
      ]
     },
     "execution_count": 1036,
     "metadata": {},
     "output_type": "execute_result"
    }
   ],
   "source": [
    "np.log(find_root(test_constraint, T=0.15, weights=weight_vec, values=value_vec, limit=Wlimit)[0])"
   ]
  },
  {
   "cell_type": "code",
   "execution_count": null,
   "id": "d5a511d7",
   "metadata": {},
   "outputs": [],
   "source": [
    "find_root()"
   ]
  },
  {
   "cell_type": "code",
   "execution_count": 1046,
   "id": "60841c4c",
   "metadata": {},
   "outputs": [
    {
     "name": "stdout",
     "output_type": "stream",
     "text": [
      "Temperature val: 0.05\n",
      "z val: 4.5353562e-12\n",
      "Gamma val: 1.3059558745396609\n",
      "\n",
      "Temperature val: 0.1\n",
      "z val: 2.1469191658137e-06\n",
      "Gamma val: 1.3051476689607004\n",
      "\n",
      "Temperature val: 0.15000000000000002\n",
      "z val: 0.0001673767635044907\n",
      "Gamma val: 1.3042894826640832\n",
      "\n",
      "Temperature val: 0.2\n",
      "z val: 0.0014779367956205876\n",
      "Gamma val: 1.3034216441641444\n",
      "\n",
      "Temperature val: 0.25\n",
      "z val: 0.005460565694852365\n",
      "Gamma val: 1.3025507218690882\n",
      "\n",
      "Temperature val: 0.3\n",
      "z val: 0.0130504805714084\n",
      "Gamma val: 1.301679096148858\n",
      "\n",
      "Temperature val: 0.35000000000000003\n",
      "z val: 0.024316644721589353\n",
      "Gamma val: 1.3008079683033689\n",
      "\n",
      "Temperature val: 0.4\n",
      "z val: 0.03878021511315225\n",
      "Gamma val: 1.2999380328681291\n",
      "\n",
      "Temperature val: 0.45\n",
      "z val: 0.055753137547930084\n",
      "Gamma val: 1.2990697161024907\n",
      "\n",
      "Temperature val: 0.5\n",
      "z val: 0.07454095467262639\n",
      "Gamma val: 1.298203288745946\n",
      "\n",
      "Temperature val: 0.55\n",
      "z val: 0.09453377987245529\n",
      "Gamma val: 1.2973389271633424\n",
      "\n",
      "Temperature val: 0.6000000000000001\n",
      "z val: 0.11523352225320446\n",
      "Gamma val: 1.2964767487613729\n",
      "\n",
      "Temperature val: 0.6500000000000001\n",
      "z val: 0.13625097806926553\n",
      "Gamma val: 1.2956168335334426\n",
      "\n",
      "Temperature val: 0.7000000000000001\n",
      "z val: 0.15729125665173907\n",
      "Gamma val: 1.294759238057443\n",
      "\n",
      "Temperature val: 0.7500000000000001\n",
      "z val: 0.17813646933064728\n",
      "Gamma val: 1.2939040056055748\n",
      "\n",
      "Temperature val: 0.8\n",
      "z val: 0.19862950604833116\n",
      "Gamma val: 1.2930511745385922\n",
      "\n",
      "Temperature val: 0.8500000000000001\n",
      "z val: 0.2186602291359876\n",
      "Gamma val: 1.292200786206446\n",
      "\n",
      "Temperature val: 0.9000000000000001\n",
      "z val: 0.2381542877048304\n",
      "Gamma val: 1.2913528929102223\n",
      "\n",
      "Temperature val: 0.9500000000000001\n",
      "z val: 0.25706430359305465\n",
      "Gamma val: 1.2905075660080372\n",
      "\n",
      "Temperature val: 1.0\n",
      "z val: 0.2753630407012555\n",
      "Gamma val: 1.289664903940222\n",
      "\n",
      "Temperature val: 1.05\n",
      "z val: 0.29303816606400457\n",
      "Gamma val: 1.2888250397862044\n",
      "\n",
      "Temperature val: 1.1\n",
      "z val: 0.31008825877731044\n",
      "Gamma val: 1.2879881479197395\n",
      "\n",
      "Temperature val: 1.1500000000000001\n",
      "z val: 0.32651978378459806\n",
      "Gamma val: 1.2871544493674492\n",
      "\n",
      "Temperature val: 1.2000000000000002\n",
      "z val: 0.3423448056009129\n",
      "Gamma val: 1.286324215564686\n",
      "\n",
      "Temperature val: 1.2500000000000002\n",
      "z val: 0.35757926674966434\n",
      "Gamma val: 1.2854977703144777\n",
      "\n",
      "Temperature val: 1.3\n",
      "z val: 0.3722416959894983\n",
      "Gamma val: 1.284675489869245\n",
      "\n",
      "Temperature val: 1.35\n",
      "z val: 0.38635224314175337\n",
      "Gamma val: 1.2838578011583652\n",
      "\n",
      "Temperature val: 1.4000000000000001\n",
      "z val: 0.3999319618879231\n",
      "Gamma val: 1.2830451782710663\n",
      "\n",
      "Temperature val: 1.4500000000000002\n",
      "z val: 0.41300228072302453\n",
      "Gamma val: 1.2822381373716323\n",
      "\n",
      "Temperature val: 1.5000000000000002\n",
      "z val: 0.4255846165855255\n",
      "Gamma val: 1.281437230273101\n",
      "\n",
      "Temperature val: 1.55\n",
      "z val: 0.4377000965732003\n",
      "Gamma val: 1.2806430369285184\n",
      "\n",
      "Temperature val: 1.6\n",
      "z val: 0.44936936141643347\n",
      "Gamma val: 1.2798561571175864\n",
      "\n",
      "Temperature val: 1.6500000000000001\n",
      "z val: 0.4606124306505237\n",
      "Gamma val: 1.279077201613339\n",
      "\n",
      "Temperature val: 1.7000000000000002\n",
      "z val: 0.4714486141913132\n",
      "Gamma val: 1.2783067831100836\n",
      "\n",
      "Temperature val: 1.7500000000000002\n",
      "z val: 0.48189645864173886\n",
      "Gamma val: 1.2775455071816442\n",
      "\n",
      "Temperature val: 1.8\n",
      "z val: 0.49197371941833196\n",
      "Gamma val: 1.2767939635192254\n",
      "\n",
      "Temperature val: 1.85\n",
      "z val: 0.5016973518955383\n",
      "Gamma val: 1.276052717672076\n",
      "\n",
      "Temperature val: 1.9000000000000001\n",
      "z val: 0.5110835163795108\n",
      "Gamma val: 1.2753223034827623\n",
      "\n",
      "Temperature val: 1.9500000000000002\n",
      "z val: 0.5201475929604029\n",
      "Gamma val: 1.2746032163735546\n",
      "\n",
      "Temperature val: 2.0\n",
      "z val: 0.5289042032426025\n",
      "Gamma val: 1.2738959076025926\n",
      "\n",
      "Temperature val: 2.05\n",
      "z val: 0.5373672366833459\n",
      "Gamma val: 1.273200779569629\n",
      "\n",
      "Temperature val: 2.1\n",
      "z val: 0.5455498798328438\n",
      "Gamma val: 1.2725181822128158\n",
      "\n",
      "Temperature val: 2.15\n",
      "z val: 0.5534646472022373\n",
      "Gamma val: 1.271848410501622\n",
      "\n",
      "Temperature val: 2.1999999999999997\n",
      "z val: 0.5611234128189099\n",
      "Gamma val: 1.271191702997906\n",
      "\n",
      "Temperature val: 2.25\n",
      "z val: 0.5685374417844858\n",
      "Gamma val: 1.2705482414284606\n",
      "\n",
      "Temperature val: 2.3\n",
      "z val: 0.5757174213466039\n",
      "Gamma val: 1.269918151188752\n",
      "\n",
      "Temperature val: 2.35\n",
      "z val: 0.5826734911446249\n",
      "Gamma val: 1.269301502679567\n",
      "\n",
      "Temperature val: 2.4\n",
      "z val: 0.5894152724022244\n",
      "Gamma val: 1.2686983133658887\n",
      "\n",
      "Temperature val: 2.45\n",
      "z val: 0.5959518959244001\n",
      "Gamma val: 1.268108550440431\n",
      "\n",
      "Temperature val: 2.5\n",
      "z val: 0.6022920288191583\n",
      "Gamma val: 1.26753213397232\n",
      "\n",
      "Temperature val: 2.55\n",
      "z val: 0.608443899909984\n",
      "Gamma val: 1.2669689404238407\n",
      "\n",
      "Temperature val: 2.6\n",
      "z val: 0.6144153238380788\n",
      "Gamma val: 1.2664188064241826\n",
      "\n",
      "Temperature val: 2.65\n",
      "z val: 0.6202137238763508\n",
      "Gamma val: 1.2658815326978612\n",
      "\n",
      "Temperature val: 2.7\n",
      "z val: 0.6258461534926747\n",
      "Gamma val: 1.2653568880562158\n",
      "\n",
      "Temperature val: 2.75\n",
      "z val: 0.6313193167099154\n",
      "Gamma val: 1.2648446133722437\n",
      "\n",
      "Temperature val: 2.8\n",
      "z val: 0.6366395873160829\n",
      "Gamma val: 1.2643444254714375\n",
      "\n",
      "Temperature val: 2.85\n",
      "z val: 0.6418130269809167\n",
      "Gamma val: 1.2638560208835854\n",
      "\n",
      "Temperature val: 2.9\n",
      "z val: 0.6468454023360307\n",
      "Gamma val: 1.263379079412313\n",
      "\n",
      "Temperature val: 2.95\n",
      "z val: 0.6517422010751609\n",
      "Gamma val: 1.2629132674900978\n",
      "\n",
      "Temperature val: 3.0\n",
      "z val: 0.6565086471295191\n",
      "Gamma val: 1.262458241296359\n",
      "\n",
      "Temperature val: 3.05\n",
      "z val: 0.6611497149711396\n",
      "Gamma val: 1.2620136496248964\n",
      "\n",
      "Temperature val: 3.1\n",
      "z val: 0.6656701430946464\n",
      "Gamma val: 1.261579136494395\n",
      "\n",
      "Temperature val: 3.15\n",
      "z val: 0.6700744467252674\n",
      "Gamma val: 1.2611543435018682\n",
      "\n",
      "Temperature val: 3.2\n",
      "z val: 0.6743669297982887\n",
      "Gamma val: 1.260738911923919\n",
      "\n",
      "Temperature val: 3.25\n",
      "z val: 0.6785516962525481\n",
      "Gamma val: 1.2603324845746149\n",
      "\n",
      "Temperature val: 3.3\n",
      "z val: 0.6826326606780794\n",
      "Gamma val: 1.259934707431701\n",
      "\n",
      "Temperature val: 3.35\n",
      "z val: 0.6866135583556465\n",
      "Gamma val: 1.25954523104496\n",
      "\n",
      "Temperature val: 3.4\n",
      "z val: 0.6904979547236717\n",
      "Gamma val: 1.259163711741878\n",
      "\n",
      "Temperature val: 3.45\n",
      "z val: 0.6942892543059627\n",
      "Gamma val: 1.258789812646531\n",
      "\n",
      "Temperature val: 3.5\n",
      "z val: 0.6979907091316754\n",
      "Gamma val: 1.2584232045278536\n",
      "\n",
      "Temperature val: 3.55\n",
      "z val: 0.7016054266771148\n",
      "Gamma val: 1.2580635664933035\n",
      "\n",
      "Temperature val: 3.6\n",
      "z val: 0.7051363773572448\n",
      "Gamma val: 1.2577105865435145\n",
      "\n",
      "Temperature val: 3.65\n",
      "z val: 0.7085864015931712\n",
      "Gamma val: 1.2573639620028485\n",
      "\n",
      "Temperature val: 3.7\n",
      "z val: 0.7119582164803445\n",
      "Gamma val: 1.2570233998399378\n",
      "\n",
      "Temperature val: 3.75\n",
      "z val: 0.7152544220808016\n",
      "Gamma val: 1.2566886168913955\n",
      "\n",
      "Temperature val: 3.8\n",
      "z val: 0.7184775073614316\n",
      "Gamma val: 1.256359340000869\n",
      "\n",
      "Temperature val: 3.85\n",
      "z val: 0.7216298557989811\n",
      "Gamma val: 1.2560353060846268\n",
      "\n",
      "Temperature val: 3.9\n",
      "z val: 0.7247137506713253\n",
      "Gamma val: 1.2557162621338587\n",
      "\n",
      "Temperature val: 3.95\n",
      "z val: 0.7277313800534039\n",
      "Gamma val: 1.255401965162888\n",
      "\n"
     ]
    }
   ],
   "source": [
    "\n",
    "T0 = 0.15\n",
    "\n",
    "T0_vals = np.arange(0.05, 4.0, 0.05)\n",
    "gamma_vals = np.zeros_like(T0_vals)\n",
    "\n",
    "for m in range(len(gamma_vals)):\n",
    "    T0 = T0_vals[m]\n",
    "    num_powers = 20\n",
    "    powers_10 = np.array([10**(-k) for k in range(num_powers+1)])\n",
    "    coeffs = np.zeros_like(powers_10)\n",
    "    coeffs[0] = 0\n",
    "\n",
    "    # determining initial order of current z\n",
    "    for i in range(1, num_powers+1):\n",
    "        coeffs[i] = 1\n",
    "        current_z =  np.dot(coeffs, powers_10)\n",
    "        current_sign = np.sign(test_constraint(current_z, T0, weight_vec, value_vec, Wlimit).real)\n",
    "\n",
    "        # reset coeffs if sign doesn't change\n",
    "        if current_sign > 0:\n",
    "            coeffs[i] = 0\n",
    "        else:\n",
    "            l_start = i\n",
    "            break\n",
    "\n",
    "    # determine subsequent coefficients\n",
    "    for k in range(l_start,num_powers):\n",
    "\n",
    "        # if sign is positive, march down; if sign is negative, march up\n",
    "        for j in range(10):\n",
    "\n",
    "            # try a value of the coefficient\n",
    "            coeffs[k] = j\n",
    "            new_z = np.dot(coeffs, powers_10)\n",
    "            new_sign = np.sign(test_constraint(new_z, T0, weight_vec, value_vec, Wlimit).real)  \n",
    "\n",
    "            # if the sign has changed from the current sign, go to previous value\n",
    "            if new_sign > 0:\n",
    "                coeffs[k] = j-1 # set to the j value before the change\n",
    "                current_z = np.dot(coeffs, powers_10)\n",
    "                break\n",
    "\n",
    "    z_res = np.dot(coeffs, powers_10)\n",
    "    test_constraint(z_res, T0, weight_vec, value_vec, Wlimit)\n",
    "    print('Temperature val:', T0)\n",
    "    print('z val:', z_res)\n",
    "    print('Gamma val:', -np.log(z_res)*T0)\n",
    "    print()\n",
    "    gamma_vals[m] = -np.log(z_res)*T0 "
   ]
  },
  {
   "cell_type": "code",
   "execution_count": 1045,
   "id": "c653dcc4",
   "metadata": {},
   "outputs": [
    {
     "data": {
      "text/plain": [
       "<function matplotlib.pyplot.grid(visible=None, which='major', axis='both', **kwargs)>"
      ]
     },
     "execution_count": 1045,
     "metadata": {},
     "output_type": "execute_result"
    },
    {
     "data": {
      "image/png": "[encoded data removed]",
      "text/plain": [
       "<Figure size 432x288 with 1 Axes>"
      ]
     },
     "metadata": {
      "needs_background": "light"
     },
     "output_type": "display_data"
    }
   ],
   "source": [
    "plt.plot(T0_vals, gamma_vals)\n",
    "plt.grid"
   ]
  },
  {
   "cell_type": "code",
   "execution_count": 885,
   "id": "6f833c71",
   "metadata": {},
   "outputs": [
    {
     "data": {
      "text/plain": [
       "23"
      ]
     },
     "execution_count": 885,
     "metadata": {},
     "output_type": "execute_result"
    }
   ],
   "source": [
    "len(coeffs)"
   ]
  },
  {
   "cell_type": "code",
   "execution_count": 704,
   "id": "d526504b",
   "metadata": {},
   "outputs": [
    {
     "data": {
      "text/plain": [
       "mpf('412.0')"
      ]
     },
     "execution_count": 704,
     "metadata": {},
     "output_type": "execute_result"
    }
   ],
   "source": [
    "z1 = 0.9\n",
    "test_constraint(z1, T0, weight_vec, value_vec, Wlimit)"
   ]
  },
  {
   "cell_type": "code",
   "execution_count": null,
   "id": "34f7eed1",
   "metadata": {},
   "outputs": [],
   "source": []
  },
  {
   "cell_type": "code",
   "execution_count": 701,
   "id": "1281ac3c",
   "metadata": {},
   "outputs": [
    {
     "name": "stdout",
     "output_type": "stream",
     "text": [
      "1e-06\n",
      "\n",
      "3\n",
      "2e-06\n",
      "2.1e-06\n",
      "100000.000002\n",
      "2e-06\n"
     ]
    }
   ],
   "source": [
    "\n",
    "for k in range(1, 11):\n",
    "    z0 = 10**(-k)\n",
    "    value = second_constraint(z0)\n",
    "    if value < 0:\n",
    "        zold = z0\n",
    "        print(zold)\n",
    "        break\n",
    "print()        \n",
    "for j in range(1, 11):\n",
    "    znew = zold*j\n",
    "    value = second_constraint(znew)\n",
    "    \n",
    "    if value >0:\n",
    "        print(j)\n",
    "        znew = zold*(j-1)\n",
    "        print(znew)\n",
    "        break\n",
    "        \n",
    "exponent = np.floor(np.log10(znew))\n",
    "znew2 = znew + 10**(exponent-1)\n",
    "print(znew2)\n",
    "\n",
    "for i in range(1, 11):\n",
    "    znew2 = znew + i*10**(-(exponent+1))\n",
    "    print(znew2)\n",
    "    value = second_constraint(znew2)\n",
    "    \n",
    "    if value >0:\n",
    "        znew3 = znew + (i-1)*10**(-(exponent+1))\n",
    "        print(znew3)\n",
    "        break"
   ]
  },
  {
   "cell_type": "code",
   "execution_count": 629,
   "id": "9ee475f9",
   "metadata": {},
   "outputs": [
    {
     "ename": "ValueError",
     "evalue": "Could not find root within given tolerance. (161603.999999890937694 > 0.001)\nTry another starting point or tweak arguments.",
     "output_type": "error",
     "traceback": [
      "\u001b[0;31m---------------------------------------------------------------------------\u001b[0m",
      "\u001b[0;31mValueError\u001b[0m                                Traceback (most recent call last)",
      "Input \u001b[0;32mIn [629]\u001b[0m, in \u001b[0;36m<cell line: 6>\u001b[0;34m()\u001b[0m\n\u001b[1;32m      4\u001b[0m second_constraint(z0)\n\u001b[1;32m      5\u001b[0m z1 \u001b[38;5;241m=\u001b[39m \u001b[38;5;241m.00000002\u001b[39m\n\u001b[0;32m----> 6\u001b[0m \u001b[43mmp\u001b[49m\u001b[38;5;241;43m.\u001b[39;49m\u001b[43mfindroot\u001b[49m\u001b[43m(\u001b[49m\u001b[43msecond_constraint\u001b[49m\u001b[43m,\u001b[49m\u001b[43m \u001b[49m\u001b[43mz1\u001b[49m\u001b[43m,\u001b[49m\u001b[43m \u001b[49m\u001b[43mtol\u001b[49m\u001b[43m \u001b[49m\u001b[38;5;241;43m=\u001b[39;49m\u001b[43m \u001b[49m\u001b[38;5;241;43m1e-3\u001b[39;49m\u001b[43m)\u001b[49m\n",
      "File \u001b[0;32m/Library/Frameworks/Python.framework/Versions/3.10/lib/python3.10/site-packages/mpmath/calculus/optimization.py:985\u001b[0m, in \u001b[0;36mfindroot\u001b[0;34m(ctx, f, x0, solver, tol, verbose, verify, **kwargs)\u001b[0m\n\u001b[1;32m    983\u001b[0m         xl \u001b[38;5;241m=\u001b[39m x\n\u001b[1;32m    984\u001b[0m     \u001b[38;5;28;01mif\u001b[39;00m verify \u001b[38;5;129;01mand\u001b[39;00m norm(f(\u001b[38;5;241m*\u001b[39mxl))\u001b[38;5;241m*\u001b[39m\u001b[38;5;241m*\u001b[39m\u001b[38;5;241m2\u001b[39m \u001b[38;5;241m>\u001b[39m tol: \u001b[38;5;66;03m# TODO: better condition?\u001b[39;00m\n\u001b[0;32m--> 985\u001b[0m         \u001b[38;5;28;01mraise\u001b[39;00m \u001b[38;5;167;01mValueError\u001b[39;00m(\u001b[38;5;124m'\u001b[39m\u001b[38;5;124mCould not find root within given tolerance. \u001b[39m\u001b[38;5;124m'\u001b[39m\n\u001b[1;32m    986\u001b[0m                          \u001b[38;5;124m'\u001b[39m\u001b[38;5;124m(\u001b[39m\u001b[38;5;132;01m%s\u001b[39;00m\u001b[38;5;124m > \u001b[39m\u001b[38;5;132;01m%s\u001b[39;00m\u001b[38;5;124m)\u001b[39m\u001b[38;5;130;01m\\n\u001b[39;00m\u001b[38;5;124m'\u001b[39m\n\u001b[1;32m    987\u001b[0m                          \u001b[38;5;124m'\u001b[39m\u001b[38;5;124mTry another starting point or tweak arguments.\u001b[39m\u001b[38;5;124m'\u001b[39m\n\u001b[1;32m    988\u001b[0m                          \u001b[38;5;241m%\u001b[39m (norm(f(\u001b[38;5;241m*\u001b[39mxl))\u001b[38;5;241m*\u001b[39m\u001b[38;5;241m*\u001b[39m\u001b[38;5;241m2\u001b[39m, tol))\n\u001b[1;32m    989\u001b[0m     \u001b[38;5;28;01mreturn\u001b[39;00m x\n\u001b[1;32m    990\u001b[0m \u001b[38;5;28;01mfinally\u001b[39;00m:\n",
      "\u001b[0;31mValueError\u001b[0m: Could not find root within given tolerance. (161603.999999890937694 > 0.001)\nTry another starting point or tweak arguments."
     ]
    }
   ],
   "source": [
    "T0 =.10\n",
    "z0 = 0.00000214691916581\n",
    "second_constraint = lambda z: test_constraint(z, T0, weight_vec, value_vec, Wlimit)\n",
    "second_constraint(z0)\n",
    "z1 = .00000002\n",
    "mp.findroot(second_constraint, z1, tol = 1e-3)"
   ]
  },
  {
   "cell_type": "code",
   "execution_count": null,
   "id": "993cb480",
   "metadata": {},
   "outputs": [],
   "source": []
  },
  {
   "cell_type": "code",
   "execution_count": 621,
   "id": "9a956005",
   "metadata": {},
   "outputs": [
    {
     "data": {
      "text/plain": [
       "array([mpf('1.0'), mpf('1.0'), mpf('0.95787462026991399'), mpf('1.0'),\n",
       "       mpf('1.0'), mpf('9.9079539956990466e-191'), mpf('1.0'),\n",
       "       mpf('4.5562210779234951e-48'), mpf('0.45413830216978529'),\n",
       "       mpf('4.8290780756824434e-252'), mpf('1.0'),\n",
       "       mpf('8.0620733928812579e-52'), mpf('1.281589432784866e-71'),\n",
       "       mpf('2.2730105684453014e-229'), mpf('8.71642407026163e-241'),\n",
       "       mpf('1.0'), mpf('1.0'), mpf('1.0'), mpf('1.0'),\n",
       "       mpf('1.2246734496491926e-50'), mpf('1.0'),\n",
       "       mpf('2.4205774368687091e-127')], dtype=object)"
      ]
     },
     "execution_count": 621,
     "metadata": {},
     "output_type": "execute_result"
    }
   ],
   "source": [
    "1/(mp_exp_array(-value_vec/T0)*mp_exp_array(-weight_vec*mp.log(z0)) + 1)"
   ]
  },
  {
   "cell_type": "code",
   "execution_count": null,
   "id": "f2720dbf",
   "metadata": {},
   "outputs": [],
   "source": [
    "def root_finder(z_init = )"
   ]
  },
  {
   "cell_type": "code",
   "execution_count": 620,
   "id": "f66eb425",
   "metadata": {},
   "outputs": [
    {
     "data": {
      "text/plain": [
       "1.3051476689608728"
      ]
     },
     "execution_count": 620,
     "metadata": {},
     "output_type": "execute_result"
    }
   ],
   "source": [
    "-T0*np.log(z0)"
   ]
  },
  {
   "cell_type": "code",
   "execution_count": 541,
   "id": "a3602b36",
   "metadata": {},
   "outputs": [
    {
     "data": {
      "text/plain": [
       "1.3043478260869565"
      ]
     },
     "execution_count": 541,
     "metadata": {},
     "output_type": "execute_result"
    }
   ],
   "source": [
    "30/23"
   ]
  },
  {
   "cell_type": "code",
   "execution_count": 537,
   "id": "e8a170fa",
   "metadata": {},
   "outputs": [
    {
     "name": "stderr",
     "output_type": "stream",
     "text": [
      "/var/folders/c4/fvxhsb8j6kb6c97612_b98k00000gn/T/ipykernel_98108/153577755.py:1: RuntimeWarning: invalid value encountered in log\n",
      "  np.log(-1)\n"
     ]
    },
    {
     "data": {
      "text/plain": [
       "nan"
      ]
     },
     "execution_count": 537,
     "metadata": {},
     "output_type": "execute_result"
    }
   ],
   "source": []
  },
  {
   "cell_type": "code",
   "execution_count": 452,
   "id": "7afdabff",
   "metadata": {},
   "outputs": [
    {
     "data": {
      "text/plain": [
       "-2.3025850929940455"
      ]
     },
     "execution_count": 452,
     "metadata": {},
     "output_type": "execute_result"
    }
   ],
   "source": [
    "np.log(.100)"
   ]
  },
  {
   "cell_type": "code",
   "execution_count": null,
   "id": "49f841b6",
   "metadata": {},
   "outputs": [],
   "source": []
  },
  {
   "cell_type": "code",
   "execution_count": 421,
   "id": "2eff094a",
   "metadata": {},
   "outputs": [
    {
     "data": {
      "text/plain": [
       "mpf('-274.63602131782915')"
      ]
     },
     "execution_count": 421,
     "metadata": {},
     "output_type": "execute_result"
    }
   ],
   "source": [
    "test_constraint(z0, T0,  weight_vec, value_vec, Wlimit)"
   ]
  },
  {
   "cell_type": "code",
   "execution_count": 422,
   "id": "9255f6cc",
   "metadata": {},
   "outputs": [
    {
     "data": {
      "text/plain": [
       "mpc(real='0.10689599961536394', imag='9.0556790788267124e-71')"
      ]
     },
     "execution_count": 422,
     "metadata": {},
     "output_type": "execute_result"
    }
   ],
   "source": [
    "z1 = .01\n",
    "mp.findroot(second_constraint, z0)"
   ]
  },
  {
   "cell_type": "code",
   "execution_count": null,
   "id": "c7d90e6b",
   "metadata": {},
   "outputs": [],
   "source": []
  },
  {
   "cell_type": "code",
   "execution_count": null,
   "id": "51b6cb07",
   "metadata": {},
   "outputs": [],
   "source": []
  },
  {
   "cell_type": "code",
   "execution_count": 295,
   "id": "cb4b376c",
   "metadata": {},
   "outputs": [
    {
     "data": {
      "text/plain": [
       "mpf('6.8023947633243109')"
      ]
     },
     "execution_count": 295,
     "metadata": {},
     "output_type": "execute_result"
    }
   ],
   "source": [
    "mp.log(900)"
   ]
  },
  {
   "cell_type": "code",
   "execution_count": 210,
   "id": "707631c7",
   "metadata": {},
   "outputs": [],
   "source": [
    "test_constraint = lambda z, weights, values, limit: limit+ z/(1-z) + mp.sum(weights*z**(weights)/(mp.exp(-values/T) +z**(weights)))   "
   ]
  },
  {
   "cell_type": "code",
   "execution_count": 211,
   "id": "94ce446c",
   "metadata": {},
   "outputs": [],
   "source": [
    "partialFz = lambda z: test_constraint(z, weights= weight_vec, values=value_vec, limit= Wlimit)"
   ]
  },
  {
   "cell_type": "code",
   "execution_count": null,
   "id": "4583435c",
   "metadata": {},
   "outputs": [],
   "source": []
  },
  {
   "cell_type": "code",
   "execution_count": 219,
   "id": "9004a4d3",
   "metadata": {},
   "outputs": [
    {
     "data": {
      "text/plain": [
       "1.4035922178528375e+217"
      ]
     },
     "execution_count": 219,
     "metadata": {},
     "output_type": "execute_result"
    }
   ],
   "source": [
    "import scipy\n",
    "scipy.special.expm1(500)"
   ]
  },
  {
   "cell_type": "code",
   "execution_count": 215,
   "id": "b8762f7a",
   "metadata": {},
   "outputs": [
    {
     "name": "stderr",
     "output_type": "stream",
     "text": [
      "/var/folders/c4/fvxhsb8j6kb6c97612_b98k00000gn/T/ipykernel_98108/2006519253.py:1: RuntimeWarning: overflow encountered in exp\n",
      "  np.exp(1000)\n"
     ]
    },
    {
     "data": {
      "text/plain": [
       "inf"
      ]
     },
     "execution_count": 215,
     "metadata": {},
     "output_type": "execute_result"
    }
   ],
   "source": [
    "np.exp(1000)"
   ]
  },
  {
   "cell_type": "code",
   "execution_count": 212,
   "id": "cbdb41ca",
   "metadata": {},
   "outputs": [
    {
     "ename": "AttributeError",
     "evalue": "module 'mpmath' has no attribute 'array'",
     "output_type": "error",
     "traceback": [
      "\u001b[0;31m---------------------------------------------------------------------------\u001b[0m",
      "\u001b[0;31mAttributeError\u001b[0m                            Traceback (most recent call last)",
      "Input \u001b[0;32mIn [212]\u001b[0m, in \u001b[0;36m<cell line: 1>\u001b[0;34m()\u001b[0m\n\u001b[0;32m----> 1\u001b[0m \u001b[43mmp\u001b[49m\u001b[38;5;241;43m.\u001b[39;49m\u001b[43marray\u001b[49m\n",
      "\u001b[0;31mAttributeError\u001b[0m: module 'mpmath' has no attribute 'array'"
     ]
    }
   ],
   "source": [
    "mp.array"
   ]
  },
  {
   "cell_type": "code",
   "execution_count": 152,
   "id": "10b543c6",
   "metadata": {},
   "outputs": [],
   "source": [
    "# defining instance\n",
    "import numpy as np\n",
    "from matplotlib import lines\n",
    "import matplotlib.pyplot as plt\n",
    "import copy\n",
    "from scipy.optimize import fsolve, fmin\n",
    "import math\n",
    "from itertools import combinations\n",
    "\n",
    "\n",
    "from KP import KnapsackProblem"
   ]
  },
  {
   "cell_type": "code",
   "execution_count": 169,
   "id": "315922b9",
   "metadata": {},
   "outputs": [],
   "source": [
    "import numpy as np\n",
    "from matplotlib import lines\n",
    "import matplotlib.pyplot as plt\n",
    "import copy\n",
    "from scipy.optimize import fsolve, fmin\n",
    "import math\n",
    "from itertools import combinations\n",
    "\n",
    "\n",
    "def anycomb(items):\n",
    "    ' return combinations of any length from the items '\n",
    "    \n",
    "    nvals = len(items)\n",
    "    return ( comb\n",
    "             for r in range(1, nvals+1)\n",
    "             for comb in combinations(items, r)\n",
    "             )\n",
    " \n",
    "def totalvalue(comb, limit):\n",
    "    ' Totalise a particular combination of items'\n",
    "    totwt = totval = 0\n",
    "    for item, wt, val in comb:\n",
    "        totwt  += wt\n",
    "        totval += val\n",
    "    return (totval, -totwt) if totwt <= limit else (0, 0)\n",
    "\n",
    "\n",
    "def x_selected(x_vals, w_vals, W):\n",
    "    \n",
    "    '''\n",
    "    Selects the objects in decreasing order of \n",
    "    probability of occupancy until the weight limit is satisfied\n",
    "    '''\n",
    "    \n",
    "    final_object_list = np.zeros_like(x_vals)\n",
    "    for _ in range(len(x_vals)):\n",
    "        new_final_object_list = copy.deepcopy(final_object_list)\n",
    "        print(new_final_object_list)\n",
    "        idx1 = np.argmax(x_vals)\n",
    "        new_final_object_list[idx1] = 1\n",
    "        x_vals[idx1] = 0\n",
    "        if np.dot(w_vals, new_final_object_list) <= W:\n",
    "            final_object_list = copy.deepcopy(new_final_object_list)\n",
    "        else:\n",
    "            break\n",
    "            \n",
    "    return final_object_list\n",
    "\n",
    "def trans_knapsack(x, weights, limit): \n",
    "\n",
    "    '''\n",
    "    Randomly selects an item from our possible list of items and removes \n",
    "    it or adds contingent on whether it is already in the knapsack. \n",
    "    If adding the item pushes the knapsack above the weight limit, \n",
    "    another item is randomly selected. \n",
    "\n",
    "    Parameters\n",
    "    ----------\n",
    "    x : array\n",
    "        Vector representing the items in the pack\n",
    "\n",
    "    weights : array\n",
    "        Vector of weights for objects\n",
    "\n",
    "    limit : float\n",
    "        Maximum weight of knapsack\n",
    "\n",
    "    Returns\n",
    "    ----------\n",
    "    x_new : array\n",
    "        New vector respresenting items in knapsack\n",
    "    '''\n",
    "    \n",
    "    # define new vector\n",
    "    x_new = np.copy(x)\n",
    "    \n",
    "    # selects random integer between 0 and len(X)-1\n",
    "    idx = np.random.randint(len(x))\n",
    "    \n",
    "    # removes or adds item idx\n",
    "    x_new[idx] = np.abs(x_new[idx]-1)\n",
    "    \n",
    "    k = 0\n",
    "    # repeats selection if we have exceeded weight limit\n",
    "    while np.dot(x_new, weights) > limit: \n",
    "        # define new vector\n",
    "        x_new = np.copy(x)\n",
    "\n",
    "        # selects random integer between 0 and len(X)-1\n",
    "        idx = np.random.randint(len(x))\n",
    "\n",
    "        # removes or adds item idx\n",
    "        x_new[idx] = np.abs(x_new[idx]-1)\n",
    "        \n",
    "        #increment k by 1\n",
    "        k +=1 \n",
    "        \n",
    "        if k == 100:\n",
    "            \n",
    "            raise Exception('Maximum weight is too low to be satisfiable.')\n",
    "    \n",
    "    return x_new\n",
    "\n",
    "class KnapsackProblem:\n",
    "    \n",
    "    def __init__(self, weights, values, limit, bounds = None):\n",
    "        self.weights = weights\n",
    "        self.values = values\n",
    "        self.limit = limit\n",
    "        self.bounds = bounds\n",
    "        \n",
    "        '''\n",
    "        Note: For the unbounded knapsack problem we need to insert an \n",
    "        explicit definition of bounds as\n",
    "        \n",
    "        bounds = np.array([int(math.floor(W/w_elem)) for w_elem in weights])\n",
    "        '''\n",
    "        # number of weights must be the same as the number of values\n",
    "        assert len(self.values) == len(self.weights)    \n",
    "        \n",
    "        # number of bounds must be same as number of values (if there are bounds)\n",
    "        if self.bounds is not None:\n",
    "            assert len(self.bounds) == len(self.values)   \n",
    "        \n",
    "    def __str__(self):\n",
    "        if self.bounds is None:\n",
    "            return str(f'<Knapsack Instance, \\nWeights:{self.weights},\\nValues:{self.values},\\nLimit:{self.limit}>')\n",
    "        else:\n",
    "            return str(f'<Knapsack Instance, \\nWeights:{self.weights},\\nValues:{self.values},\\nLimit:{self.limit},\\nBounds:{self.bounds}>')\n",
    "        \n",
    "    def __repr__(self):\n",
    "        if self.bounds is None:\n",
    "            return str(f'<Knapsack Instance, \\nWeights:{self.weights},\\nValues:{self.values},\\nLimit:{self.limit}>')\n",
    "        else:\n",
    "            return str(f'<Knapsack Instance, \\nWeights:{self.weights},\\nValues:{self.values},\\nLimit:{self.limit},\\nBounds:{self.bounds}>')\n",
    "        \n",
    "        \n",
    "    #####\n",
    "    # Large N Algorithms: Zero-One and Bounded\n",
    "    #####        \n",
    "        \n",
    "    # defining function to produce average x\n",
    "    def X_avg_zero_one(self, z = 0.095, T=1.0):\n",
    "\n",
    "        \"\"\"\n",
    "        For the zero-one KP\n",
    "        Computes the average occupancy for each object given \n",
    "        the solution to the steepest descent condition, model parameters\n",
    "        (weights, values) and model hyperparameter (T)\n",
    "\n",
    "        Parameters\n",
    "        ----------\n",
    "        z : float\n",
    "            Solution to steepest descent condition\n",
    "\n",
    "        weights : array\n",
    "            Vector of weights for objects\n",
    "\n",
    "        values : array\n",
    "            Vector of values for objects\n",
    "\n",
    "        T : float\n",
    "            Temperature for statistical physics system\n",
    "\n",
    "        Returns\n",
    "        ----------\n",
    "        xvec : array\n",
    "            Vector of average occupancies\n",
    "        \"\"\"    \n",
    "\n",
    "        nvals = len(self.weights)\n",
    "\n",
    "        # empty vector \n",
    "        xvec = np.zeros(nvals) \n",
    "\n",
    "        # filling in averages\n",
    "        for k in range(nvals):\n",
    "\n",
    "            xvec[k] = np.exp(self.values[k]/T)/(z**(-self.weights[k]) + np.exp(self.values[k]/T))\n",
    "\n",
    "        return xvec\n",
    "    \n",
    "    # defining function to produce average x\n",
    "    def X_avg_bounded(self, z, T):\n",
    "\n",
    "        \"\"\"\n",
    "        For the bounded KP\n",
    "        Computes the average occupancy for each object given \n",
    "        the solution to the steepest descent condition, model parameters\n",
    "        (weights, values, C) and model hyperparameter (T)\n",
    "\n",
    "        Parameters\n",
    "        ----------\n",
    "        z : float\n",
    "            Solution to steepest descent condition\n",
    "\n",
    "        T : float\n",
    "            Temperature for statistical physics system\n",
    "\n",
    "        Returns\n",
    "        ----------\n",
    "        xvec : array\n",
    "            Vector of average occupancies\n",
    "        \"\"\"    \n",
    "        \n",
    "        if self.bounds is None:\n",
    "            return 'Not a Bounded Knapsack Problem'\n",
    "\n",
    "        # empty vector \n",
    "        xvec = np.zeros(len(self.weights)) \n",
    "\n",
    "        # filling in averages\n",
    "        for k in range(len(self.weights)):\n",
    "\n",
    "            xvec[k] = np.exp(self.values[k]/T)/(z**(-self.weights[k]) - np.exp(self.values[k]/T)) - (self.bounds[k]+1)*np.exp((self.bounds[k]+1)*self.values[k]/T)/(z**(-(self.bounds[k]+1)*self.weights[k]) - np.exp((self.bounds[k]+1)*self.values[k]/T))\n",
    "\n",
    "        return xvec    \n",
    "    \n",
    "    # potential function for zero-one problem\n",
    "    def potential(self, z, T):\n",
    "        return - self.limit*np.log(z)-np.log(1-z) + np.sum(np.log(1+z**(self.weights)*np.exp(self.values/T)))\n",
    "\n",
    "    # derivative of potential function (with z product)    \n",
    "    def constraint(self, z, T):\n",
    "        return -self.limit+ z/(1-z) + np.sum(self.weights*z**(self.weights)/(np.exp(-self.values/T) +z**(self.weights)))   \n",
    "\n",
    "    # derivative of potential function (with z product)    \n",
    "    def temp_constraint(self,  T, z):\n",
    "        return -self.limit+ z/(1-z) + np.sum(self.weights*z**(self.weights)/(np.exp(-self.values/T) +z**(self.weights)))      \n",
    " \n",
    "    # potential function for bounded problem\n",
    "    def potential_bounded(self, z, T):\n",
    "        if self.bounds is None:\n",
    "            return 'Not a Bounded Knapsack Problem'        \n",
    "        \n",
    "        return - self.limit*np.log(z)-np.log(1-z)+np.sum(np.log(1-z**((self.bounds+1)*self.weights)*np.exp((self.bounds+1)*self.values/T))) - np.sum(np.log(1-z**(self.weights)*np.exp(self.values/T)))\n",
    "\n",
    "    # derivative of potential function for bounded problem (with z product)    \n",
    "    def constraint_bounded(self, z, T):\n",
    "        if self.bounds is None:\n",
    "            return 'Not a Bounded Knapsack Problem'        \n",
    "        \n",
    "        return -self.limit+ z/(1-z) + np.sum(self.weights/(z**(-self.weights)*np.exp(-self.values/T) -1 )) - np.sum((self.bounds+1)*self.weights/(z**(-(self.bounds+1)*self.weights)*np.exp(-(self.bounds+1)*self.values/T) - 1))\n",
    "        \n",
    "    \n",
    "    # consolidating algorithm\n",
    "    def largeN_algorithm(self, x0 = 0.105, T = 1.0, threshold = 0.6, ceiling = True):\n",
    "\n",
    "        \"\"\"\n",
    "        Full algorithm for the zero-one KP\n",
    "\n",
    "        Parameters\n",
    "        ----------\n",
    "        \n",
    "        x0 : float\n",
    "            Starting value for solving constrain equation\n",
    "\n",
    "        T : float\n",
    "            Temperature for statistical physics system\n",
    "\n",
    "        threshold : float\n",
    "            Limit for rounding to next highest integer\n",
    "\n",
    "\n",
    "        Returns\n",
    "        ----------\n",
    "        x_soln : array\n",
    "            Vector of occupancies\n",
    "\n",
    "        \"\"\"    \n",
    "        \n",
    "        # defaulting to standard problem\n",
    "        if self.bounds is None:\n",
    "            # solving for z0\n",
    "            z0 = fsolve(self.constraint, x0=x0, args = (T,))[0]\n",
    "#             z0 = fmin(self.potential, x0=x0, args = (T,),disp=False)[0]\n",
    "            \n",
    "            # solving for averages\n",
    "            x_avgs = self.X_avg_zero_one(z = z0, T= T)\n",
    "        else:\n",
    "            # solving for z0\n",
    "            z0 = fsolve(self.constraint_bounded, x0=x0, args = (T,))[0]\n",
    "            # solving for averages\n",
    "            x_avgs = self.X_avg_bounded(z = z0, T= T)\n",
    "        \n",
    "        if ceiling == True:\n",
    "            # thresholding averages\n",
    "            x_soln = np.abs(np.ceil(x_avgs - threshold))\n",
    "        \n",
    "        else:\n",
    "            x_soln = x_avgs\n",
    "\n",
    "        return x_soln      \n",
    "    \n",
    "    # consolidating algorithm\n",
    "    def largeN_algorithm_new(self):\n",
    "\n",
    "        \"\"\"\n",
    "        Full algorithm for the zero-one KP\n",
    "\n",
    "        Parameters\n",
    "        ----------\n",
    "\n",
    "\n",
    "        Returns\n",
    "        ----------\n",
    "        x_soln : array\n",
    "            Binary vector of occupancies\n",
    "\n",
    "        \"\"\"    \n",
    "\n",
    "        #starting temperature\n",
    "#         Tstart = 1/np.min(self.values)\n",
    "\n",
    "        # finding value of gamma\n",
    "        gamma_val = self.gamma_calc()\n",
    "        print(\"gamma value\", gamma_val)\n",
    "        \n",
    "        # selecting values\n",
    "        x_soln = np.zeros_like(self.values)\n",
    "        for k in range(len(x_soln)):\n",
    "            \n",
    "            x_soln[k] = np.heaviside(self.values[k] - gamma_val*self.weights[k], 0)\n",
    "\n",
    "        return x_soln\n",
    "\n",
    "        \n",
    "    def gamma_calc(self, T0 = 1.5):\n",
    "    \n",
    "        \"\"\"\n",
    "        Computing limit ratio for weights and values\n",
    "\n",
    "        Parameters\n",
    "        ----------\n",
    "        \n",
    "        x0 : float\n",
    "            Starting value for solving constrain equation                \n",
    "\n",
    "        T0 : float\n",
    "            Initial temperature for finding gamma\n",
    "\n",
    "\n",
    "        Returns\n",
    "        ----------\n",
    "        gamma_fin : float\n",
    "            Computed minimum value/weight ratio for item to be included \n",
    "            in knapsack\n",
    "\n",
    "        \"\"\"   \n",
    "    \n",
    "#         z_res = fmin(self.potential, x0=.01, args = (T0,), disp = False)[0]\n",
    "        z_res = fsolve(self.constraint, x0=.01, args = (T0,))[0]\n",
    "        \n",
    "        gamma_init = -np.log(z_res)*T0  \n",
    "\n",
    "        for k in range(1,400):\n",
    "\n",
    "            T = T0*(1.0- 0.005*k)\n",
    "            z_res = fmin(self.potential, x0=.0001, args = (T,), disp = False)[0]\n",
    "            gamma_fin = -np.log(z_res)*T \n",
    "            print(\"Value of temperature:\",T)\n",
    "            print(\"Value of gamma:\",-np.log(z_res)*T)\n",
    "            \n",
    "            if gamma_fin > 0:\n",
    "                if np.abs(gamma_fin-gamma_init)/np.abs(gamma_init)<0.05:\n",
    "                \n",
    "                    if np.abs(gamma_fin-gamma_init)/np.abs(gamma_init)>0.000001:\n",
    "                        print(gamma_fin)\n",
    "                        gamma_init = gamma_fin\n",
    "                    else: \n",
    "                        print(np.abs(gamma_fin-gamma_init)/np.abs(gamma_init))\n",
    "                        return gamma_fin\n",
    "                    \n",
    "                else:\n",
    "                    print(np.abs(gamma_fin-gamma_init)/np.abs(gamma_init))\n",
    "                    return gamma_init                   \n",
    "                \n",
    "            else:\n",
    "                print('Negative gamma encountered')\n",
    "                break\n",
    "        "
   ]
  },
  {
   "cell_type": "code",
   "execution_count": 1306,
   "id": "4af0a019",
   "metadata": {},
   "outputs": [],
   "source": [
    "def func( x ):\n",
    "    return x * x * x - x * x + 2\n",
    " \n",
    "# Derivative of the above function\n",
    "# which is 3*x^x - 2*x\n",
    "def derivFunc( x ):\n",
    "    return 3 * x * x - 2 * x\n",
    " \n",
    "# Function to find the root\n",
    "def newtonRaphson( x ):\n",
    "    h = func(x) / derivFunc(x)\n",
    "    while abs(h) >= 0.0001:\n",
    "        h = func(x)/derivFunc(x)\n",
    "         \n",
    "        # x(i+1) = x(i) - f(x) / f'(x)\n",
    "        x = x - h\n",
    "     \n",
    "    print(\"The value of the root is : \",\n",
    "                             \"%.4f\"% x)"
   ]
  },
  {
   "cell_type": "code",
   "execution_count": 222,
   "id": "71efc2d6",
   "metadata": {},
   "outputs": [
    {
     "data": {
      "text/plain": [
       "array([16.66666667,  2.69230769,  1.30718954,  3.2       ,  4.        ,\n",
       "        0.66176471,  2.22222222,  1.02564103,  1.30434783,  0.19230769,\n",
       "        6.36363636,  0.9375    ,  0.625     ,  0.20833333,  0.54794521,\n",
       "        1.66666667,  1.74418605,  3.63636364,  2.85714286,  0.66666667,\n",
       "       12.5       ,  0.33333333])"
      ]
     },
     "execution_count": 222,
     "metadata": {},
     "output_type": "execute_result"
    }
   ],
   "source": [
    "value_vec/weight_vec"
   ]
  },
  {
   "cell_type": "code",
   "execution_count": 278,
   "id": "bc3d74ff",
   "metadata": {},
   "outputs": [
    {
     "name": "stdout",
     "output_type": "stream",
     "text": [
      "Optimization terminated successfully.\n",
      "         Current function value: 25.942428\n",
      "         Iterations: 23\n",
      "         Function evaluations: 46\n"
     ]
    },
    {
     "name": "stderr",
     "output_type": "stream",
     "text": [
      "/var/folders/c4/fvxhsb8j6kb6c97612_b98k00000gn/T/ipykernel_98108/4181832302.py:221: RuntimeWarning: invalid value encountered in log\n",
      "  return - self.limit*np.log(z)-np.log(1-z) + np.sum(np.log(1+z**(self.weights)*np.exp(self.values/T)))\n"
     ]
    },
    {
     "data": {
      "text/plain": [
       "0.7887500000000011"
      ]
     },
     "execution_count": 278,
     "metadata": {},
     "output_type": "execute_result"
    }
   ],
   "source": [
    "counter_KP = KnapsackProblem(weights = np.array([30,20]), values = np.array([80,20]), limit = 45)\n",
    "T0 = 4.0\n",
    "z_res = fmin(counter_KP.potential, x0=0.01, args = (T0,))[0]\n",
    "z_res\n",
    "# -T0*np.log(z_res)"
   ]
  },
  {
   "cell_type": "code",
   "execution_count": 1305,
   "id": "57ef0474",
   "metadata": {},
   "outputs": [
    {
     "name": "stderr",
     "output_type": "stream",
     "text": [
      "/var/folders/c4/fvxhsb8j6kb6c97612_b98k00000gn/T/ipykernel_98108/4181832302.py:225: RuntimeWarning: invalid value encountered in true_divide\n",
      "  return -self.limit+ z/(1-z) + np.sum(self.weights*z**(self.weights)/(np.exp(-self.values/T) +z**(self.weights)))\n",
      "/Library/Frameworks/Python.framework/Versions/3.10/lib/python3.10/site-packages/scipy/optimize/_minpack_py.py:175: RuntimeWarning: The iteration is not making good progress, as measured by the \n",
      "  improvement from the last ten iterations.\n",
      "  warnings.warn(msg, RuntimeWarning)\n"
     ]
    },
    {
     "data": {
      "text/plain": [
       "0.01"
      ]
     },
     "execution_count": 1305,
     "metadata": {},
     "output_type": "execute_result"
    }
   ],
   "source": [
    "T0 = 0.1\n",
    "z_res = fsolve(KP_camping.constraint, x0=.01, args = (T0,))[0]\n",
    "z_res"
   ]
  },
  {
   "cell_type": "code",
   "execution_count": 280,
   "id": "57d5644a",
   "metadata": {},
   "outputs": [
    {
     "name": "stdout",
     "output_type": "stream",
     "text": [
      "Value of temperature: 3.98\n",
      "Value of gamma: 1.2552155681685175\n",
      "1.2552155681685175\n",
      "Value of temperature: 3.96\n",
      "Value of gamma: 1.2553396547236964\n",
      "1.2553396547236964\n",
      "Value of temperature: 3.94\n",
      "Value of gamma: 1.255464456127512\n",
      "1.255464456127512\n",
      "Value of temperature: 3.92\n",
      "Value of gamma: 1.255589986980291\n",
      "1.255589986980291\n",
      "Value of temperature: 3.9\n",
      "Value of gamma: 1.2557162621338556\n",
      "1.2557162621338556\n",
      "Value of temperature: 3.88\n",
      "Value of gamma: 1.2558432966929667\n",
      "1.2558432966929667\n",
      "Value of temperature: 3.86\n",
      "Value of gamma: 1.2559711060166152\n",
      "1.2559711060166152\n",
      "Value of temperature: 3.84\n",
      "Value of gamma: 1.2560997057191625\n",
      "1.2560997057191625\n",
      "Value of temperature: 3.82\n",
      "Value of gamma: 1.256229111671305\n",
      "1.256229111671305\n",
      "Value of temperature: 3.8\n",
      "Value of gamma: 1.256359340000869\n",
      "1.256359340000869\n",
      "Value of temperature: 3.78\n",
      "Value of gamma: 1.2564904070934018\n",
      "1.2564904070934018\n",
      "Value of temperature: 3.76\n",
      "Value of gamma: 1.256622329592561\n",
      "1.256622329592561\n",
      "Value of temperature: 3.74\n",
      "Value of gamma: 1.2567551244002775\n",
      "1.2567551244002775\n",
      "Value of temperature: 3.7199999999999998\n",
      "Value of gamma: 1.2568888086767336\n",
      "1.2568888086767336\n",
      "Value of temperature: 3.7\n",
      "Value of gamma: 1.2570233998399378\n",
      "1.2570233998399378\n",
      "Value of temperature: 3.68\n",
      "Value of gamma: 1.2571589155652403\n",
      "1.2571589155652403\n",
      "Value of temperature: 3.66\n",
      "Value of gamma: 1.2572953737844839\n",
      "1.2572953737844839\n",
      "Value of temperature: 3.64\n",
      "Value of gamma: 1.2574327926844353\n",
      "1.2574327926844353\n",
      "Value of temperature: 3.62\n",
      "Value of gamma: 1.2575711907040477\n",
      "1.2575711907040477\n",
      "Value of temperature: 3.6\n",
      "Value of gamma: 1.2577105865435145\n",
      "1.2577105865435145\n",
      "Value of temperature: 3.58\n",
      "Value of gamma: 1.2578509991375642\n",
      "1.2578509991375642\n",
      "Value of temperature: 3.56\n",
      "Value of gamma: 1.257992447678781\n",
      "1.257992447678781\n",
      "Value of temperature: 3.54\n",
      "Value of gamma: 1.2581349516013003\n",
      "1.2581349516013003\n",
      "Value of temperature: 3.52\n",
      "Value of gamma: 1.2582785305801003\n",
      "1.2582785305801003\n",
      "Value of temperature: 3.5\n",
      "Value of gamma: 1.2584232045269768\n",
      "1.2584232045269768\n",
      "Value of temperature: 3.48\n",
      "Value of gamma: 1.2585689935891011\n",
      "1.2585689935891011\n",
      "Value of temperature: 3.46\n",
      "Value of gamma: 1.2587159181372027\n",
      "1.2587159181372027\n",
      "Value of temperature: 3.44\n",
      "Value of gamma: 1.2588639987681827\n",
      "1.2588639987681827\n",
      "Value of temperature: 3.42\n",
      "Value of gamma: 1.2590132562951306\n",
      "1.2590132562951306\n",
      "Value of temperature: 3.4\n",
      "Value of gamma: 1.2591637117418402\n",
      "1.2591637117418402\n",
      "Value of temperature: 3.38\n",
      "Value of gamma: 1.2593153863358089\n",
      "1.2593153863358089\n",
      "Value of temperature: 3.36\n",
      "Value of gamma: 1.2594683015003327\n",
      "1.2594683015003327\n",
      "Value of temperature: 3.34\n",
      "Value of gamma: 1.2596224788500363\n",
      "1.2596224788500363\n",
      "Value of temperature: 3.32\n",
      "Value of gamma: 1.259777940173134\n",
      "1.259777940173134\n",
      "Value of temperature: 3.3\n",
      "Value of gamma: 1.2599347074317004\n",
      "1.2599347074317004\n",
      "Value of temperature: 3.2800000000000002\n",
      "Value of gamma: 1.2600928027462739\n",
      "1.2600928027462739\n",
      "Value of temperature: 3.26\n",
      "Value of gamma: 1.2602522483859535\n",
      "1.2602522483859535\n",
      "Value of temperature: 3.24\n",
      "Value of gamma: 1.2604130667566351\n",
      "1.2604130667566351\n",
      "Value of temperature: 3.2199999999999998\n",
      "Value of gamma: 1.26057528038843\n",
      "1.26057528038843\n",
      "Value of temperature: 3.2\n",
      "Value of gamma: 1.2607389119224823\n",
      "1.2607389119224823\n",
      "Value of temperature: 3.1799999999999997\n",
      "Value of gamma: 1.2609039840973713\n",
      "1.2609039840973713\n",
      "Value of temperature: 3.16\n",
      "Value of gamma: 1.2610705197361722\n",
      "1.2610705197361722\n",
      "Value of temperature: 3.14\n",
      "Value of gamma: 1.2612385417188663\n",
      "1.2612385417188663\n",
      "Value of temperature: 3.12\n",
      "Value of gamma: 1.2614080729832402\n",
      "1.2614080729832402\n",
      "Value of temperature: 3.1\n",
      "Value of gamma: 1.2615791364945355\n",
      "1.2615791364945355\n",
      "Value of temperature: 3.08\n",
      "Value of gamma: 1.2617517552308586\n",
      "1.2617517552308586\n",
      "Value of temperature: 3.06\n",
      "Value of gamma: 1.2619259521632953\n",
      "1.2619259521632953\n",
      "Value of temperature: 3.04\n",
      "Value of gamma: 1.2621017502354808\n",
      "1.2621017502354808\n",
      "Value of temperature: 3.02\n",
      "Value of gamma: 1.262279172339503\n",
      "1.262279172339503\n",
      "Value of temperature: 3.0\n",
      "Value of gamma: 1.2624582412964167\n",
      "1.2624582412964167\n",
      "Value of temperature: 2.98\n",
      "Value of gamma: 1.2626389798298066\n",
      "1.2626389798298066\n",
      "Value of temperature: 2.96\n",
      "Value of gamma: 1.2628214105424762\n",
      "1.2628214105424762\n",
      "Value of temperature: 2.94\n",
      "Value of gamma: 1.2630055558902389\n",
      "1.2630055558902389\n",
      "Value of temperature: 2.92\n",
      "Value of gamma: 1.2631914381538354\n",
      "1.2631914381538354\n",
      "Value of temperature: 2.9\n",
      "Value of gamma: 1.2633790794115292\n",
      "1.2633790794115292\n",
      "Value of temperature: 2.88\n",
      "Value of gamma: 1.2635685015131042\n",
      "1.2635685015131042\n",
      "Value of temperature: 2.86\n",
      "Value of gamma: 1.2637597260419238\n",
      "1.2637597260419238\n",
      "Value of temperature: 2.84\n",
      "Value of gamma: 1.26395277429242\n",
      "1.26395277429242\n",
      "Value of temperature: 2.8200000000000003\n",
      "Value of gamma: 1.2641476672322047\n",
      "1.2641476672322047\n",
      "Value of temperature: 2.8\n",
      "Value of gamma: 1.2643444254713452\n",
      "1.2643444254713452\n",
      "Value of temperature: 2.7800000000000002\n",
      "Value of gamma: 1.2645430692277648\n",
      "1.2645430692277648\n",
      "Value of temperature: 2.76\n",
      "Value of gamma: 1.264743618291415\n",
      "1.264743618291415\n",
      "Value of temperature: 2.74\n",
      "Value of gamma: 1.2649460919892586\n",
      "1.2649460919892586\n",
      "Value of temperature: 2.7199999999999998\n",
      "Value of gamma: 1.2651505091478963\n",
      "1.2651505091478963\n",
      "Value of temperature: 2.7\n",
      "Value of gamma: 1.2653568880562118\n",
      "1.2653568880562118\n",
      "Value of temperature: 2.6799999999999997\n",
      "Value of gamma: 1.2655652464264697\n",
      "1.2655652464264697\n",
      "Value of temperature: 2.66\n",
      "Value of gamma: 1.26577560135693\n",
      "1.26577560135693\n",
      "Value of temperature: 2.6399999999999997\n",
      "Value of gamma: 1.265987969290981\n",
      "1.265987969290981\n",
      "Value of temperature: 2.62\n",
      "Value of gamma: 1.266202365974297\n",
      "1.266202365974297\n",
      "Value of temperature: 2.5999999999999996\n",
      "Value of gamma: 1.2664188064241053\n",
      "1.2664188064241053\n",
      "Value of temperature: 2.58\n",
      "Value of gamma: 1.266637304873953\n",
      "1.266637304873953\n",
      "Value of temperature: 2.56\n",
      "Value of gamma: 1.2668578747449988\n",
      "1.2668578747449988\n",
      "Value of temperature: 2.54\n",
      "Value of gamma: 1.267080528599544\n",
      "1.267080528599544\n",
      "Value of temperature: 2.52\n",
      "Value of gamma: 1.267305278100791\n",
      "1.267305278100791\n",
      "Value of temperature: 2.5\n",
      "Value of gamma: 1.2675321339723198\n",
      "1.2675321339723198\n",
      "Value of temperature: 2.48\n",
      "Value of gamma: 1.2677611059573175\n",
      "1.2677611059573175\n",
      "Value of temperature: 2.46\n",
      "Value of gamma: 1.2679922027786181\n",
      "1.2679922027786181\n",
      "Value of temperature: 2.44\n",
      "Value of gamma: 1.268225432099825\n",
      "1.268225432099825\n",
      "Value of temperature: 2.42\n",
      "Value of gamma: 1.2684608004859663\n",
      "1.2684608004859663\n",
      "Value of temperature: 2.4\n",
      "Value of gamma: 1.2686983133658842\n",
      "1.2686983133658842\n",
      "Value of temperature: 2.38\n",
      "Value of gamma: 1.268937974996167\n",
      "1.268937974996167\n",
      "Value of temperature: 2.36\n",
      "Value of gamma: 1.2691797884256455\n",
      "1.2691797884256455\n",
      "Value of temperature: 2.34\n",
      "Value of gamma: 1.2694237554621273\n",
      "1.2694237554621273\n",
      "Value of temperature: 2.3200000000000003\n",
      "Value of gamma: 1.269669876639706\n",
      "1.269669876639706\n",
      "Value of temperature: 2.3\n",
      "Value of gamma: 1.2699181511886877\n",
      "1.2699181511886877\n",
      "Value of temperature: 2.2800000000000002\n",
      "Value of gamma: 1.27016857700843\n",
      "1.27016857700843\n",
      "Value of temperature: 2.26\n",
      "Value of gamma: 1.270421150640457\n",
      "1.270421150640457\n",
      "Value of temperature: 2.24\n",
      "Value of gamma: 1.270675867245942\n",
      "1.270675867245942\n",
      "Value of temperature: 2.2199999999999998\n",
      "Value of gamma: 1.2709327205847833\n",
      "1.2709327205847833\n",
      "Value of temperature: 2.2\n",
      "Value of gamma: 1.2711917029978927\n",
      "1.2711917029978927\n",
      "Value of temperature: 2.1799999999999997\n",
      "Value of gamma: 1.2714528053926233\n",
      "1.2714528053926233\n",
      "Value of temperature: 2.16\n",
      "Value of gamma: 1.2717160172311586\n",
      "1.2717160172311586\n",
      "Value of temperature: 2.1399999999999997\n",
      "Value of gamma: 1.2719813265226494\n",
      "1.2719813265226494\n",
      "Value of temperature: 2.12\n",
      "Value of gamma: 1.272248719818094\n",
      "1.272248719818094\n",
      "Value of temperature: 2.0999999999999996\n",
      "Value of gamma: 1.2725181822124927\n",
      "1.2725181822124927\n",
      "Value of temperature: 2.08\n",
      "Value of gamma: 1.27278969734343\n",
      "1.27278969734343\n",
      "Value of temperature: 2.06\n",
      "Value of gamma: 1.273063247401386\n",
      "1.273063247401386\n",
      "Value of temperature: 2.04\n",
      "Value of gamma: 1.27333881314127\n",
      "1.27333881314127\n",
      "Value of temperature: 2.02\n",
      "Value of gamma: 1.2736163738969966\n",
      "1.2736163738969966\n",
      "Value of temperature: 2.0\n",
      "Value of gamma: 1.2738959076025889\n",
      "1.2738959076025889\n",
      "Value of temperature: 1.98\n",
      "Value of gamma: 1.2741773908138718\n",
      "1.2741773908138718\n",
      "Value of temperature: 1.96\n",
      "Value of gamma: 1.2744607987458638\n",
      "1.2744607987458638\n",
      "Value of temperature: 1.94\n",
      "Value of gamma: 1.2747461052915847\n",
      "1.2747461052915847\n",
      "Value of temperature: 1.92\n",
      "Value of gamma: 1.2750332830742337\n",
      "1.2750332830742337\n",
      "Value of temperature: 1.9\n",
      "Value of gamma: 1.2753223034822592\n",
      "1.2753223034822592\n",
      "Value of temperature: 1.88\n",
      "Value of gamma: 1.275613136720254\n",
      "1.275613136720254\n",
      "Value of temperature: 1.8599999999999999\n",
      "Value of gamma: 1.2759057518554278\n",
      "1.2759057518554278\n",
      "Value of temperature: 1.8399999999999999\n",
      "Value of gamma: 1.276200116878394\n",
      "1.276200116878394\n",
      "Value of temperature: 1.8199999999999998\n",
      "Value of gamma: 1.2764961987606611\n",
      "1.2764961987606611\n",
      "Value of temperature: 1.7999999999999998\n",
      "Value of gamma: 1.2767939635191836\n",
      "1.2767939635191836\n",
      "Value of temperature: 1.7799999999999998\n",
      "Value of gamma: 1.2770933762845391\n",
      "1.2770933762845391\n",
      "Value of temperature: 1.7599999999999998\n",
      "Value of gamma: 1.2773944013722207\n",
      "1.2773944013722207\n",
      "Value of temperature: 1.7399999999999998\n",
      "Value of gamma: 1.2776970023586884\n",
      "1.2776970023586884\n",
      "Value of temperature: 1.7199999999999998\n",
      "Value of gamma: 1.2780011421593802\n",
      "1.2780011421593802\n",
      "Value of temperature: 1.6999999999999997\n",
      "Value of gamma: 1.2783067831100836\n",
      "1.2783067831100836\n",
      "Value of temperature: 1.6800000000000002\n",
      "Value of gamma: 1.2786138870511148\n",
      "1.2786138870511148\n",
      "Value of temperature: 1.6600000000000001\n",
      "Value of gamma: 1.278922415415048\n",
      "1.278922415415048\n",
      "Value of temperature: 1.6400000000000001\n",
      "Value of gamma: 1.2792323293145345\n",
      "1.2792323293145345\n",
      "Value of temperature: 1.62\n",
      "Value of gamma: 1.2795435896332945\n",
      "1.2795435896332945\n",
      "Value of temperature: 1.6\n",
      "Value of gamma: 1.2798561571174347\n",
      "1.2798561571174347\n",
      "Value of temperature: 1.58\n",
      "Value of gamma: 1.280169992469477\n",
      "1.280169992469477\n",
      "Value of temperature: 1.56\n",
      "Value of gamma: 1.2804850564400383\n",
      "1.2804850564400383\n",
      "Value of temperature: 1.54\n",
      "Value of gamma: 1.2808013099222948\n",
      "1.2808013099222948\n",
      "Value of temperature: 1.52\n",
      "Value of gamma: 1.2811187140474816\n",
      "1.2811187140474816\n",
      "Value of temperature: 1.5\n",
      "Value of gamma: 1.2814372302731007\n",
      "1.2814372302731007\n",
      "Value of temperature: 1.48\n",
      "Value of gamma: 1.281756820475945\n",
      "1.281756820475945\n",
      "Value of temperature: 1.46\n",
      "Value of gamma: 1.2820774470438872\n",
      "1.2820774470438872\n",
      "Value of temperature: 1.44\n",
      "Value of gamma: 1.2823990729610053\n",
      "1.2823990729610053\n",
      "Value of temperature: 1.42\n",
      "Value of gamma: 1.282721661892648\n",
      "1.282721661892648\n",
      "Value of temperature: 1.4\n",
      "Value of gamma: 1.2830451782710686\n",
      "1.2830451782710686\n",
      "Value of temperature: 1.38\n",
      "Value of gamma: 1.2833695873659101\n",
      "1.2833695873659101\n",
      "Value of temperature: 1.3599999999999999\n",
      "Value of gamma: 1.2836948553665577\n",
      "1.2836948553665577\n",
      "Value of temperature: 1.3399999999999999\n",
      "Value of gamma: 1.2840209494479058\n",
      "1.2840209494479058\n",
      "Value of temperature: 1.3199999999999998\n",
      "Value of gamma: 1.2843478378353943\n",
      "1.2843478378353943\n",
      "Value of temperature: 1.2999999999999998\n",
      "Value of gamma: 1.284675489869241\n",
      "1.284675489869241\n",
      "Value of temperature: 1.2799999999999998\n",
      "Value of gamma: 1.2850038760486149\n",
      "1.2850038760486149\n",
      "Value of temperature: 1.2599999999999998\n",
      "Value of gamma: 1.2853329680915908\n",
      "1.2853329680915908\n",
      "Value of temperature: 1.2399999999999998\n",
      "Value of gamma: 1.2856627389665325\n",
      "1.2856627389665325\n",
      "Value of temperature: 1.2199999999999998\n",
      "Value of gamma: 1.2859931629324395\n",
      "1.2859931629324395\n",
      "Value of temperature: 1.1999999999999997\n",
      "Value of gamma: 1.2863242155646861\n",
      "1.2863242155646861\n",
      "Value of temperature: 1.1800000000000002\n",
      "Value of gamma: 1.2866558737752292\n",
      "1.2866558737752292\n",
      "Value of temperature: 1.1600000000000001\n",
      "Value of gamma: 1.2869881158254237\n",
      "1.2869881158254237\n",
      "Value of temperature: 1.1400000000000001\n",
      "Value of gamma: 1.287320921330961\n",
      "1.287320921330961\n",
      "Value of temperature: 1.12\n",
      "Value of gamma: 1.287654271259627\n",
      "1.287654271259627\n",
      "Value of temperature: 1.1\n",
      "Value of gamma: 1.2879881479197326\n",
      "1.2879881479197326\n",
      "Value of temperature: 1.08\n",
      "Value of gamma: 1.288322534942939\n",
      "1.288322534942939\n",
      "Value of temperature: 1.06\n",
      "Value of gamma: 1.2886574172577296\n",
      "1.2886574172577296\n",
      "Value of temperature: 1.04\n",
      "Value of gamma: 1.2889927810561865\n",
      "1.2889927810561865\n",
      "Value of temperature: 1.02\n",
      "Value of gamma: 1.2893286137534783\n",
      "1.2893286137534783\n",
      "Value of temperature: 1.0\n",
      "Value of gamma: 1.289664903940222\n",
      "1.289664903940222\n",
      "Value of temperature: 0.98\n",
      "Value of gamma: 1.290001641328796\n",
      "1.290001641328796\n",
      "Value of temperature: 0.96\n",
      "Value of gamma: 1.2903388166933611\n",
      "1.2903388166933611\n",
      "Value of temperature: 0.94\n",
      "Value of gamma: 1.2906764218048197\n",
      "1.2906764218048197\n",
      "Value of temperature: 0.9199999999999999\n",
      "Value of gamma: 1.2910144493598792\n",
      "1.2910144493598792\n",
      "Value of temperature: 0.8999999999999999\n",
      "Value of gamma: 1.291352892910235\n",
      "1.291352892910235\n",
      "Value of temperature: 0.8799999999999999\n",
      "Value of gamma: 1.2916917467789566\n",
      "1.2916917467789566\n",
      "Value of temperature: 0.8599999999999999\n",
      "Value of gamma: 1.2920310059868307\n",
      "1.2920310059868307\n",
      "Value of temperature: 0.8399999999999999\n",
      "Value of gamma: 1.2923706661664325\n",
      "1.2923706661664325\n",
      "Value of temperature: 0.8199999999999998\n",
      "Value of gamma: 1.2927107234807542\n",
      "1.2927107234807542\n",
      "Value of temperature: 0.7999999999999998\n",
      "Value of gamma: 1.293051174538592\n",
      "1.293051174538592\n",
      "Value of temperature: 0.7799999999999998\n",
      "Value of gamma: 1.2933920163116173\n",
      "1.2933920163116173\n",
      "Value of temperature: 0.7599999999999998\n",
      "Value of gamma: 1.293733246051134\n",
      "1.293733246051134\n",
      "Value of temperature: 0.7399999999999998\n",
      "Value of gamma: 1.2940748612058544\n",
      "1.2940748612058544\n",
      "Value of temperature: 0.7199999999999998\n",
      "Value of gamma: 1.2944168593409795\n",
      "1.2944168593409795\n",
      "Value of temperature: 0.6999999999999997\n",
      "Value of gamma: 1.294759238057443\n",
      "1.294759238057443\n",
      "Value of temperature: 0.6799999999999997\n",
      "Value of gamma: 1.2951019949121951\n",
      "1.2951019949121951\n",
      "Value of temperature: 0.6600000000000001\n",
      "Value of gamma: 1.295445127337877\n",
      "1.295445127337877\n",
      "Value of temperature: 0.6400000000000001\n",
      "Value of gamma: 1.2957886325604706\n",
      "1.2957886325604706\n",
      "Value of temperature: 0.6200000000000001\n",
      "Value of gamma: 1.2961325075171857\n",
      "1.2961325075171857\n",
      "Value of temperature: 0.6000000000000001\n",
      "Value of gamma: 1.2964767487613729\n",
      "1.2964767487613729\n",
      "Value of temperature: 0.5800000000000001\n",
      "Value of gamma: 1.296821352370455\n",
      "1.296821352370455\n",
      "Value of temperature: 0.56\n",
      "Value of gamma: 1.297166313834792\n",
      "1.297166313834792\n",
      "Value of temperature: 0.54\n",
      "Value of gamma: 1.2975116279358128\n",
      "1.2975116279358128\n",
      "Value of temperature: 0.52\n",
      "Value of gamma: 1.2978572886029385\n",
      "1.2978572886029385\n",
      "Value of temperature: 0.5\n",
      "Value of gamma: 1.2982032887459458\n",
      "1.2982032887459458\n",
      "Value of temperature: 0.48\n",
      "Value of gamma: 1.2985496200543234\n",
      "1.2985496200543234\n",
      "Value of temperature: 0.45999999999999996\n",
      "Value of gamma: 1.2988962727551263\n",
      "1.2988962727551263\n",
      "Value of temperature: 0.43999999999999995\n",
      "Value of gamma: 1.2992432353180345\n",
      "1.2992432353180345\n",
      "Value of temperature: 0.41999999999999993\n",
      "Value of gamma: 1.299590494093934\n",
      "1.299590494093934\n",
      "Value of temperature: 0.3999999999999999\n",
      "Value of gamma: 1.2999380328681205\n",
      "1.2999380328681205\n",
      "Value of temperature: 0.3799999999999999\n",
      "Value of gamma: 1.3002858323045872\n",
      "1.3002858323045872\n",
      "Value of temperature: 0.3599999999999999\n",
      "Value of gamma: 1.3006338692526338\n",
      "1.3006338692526338\n",
      "Value of temperature: 0.33999999999999986\n",
      "Value of gamma: 1.3009821158653965\n",
      "1.3009821158653965\n",
      "Value of temperature: 0.31999999999999984\n",
      "Value of gamma: 1.301330538478503\n",
      "1.301330538478503\n",
      "Value of temperature: 0.2999999999999998\n",
      "Value of gamma: 1.3016790961488578\n",
      "1.3016790961488578\n",
      "Value of temperature: 0.2799999999999998\n",
      "Value of gamma: 1.3020277387131522\n",
      "1.3020277387131522\n",
      "Value of temperature: 0.2599999999999998\n",
      "Value of gamma: 2.394688496713805\n",
      "0.8391992931583582\n",
      "Value of temperature: 0.23999999999999977\n",
      "Value of gamma: 2.2104816892742813\n",
      "0.6977224244538689\n",
      "Value of temperature: 0.21999999999999975\n",
      "Value of gamma: 2.0262748818347576\n",
      "0.5562455557493795\n",
      "Value of temperature: 0.19999999999999973\n",
      "Value of gamma: 1.842068074395234\n",
      "0.4147686870448904\n",
      "Value of temperature: 0.17999999999999972\n",
      "Value of gamma: 1.65786126695571\n",
      "0.2732918183404009\n",
      "Value of temperature: 0.16000000000000014\n",
      "Value of gamma: 1.4736544595161905\n",
      "0.1318149496359148\n",
      "Value of temperature: 0.14000000000000012\n",
      "Value of gamma: 1.2894476520766667\n",
      "1.2894476520766667\n",
      "Value of temperature: 0.1200000000000001\n",
      "Value of gamma: 1.105240844637143\n",
      "0.14285714285714282\n",
      "Value of temperature: 0.10000000000000009\n",
      "Value of gamma: 0.921034037197619\n",
      "0.28571428571428575\n",
      "Value of temperature: 0.08000000000000007\n",
      "Value of gamma: 0.7368272297580952\n",
      "0.4285714285714286\n",
      "Value of temperature: 0.06000000000000005\n",
      "Value of gamma: 0.5526204223185714\n",
      "0.5714285714285714\n",
      "Value of temperature: 0.040000000000000036\n",
      "Value of gamma: 0.3684136148790476\n",
      "0.7142857142857143\n",
      "Value of temperature: 0.020000000000000018\n",
      "Value of gamma: 0.1842068074395238\n",
      "0.8571428571428572\n",
      "Value of temperature: 0.0\n",
      "Value of gamma: 0.0\n",
      "Negative gamma encountered\n"
     ]
    },
    {
     "name": "stderr",
     "output_type": "stream",
     "text": [
      "/var/folders/c4/fvxhsb8j6kb6c97612_b98k00000gn/T/ipykernel_98108/4181832302.py:225: RuntimeWarning: invalid value encountered in true_divide\n",
      "  return -self.limit+ z/(1-z) + np.sum(self.weights*z**(self.weights)/(np.exp(-self.values/T) +z**(self.weights)))\n",
      "/var/folders/c4/fvxhsb8j6kb6c97612_b98k00000gn/T/ipykernel_98108/4181832302.py:225: RuntimeWarning: divide by zero encountered in true_divide\n",
      "  return -self.limit+ z/(1-z) + np.sum(self.weights*z**(self.weights)/(np.exp(-self.values/T) +z**(self.weights)))\n"
     ]
    }
   ],
   "source": [
    "z_res = fsolve(KP_camping.constraint, x0=.01, args = (T0,))[0]\n",
    "\n",
    "gamma_init = -np.log(z_res)*T0  \n",
    "\n",
    "for k in range(1,400):\n",
    "\n",
    "    T = T0*(1.0- 0.005*k)\n",
    "    z_res = fsolve(KP_camping.constraint, x0=.0001, args = (T,))[0]\n",
    "    gamma_fin = -np.log(z_res)*T \n",
    "    print(\"Value of temperature:\",T)\n",
    "    print(\"Value of gamma:\",-np.log(z_res)*T)\n",
    "\n",
    "    if gamma_fin > 0:\n",
    "        if np.abs(gamma_fin-gamma_init)/np.abs(gamma_init)<0.05:\n",
    "\n",
    "            if np.abs(gamma_fin-gamma_init)/np.abs(gamma_init)>0.000001:\n",
    "                print(gamma_fin)\n",
    "                gamma_init = gamma_fin\n",
    "            else: \n",
    "                print(np.abs(gamma_fin-gamma_init)/np.abs(gamma_init))\n",
    "                gamma_fin\n",
    "\n",
    "        else:\n",
    "            print(np.abs(gamma_fin-gamma_init)/np.abs(gamma_init))\n",
    "            gamma_init                   \n",
    "\n",
    "    else:\n",
    "        print('Negative gamma encountered')\n",
    "        break\n",
    "        \n",
    "# gamma_fin"
   ]
  },
  {
   "cell_type": "code",
   "execution_count": 174,
   "id": "5be8f1cd",
   "metadata": {},
   "outputs": [
    {
     "data": {
      "text/plain": [
       "array([1.00000000e+00, 1.00000000e+00, 9.39901695e-01, 1.00000000e+00,\n",
       "       1.00000000e+00, 2.56661078e-38, 1.00000000e+00, 5.84738415e-10,\n",
       "       5.70195472e-01, 1.12312235e-50, 1.00000000e+00, 9.42556372e-11,\n",
       "       9.25365432e-15, 3.63787077e-46, 2.68157500e-48, 1.00000000e+00,\n",
       "       1.00000000e+00, 1.00000000e+00, 1.00000000e+00, 1.33713937e-10,\n",
       "       1.00000000e+00, 7.20672842e-26])"
      ]
     },
     "execution_count": 174,
     "metadata": {},
     "output_type": "execute_result"
    }
   ],
   "source": [
    "KP_camping.largeN_algorithm(ceiling = False, T=0.5)"
   ]
  },
  {
   "cell_type": "code",
   "execution_count": 194,
   "id": "050e1fbc",
   "metadata": {},
   "outputs": [
    {
     "data": {
      "text/plain": [
       "array([3.76741192e+228, 2.15978270e+053, 5.86215741e+304, 6.52297901e+243,\n",
       "       2.69412190e+091, 3.73949479e+068, 2.69412190e+091, 8.98693282e+060,\n",
       "       5.19049314e+045, 1.73142177e+015, 4.66466131e+106, 5.19049314e+045,\n",
       "       7.20450771e+022, 1.73142177e+015, 8.98693282e+060, 4.66466131e+106,\n",
       "       1.94098220e+114, 8.07649615e+121, 2.99782135e+030, 1.93233958e+018,\n",
       "       1.55601711e+076, 1.73142177e+015])"
      ]
     },
     "execution_count": 194,
     "metadata": {},
     "output_type": "execute_result"
    }
   ],
   "source": [
    "np.exp(value_vec/.38)"
   ]
  },
  {
   "cell_type": "code",
   "execution_count": 175,
   "id": "7184628a",
   "metadata": {},
   "outputs": [
    {
     "name": "stdout",
     "output_type": "stream",
     "text": [
      "[0. 0. 0. 0. 0. 0. 0. 0. 0. 0. 0. 0. 0. 0. 0. 0. 0. 0. 0. 0. 0. 0.]\n",
      "[1. 0. 0. 0. 0. 0. 0. 0. 0. 0. 0. 0. 0. 0. 0. 0. 0. 0. 0. 0. 0. 0.]\n",
      "[1. 0. 0. 1. 0. 0. 0. 0. 0. 0. 0. 0. 0. 0. 0. 0. 0. 0. 0. 0. 0. 0.]\n",
      "[1. 0. 0. 1. 1. 0. 0. 0. 0. 0. 0. 0. 0. 0. 0. 0. 0. 0. 0. 0. 0. 0.]\n",
      "[1. 0. 0. 1. 1. 0. 1. 0. 0. 0. 0. 0. 0. 0. 0. 0. 0. 0. 0. 0. 0. 0.]\n",
      "[1. 0. 0. 1. 1. 0. 1. 0. 0. 0. 1. 0. 0. 0. 0. 0. 0. 0. 0. 0. 0. 0.]\n",
      "[1. 0. 0. 1. 1. 0. 1. 0. 0. 0. 1. 0. 0. 0. 0. 0. 1. 0. 0. 0. 0. 0.]\n",
      "[1. 0. 0. 1. 1. 0. 1. 0. 0. 0. 1. 0. 0. 0. 0. 0. 1. 1. 0. 0. 0. 0.]\n",
      "[1. 0. 0. 1. 1. 0. 1. 0. 0. 0. 1. 0. 0. 0. 0. 0. 1. 1. 0. 0. 1. 0.]\n",
      "[1. 1. 0. 1. 1. 0. 1. 0. 0. 0. 1. 0. 0. 0. 0. 0. 1. 1. 0. 0. 1. 0.]\n",
      "[1. 1. 0. 1. 1. 0. 1. 0. 0. 0. 1. 0. 0. 0. 0. 1. 1. 1. 0. 0. 1. 0.]\n",
      "[1. 1. 0. 1. 1. 0. 1. 0. 0. 0. 1. 0. 0. 0. 0. 1. 1. 1. 1. 0. 1. 0.]\n",
      "[1. 1. 1. 1. 1. 0. 1. 0. 0. 0. 1. 0. 0. 0. 0. 1. 1. 1. 1. 0. 1. 0.]\n"
     ]
    },
    {
     "data": {
      "text/plain": [
       "array([1., 1., 1., 1., 1., 0., 1., 0., 0., 0., 1., 0., 0., 0., 0., 1., 1.,\n",
       "       1., 1., 0., 1., 0.])"
      ]
     },
     "execution_count": 175,
     "metadata": {},
     "output_type": "execute_result"
    }
   ],
   "source": [
    "x_selected(KP_camping.largeN_algorithm(ceiling = False, T=0.5), weight_vec, Wlimit)"
   ]
  },
  {
   "cell_type": "code",
   "execution_count": 179,
   "id": "bf5f945a",
   "metadata": {},
   "outputs": [],
   "source": [
    "def x_selected(x_vals, w_vals, W):\n",
    "    \n",
    "    '''\n",
    "    Selects the objects in decreasing order of \n",
    "    probability of occupancy until the weight limit is satisfied\n",
    "    '''\n",
    "    \n",
    "    final_object_list = np.zeros_like(x_vals)\n",
    "    for _ in range(len(x_vals)):\n",
    "        new_final_object_list = copy.deepcopy(final_object_list)\n",
    "        idx1 = np.argmax(x_vals)\n",
    "        new_final_object_list[idx1] = 1\n",
    "        x_vals[idx1] = 0\n",
    "        if np.dot(w_vals, new_final_object_list) <= W:\n",
    "            final_object_list = copy.deepcopy(new_final_object_list)\n",
    "        else:\n",
    "            break\n",
    "            \n",
    "    return final_object_list"
   ]
  },
  {
   "cell_type": "code",
   "execution_count": 184,
   "id": "1a77517b",
   "metadata": {},
   "outputs": [
    {
     "name": "stdout",
     "output_type": "stream",
     "text": [
      "Value of temperature: 1.4925\n",
      "Value of gamma: 1.287601272677047\n",
      "1.287601272677047\n",
      "Value of temperature: 1.4849999999999999\n",
      "Value of gamma: 1.2879024881665224\n",
      "1.2879024881665224\n",
      "Value of temperature: 1.4775\n",
      "Value of gamma: 1.287883537267233\n",
      "1.287883537267233\n",
      "Value of temperature: 1.47\n",
      "Value of gamma: 1.2881096298652723\n",
      "1.2881096298652723\n",
      "Value of temperature: 1.4625\n",
      "Value of gamma: 1.2880155120383598\n",
      "1.2880155120383598\n",
      "Value of temperature: 1.455\n",
      "Value of gamma: 1.288165730108892\n",
      "1.288165730108892\n",
      "Value of temperature: 1.4475\n",
      "Value of gamma: 1.2882776533416613\n",
      "1.2882776533416613\n",
      "Value of temperature: 1.44\n",
      "Value of gamma: 1.288351086756103\n",
      "1.288351086756103\n",
      "Value of temperature: 1.4324999999999999\n",
      "Value of gamma: 1.2883858333894234\n",
      "1.2883858333894234\n",
      "Value of temperature: 1.4249999999999998\n",
      "Value of gamma: 1.288663276562205\n",
      "1.288663276562205\n",
      "Value of temperature: 1.4175\n",
      "Value of gamma: 1.288619903340356\n",
      "1.288619903340356\n",
      "Value of temperature: 1.41\n",
      "Value of gamma: 1.2888185812029187\n",
      "1.2888185812029187\n",
      "Value of temperature: 1.4025\n",
      "Value of gamma: 1.2889775191033197\n",
      "1.2889775191033197\n",
      "Value of temperature: 1.395\n",
      "Value of gamma: 1.2888153517351133\n",
      "1.2888153517351133\n",
      "Value of temperature: 1.3875000000000002\n",
      "Value of gamma: 1.2891753289316095\n",
      "1.2891753289316095\n",
      "Value of temperature: 1.3800000000000001\n",
      "Value of gamma: 1.2892137721687391\n",
      "1.2892137721687391\n",
      "Value of temperature: 1.3725\n",
      "Value of gamma: 1.2892116179895838\n",
      "1.2892116179895838\n",
      "Value of temperature: 1.365\n",
      "Value of gamma: 1.2894494707091297\n",
      "1.2894494707091297\n",
      "Value of temperature: 1.3575\n",
      "Value of gamma: 1.2893653596952845\n",
      "1.2893653596952845\n",
      "Value of temperature: 1.35\n",
      "Value of gamma: 1.289520666060178\n",
      "1.289520666060178\n",
      "Value of temperature: 1.3425\n",
      "Value of gamma: 1.2896343356117008\n",
      "1.2896343356117008\n",
      "Value of temperature: 1.335\n",
      "Value of gamma: 1.2897061360691502\n",
      "1.2897061360691502\n",
      "Value of temperature: 1.3275000000000001\n",
      "Value of gamma: 1.2897358325473356\n",
      "1.2897358325473356\n",
      "Value of temperature: 1.32\n",
      "Value of gamma: 1.2900037587524025\n",
      "1.2900037587524025\n",
      "Value of temperature: 1.3125\n",
      "Value of gamma: 1.2899484881301393\n",
      "1.2899484881301393\n",
      "Value of temperature: 1.305\n",
      "Value of gamma: 1.2901309356630966\n",
      "1.2901309356630966\n",
      "Value of temperature: 1.2974999999999999\n",
      "Value of gamma: 1.290270283876884\n",
      "1.290270283876884\n",
      "Value of temperature: 1.29\n",
      "Value of gamma: 1.2903662836911582\n",
      "1.2903662836911582\n",
      "Value of temperature: 1.2825\n",
      "Value of gamma: 1.2904186831301576\n",
      "1.2904186831301576\n",
      "Value of temperature: 1.275\n",
      "Value of gamma: 1.290427227271927\n",
      "1.290427227271927\n",
      "Value of temperature: 1.2675\n",
      "Value of gamma: 1.2906723463540606\n",
      "1.2906723463540606\n",
      "Value of temperature: 1.26\n",
      "Value of gamma: 1.2905924205959454\n",
      "1.2905924205959454\n",
      "Value of temperature: 1.2525\n",
      "Value of gamma: 1.2907486430985118\n",
      "1.2907486430985118\n",
      "Value of temperature: 1.2449999999999999\n",
      "Value of gamma: 1.2908600603028217\n",
      "1.2908600603028217\n",
      "Value of temperature: 1.2374999999999998\n",
      "Value of gamma: 1.2909264036350045\n",
      "1.2909264036350045\n",
      "Value of temperature: 1.23\n",
      "Value of gamma: 1.2909474012914997\n",
      "1.2909474012914997\n",
      "Value of temperature: 1.2225\n",
      "Value of gamma: 1.2912039621446214\n",
      "1.2912039621446214\n",
      "Value of temperature: 1.215\n",
      "Value of gamma: 1.2911335262106207\n",
      "1.2911335262106207\n",
      "Value of temperature: 1.2075\n",
      "Value of gamma: 1.291298333780879\n",
      "1.291298333780879\n",
      "Value of temperature: 1.2000000000000002\n",
      "Value of gamma: 1.2914169204043533\n",
      "1.2914169204043533\n",
      "Value of temperature: 1.1925\n",
      "Value of gamma: 1.2914890021880339\n",
      "1.2914890021880339\n",
      "Value of temperature: 1.185\n",
      "Value of gamma: 1.2915142917714764\n",
      "1.2915142917714764\n",
      "Value of temperature: 1.1775\n",
      "Value of gamma: 1.2917746228852116\n",
      "1.2917746228852116\n",
      "Value of temperature: 1.17\n",
      "Value of gamma: 1.291705616255711\n",
      "1.291705616255711\n",
      "Value of temperature: 1.1625\n",
      "Value of gamma: 1.291871460714959\n",
      "1.291871460714959\n",
      "Value of temperature: 1.155\n",
      "Value of gamma: 1.291989738487153\n",
      "1.291989738487153\n",
      "Value of temperature: 1.1475\n",
      "Value of gamma: 1.2920601528741626\n",
      "1.2920601528741626\n",
      "Value of temperature: 1.1400000000000001\n",
      "Value of gamma: 1.2920824035725602\n",
      "1.2920824035725602\n",
      "Value of temperature: 1.1325\n",
      "Value of gamma: 1.2923397591250458\n",
      "1.2923397591250458\n",
      "Value of temperature: 1.125\n",
      "Value of gamma: 1.2922650208993778\n",
      "1.2922650208993778\n",
      "Value of temperature: 1.1175\n",
      "Value of gamma: 1.292425356510835\n",
      "1.292425356510835\n",
      "Value of temperature: 1.1099999999999999\n",
      "Value of gamma: 1.292536891877376\n",
      "1.292536891877376\n",
      "Value of temperature: 1.1025\n",
      "Value of gamma: 1.292599321932654\n",
      "1.292599321932654\n",
      "Value of temperature: 1.095\n",
      "Value of gamma: 1.292612338058936\n",
      "1.292612338058936\n",
      "Value of temperature: 1.0875\n",
      "Value of gamma: 1.2928612344565589\n",
      "1.2928612344565589\n",
      "Value of temperature: 1.08\n",
      "Value of gamma: 1.2930608814838747\n",
      "1.2930608814838747\n",
      "Value of temperature: 1.0725\n",
      "Value of gamma: 1.2929244973130234\n",
      "1.2929244973130234\n",
      "Value of temperature: 1.065\n",
      "Value of gamma: 1.2930242945289556\n",
      "1.2930242945289556\n",
      "Value of temperature: 1.0575\n",
      "Value of gamma: 1.2930739265228786\n",
      "1.2930739265228786\n",
      "Value of temperature: 1.0499999999999998\n",
      "Value of gamma: 1.2933609377679027\n",
      "1.2933609377679027\n",
      "Value of temperature: 1.0425\n",
      "Value of gamma: 1.293309782042629\n",
      "1.293309782042629\n",
      "Value of temperature: 1.035\n",
      "Value of gamma: 1.2934964218753984\n",
      "1.2934964218753984\n",
      "Value of temperature: 1.0275\n",
      "Value of gamma: 1.2936327136128778\n",
      "1.2936327136128778\n",
      "Value of temperature: 1.02\n",
      "Value of gamma: 1.2937183650273822\n",
      "1.2937183650273822\n",
      "Value of temperature: 1.0125000000000002\n",
      "Value of gamma: 1.2937530817390408\n",
      "1.2937530817390408\n",
      "Value of temperature: 1.005\n",
      "Value of gamma: 1.2937365672502656\n",
      "1.2937365672502656\n",
      "Value of temperature: 0.9975\n",
      "Value of gamma: 1.2939604724266562\n",
      "1.2939604724266562\n",
      "Value of temperature: 0.9899999999999999\n",
      "Value of gamma: 1.2941338952529151\n",
      "1.2941338952529151\n",
      "Value of temperature: 0.9825\n",
      "Value of gamma: 1.2942565735958005\n",
      "1.2942565735958005\n",
      "Value of temperature: 0.9749999999999999\n",
      "Value of gamma: 1.294328245032299\n",
      "1.294328245032299\n",
      "Value of temperature: 0.9675\n",
      "Value of gamma: 1.2943486469972534\n",
      "1.2943486469972534\n",
      "Value of temperature: 0.96\n",
      "Value of gamma: 1.294317516943666\n",
      "1.294317516943666\n",
      "Value of temperature: 0.9525\n",
      "Value of gamma: 1.2945311655823215\n",
      "1.2945311655823215\n",
      "Value of temperature: 0.9450000000000001\n",
      "Value of gamma: 1.2946944775042102\n",
      "1.2946944775042102\n",
      "Value of temperature: 0.9375\n",
      "Value of gamma: 1.2948072479704962\n",
      "1.2948072479704962\n",
      "Value of temperature: 0.9299999999999999\n",
      "Value of gamma: 1.2948692755661662\n",
      "1.2948692755661662\n",
      "Value of temperature: 0.9225\n",
      "Value of gamma: 1.2948803625820284\n",
      "1.2948803625820284\n",
      "Value of temperature: 0.915\n",
      "Value of gamma: 1.2951417298535313\n",
      "1.2951417298535313\n",
      "Value of temperature: 0.9075\n",
      "Value of gamma: 1.295051375765817\n",
      "1.295051375765817\n",
      "Value of temperature: 0.8999999999999999\n",
      "Value of gamma: 1.2952131117892864\n",
      "1.2952131117892864\n",
      "Value of temperature: 0.8925\n",
      "Value of gamma: 1.2953254244364876\n",
      "1.2953254244364876\n",
      "Value of temperature: 0.885\n",
      "Value of gamma: 1.2953882246582986\n",
      "1.2953882246582986\n",
      "Value of temperature: 0.8775\n",
      "Value of gamma: 1.2954014342615037\n",
      "1.2954014342615037\n",
      "Value of temperature: 0.8700000000000001\n",
      "Value of gamma: 1.2956735316530712\n",
      "1.2956735316530712\n",
      "Value of temperature: 0.8624999999999999\n",
      "Value of gamma: 1.2955886694751761\n",
      "1.2955886694751761\n",
      "Value of temperature: 0.8550000000000001\n",
      "Value of gamma: 1.2957653747245141\n",
      "1.2957653747245141\n",
      "Value of temperature: 0.8474999999999999\n",
      "Value of gamma: 1.2958951897135116\n",
      "1.2958951897135116\n",
      "Value of temperature: 0.8400000000000001\n",
      "Value of gamma: 1.2959782239096973\n",
      "1.2959782239096973\n",
      "Value of temperature: 0.8324999999999999\n",
      "Value of gamma: 1.2960146108699118\n",
      "1.2960146108699118\n",
      "Value of temperature: 0.8250000000000001\n",
      "Value of gamma: 1.2963221003230119\n",
      "1.2963221003230119\n",
      "Value of temperature: 0.8174999999999999\n",
      "Value of gamma: 1.2962673596095364\n",
      "1.2962673596095364\n",
      "Value of temperature: 0.81\n",
      "Value of gamma: 1.296487671655076\n",
      "1.296487671655076\n",
      "Value of temperature: 0.8024999999999999\n",
      "Value of gamma: 1.2963428792490452\n",
      "1.2963428792490452\n",
      "Value of temperature: 0.795\n",
      "Value of gamma: 1.2966398924428526\n",
      "1.2966398924428526\n",
      "Value of temperature: 0.7874999999999999\n",
      "Value of gamma: 1.2967342376360604\n",
      "1.2967342376360604\n",
      "Value of temperature: 0.78\n",
      "Value of gamma: 1.2966234526400688\n",
      "1.2966234526400688\n",
      "Value of temperature: 0.7725\n",
      "Value of gamma: 1.296967226432718\n",
      "1.296967226432718\n",
      "Value of temperature: 0.765\n",
      "Value of gamma: 1.2969426688950265\n",
      "1.2969426688950265\n",
      "Value of temperature: 0.7575000000000001\n",
      "Value of gamma: 1.2968795433361038\n",
      "1.2968795433361038\n",
      "Value of temperature: 0.75\n",
      "Value of gamma: 1.297116857626446\n",
      "1.297116857626446\n",
      "Value of temperature: 0.7424999999999999\n",
      "Value of gamma: 1.2973223849963256\n",
      "1.2973223849963256\n",
      "Value of temperature: 0.735\n",
      "Value of gamma: 1.2974973817952837\n",
      "1.2974973817952837\n",
      "Value of temperature: 0.7275\n",
      "Value of gamma: 1.2972969027851393\n",
      "1.2972969027851393\n",
      "Value of temperature: 0.72\n",
      "Value of gamma: 1.2975867519048006\n",
      "1.2975867519048006\n",
      "Value of temperature: 0.7124999999999999\n",
      "Value of gamma: 1.2975012644781172\n",
      "1.2975012644781172\n",
      "Value of temperature: 0.705\n",
      "Value of gamma: 1.297565989373133\n",
      "1.297565989373133\n",
      "Value of temperature: 0.6975\n",
      "Value of gamma: 1.297966933381889\n",
      "1.297966933381889\n",
      "Value of temperature: 0.69\n",
      "Value of gamma: 1.2979922686095642\n",
      "1.2979922686095642\n",
      "Value of temperature: 0.6824999999999999\n",
      "Value of gamma: 1.2979997016004186\n",
      "1.2979997016004186\n",
      "Value of temperature: 0.6749999999999999\n",
      "Value of gamma: 1.2981764882060913\n",
      "1.2981764882060913\n",
      "Value of temperature: 0.6675\n",
      "Value of gamma: 1.298157844211558\n",
      "1.298157844211558\n",
      "Value of temperature: 0.6599999999999999\n",
      "Value of gamma: 1.2983184108715997\n",
      "1.2983184108715997\n",
      "Value of temperature: 0.6524999999999999\n",
      "Value of gamma: 1.298477030818772\n",
      "1.298477030818772\n",
      "Value of temperature: 0.6449999999999999\n",
      "Value of gamma: 1.2984444439342033\n",
      "1.2984444439342033\n",
      "Value of temperature: 0.6375\n",
      "Value of gamma: 1.2986089234617884\n",
      "1.2986089234617884\n",
      "Value of temperature: 0.6300000000000001\n",
      "Value of gamma: 1.2987842689033362\n",
      "1.2987842689033362\n",
      "Value of temperature: 0.6225\n",
      "Value of gamma: 1.2989756538507446\n",
      "1.2989756538507446\n",
      "Value of temperature: 0.615\n",
      "Value of gamma: 1.2989853902761928\n",
      "1.2989853902761928\n",
      "Value of temperature: 0.6075\n",
      "Value of gamma: 1.299017385889391\n",
      "1.299017385889391\n",
      "Value of temperature: 0.6000000000000001\n",
      "Value of gamma: 1.2990780945241178\n",
      "1.2990780945241178\n",
      "Value of temperature: 0.5925\n",
      "Value of gamma: 1.2991746489578944\n",
      "1.2991746489578944\n",
      "Value of temperature: 0.585\n",
      "Value of gamma: 1.299314946157477\n",
      "1.299314946157477\n",
      "Value of temperature: 0.5775\n",
      "Value of gamma: 1.2992885702008778\n",
      "1.2992885702008778\n",
      "Value of temperature: 0.5700000000000001\n",
      "Value of gamma: 1.299539855352377\n",
      "1.299539855352377\n",
      "Value of temperature: 0.5625\n",
      "Value of gamma: 1.2996371623752674\n",
      "1.2996371623752674\n",
      "Value of temperature: 0.5549999999999999\n",
      "Value of gamma: 1.2995801358407957\n",
      "1.2995801358407957\n",
      "Value of temperature: 0.5475\n",
      "Value of gamma: 1.2998388040041802\n",
      "1.2998388040041802\n",
      "Value of temperature: 0.54\n",
      "Value of gamma: 1.2999607294642819\n",
      "1.2999607294642819\n",
      "Value of temperature: 0.5325\n",
      "Value of gamma: 1.2999470813071026\n",
      "1.2999470813071026\n",
      "Value of temperature: 0.5249999999999999\n",
      "Value of gamma: 1.3002989604424202\n",
      "1.3002989604424202\n",
      "Value of temperature: 0.5175\n",
      "Value of gamma: 1.3000293305319843\n",
      "1.3000293305319843\n",
      "Value of temperature: 0.51\n",
      "Value of gamma: 1.3001517613496039\n",
      "1.3001517613496039\n",
      "Value of temperature: 0.5025\n",
      "Value of gamma: 1.3003044461482756\n",
      "1.3003044461482756\n",
      "Value of temperature: 0.49499999999999994\n",
      "Value of gamma: 1.3005021105844639\n",
      "1.3005021105844639\n",
      "Value of temperature: 0.48749999999999993\n",
      "Value of gamma: 1.3004804945414923\n",
      "1.3004804945414923\n",
      "Value of temperature: 0.4799999999999999\n",
      "Value of gamma: 1.3005245506954266\n",
      "1.3005245506954266\n",
      "Value of temperature: 0.4724999999999999\n",
      "Value of gamma: 1.3008026194130755\n",
      "1.3008026194130755\n",
      "Value of temperature: 0.4649999999999999\n",
      "Value of gamma: 1.3008930172637363\n",
      "1.3008930172637363\n",
      "Value of temperature: 0.4574999999999999\n",
      "Value of gamma: 1.3009525931631183\n",
      "1.3009525931631183\n",
      "Value of temperature: 0.4499999999999999\n",
      "Value of gamma: 1.3009959110141573\n",
      "1.3009959110141573\n",
      "Value of temperature: 0.44250000000000006\n",
      "Value of gamma: 1.301207282371945\n",
      "1.301207282371945\n",
      "Value of temperature: 0.43500000000000005\n",
      "Value of gamma: 1.3012770490795222\n",
      "1.3012770490795222\n",
      "Value of temperature: 0.42750000000000005\n",
      "Value of gamma: 1.3013901536095003\n",
      "1.3013901536095003\n",
      "Value of temperature: 0.42000000000000004\n",
      "Value of gamma: 1.3013870072849818\n",
      "1.3013870072849818\n",
      "Value of temperature: 0.41250000000000003\n",
      "Value of gamma: 1.3015671666436124\n",
      "1.3015671666436124\n",
      "Value of temperature: 0.405\n",
      "Value of gamma: 1.3015743847577192\n",
      "1.3015743847577192\n",
      "Value of temperature: 0.3975\n",
      "Value of gamma: 1.301621969837171\n",
      "1.301621969837171\n",
      "Value of temperature: 0.39\n",
      "Value of gamma: 1.3018518814657505\n",
      "1.3018518814657505\n",
      "Value of temperature: 0.3825\n",
      "Value of gamma: 1.3018579313214995\n",
      "1.3018579313214995\n",
      "Value of temperature: 0.375\n",
      "Value of gamma: 3.4538776394910684\n",
      "1.6530372910852729\n",
      "gamma value 1.3018579313214995\n"
     ]
    },
    {
     "name": "stderr",
     "output_type": "stream",
     "text": [
      "/var/folders/c4/fvxhsb8j6kb6c97612_b98k00000gn/T/ipykernel_98108/4181832302.py:221: RuntimeWarning: overflow encountered in exp\n",
      "  return - self.limit*np.log(z)-np.log(1-z) + np.sum(np.log(1+z**(self.weights)*np.exp(self.values/T)))\n",
      "/var/folders/c4/fvxhsb8j6kb6c97612_b98k00000gn/T/ipykernel_98108/4181832302.py:221: RuntimeWarning: invalid value encountered in multiply\n",
      "  return - self.limit*np.log(z)-np.log(1-z) + np.sum(np.log(1+z**(self.weights)*np.exp(self.values/T)))\n"
     ]
    },
    {
     "data": {
      "text/plain": [
       "array([1., 1., 1., 1., 1., 0., 1., 0., 1., 0., 1., 0., 0., 0., 0., 1., 1.,\n",
       "       1., 1., 0., 1., 0.])"
      ]
     },
     "execution_count": 184,
     "metadata": {},
     "output_type": "execute_result"
    }
   ],
   "source": [
    "KP_camping.largeN_algorithm_new()"
   ]
  },
  {
   "cell_type": "code",
   "execution_count": 186,
   "id": "900d9b56",
   "metadata": {},
   "outputs": [
    {
     "data": {
      "text/plain": [
       "0.0"
      ]
     },
     "execution_count": 186,
     "metadata": {},
     "output_type": "execute_result"
    }
   ],
   "source": [
    "np.exp(-1000)"
   ]
  },
  {
   "cell_type": "code",
   "execution_count": 58,
   "id": "2fdeb873",
   "metadata": {},
   "outputs": [
    {
     "name": "stdout",
     "output_type": "stream",
     "text": [
      "Optimization terminated successfully.\n",
      "         Current function value: 1036.423246\n",
      "         Iterations: 21\n",
      "         Function evaluations: 42\n"
     ]
    },
    {
     "data": {
      "text/plain": [
       "1.2896214738596283"
      ]
     },
     "execution_count": 58,
     "metadata": {},
     "output_type": "execute_result"
    }
   ],
   "source": [
    "T_test = 1.0\n",
    "z_res = fmin(KP_camping.potential, x0=.01, args = (T_test,))[0]\n",
    "-np.log(z_res)*T_test"
   ]
  },
  {
   "cell_type": "code",
   "execution_count": 49,
   "id": "2a7dc6d9",
   "metadata": {},
   "outputs": [
    {
     "name": "stdout",
     "output_type": "stream",
     "text": [
      "1.281530576620238\n"
     ]
    }
   ],
   "source": [
    "T0 = 1.5\n",
    "z_res = fmin(KP_camping.potential, x0=.01, args = (T0,), disp = False)[0]\n",
    "res1 = -np.log(z_res)*T0  \n",
    "\n",
    "for k in range(1,30):\n",
    "    \n",
    "    T = T0 - 0.01*k\n",
    "    z_res = fmin(KP_camping.potential, x0=.01, args = (T,), disp = False)[0]\n",
    "\n",
    "    res2 = -np.log(z_res)*T \n",
    "\n",
    "    if res2 > 0: \n",
    "        if np.abs(res2-res1)/np.abs(res1)>0.0001:\n",
    "            res1 = res2\n",
    "        else: \n",
    "            print(res2)\n",
    "            break\n",
    "    else:\n",
    "        print('Negative gamma encountered')\n",
    "        break\n"
   ]
  },
  {
   "cell_type": "code",
   "execution_count": null,
   "id": "96dfcb24",
   "metadata": {},
   "outputs": [],
   "source": [
    "def gamma_calc(self, T0 = 1.5):\n",
    "    \n",
    "    '''\n",
    "    Computes value of gamma\n",
    "    \n",
    "    '''\n",
    "    \n",
    "    z_res = fmin(KP_camping.potential, x0=.01, args = (T0,), disp = False)[0]\n",
    "\n",
    "    res1 = -np.log(z_res)*T0  \n",
    "\n",
    "    for k in range(1,1000):\n",
    "\n",
    "        T = T0 - 0.01*k\n",
    "        z_res = fmin(KP_camping.potential, x0=.01, args = (T,), disp = False)[0]\n",
    "        res2 = -np.log(z_res)*T \n",
    "\n",
    "        if res2 > 0: \n",
    "            if np.abs(res2-res1)/np.abs(res2)>0.0001:\n",
    "                res2 = res1\n",
    "            else: \n",
    "                return(res2)\n",
    "                break\n",
    "        else:\n",
    "            print('Negative gamma encountered')\n",
    "            break"
   ]
  },
  {
   "cell_type": "code",
   "execution_count": 67,
   "id": "2b93f2cc",
   "metadata": {},
   "outputs": [
    {
     "data": {
      "text/plain": [
       "1.2815151836084253"
      ]
     },
     "execution_count": 67,
     "metadata": {},
     "output_type": "execute_result"
    }
   ],
   "source": [
    "res1"
   ]
  },
  {
   "cell_type": "code",
   "execution_count": 68,
   "id": "5de98270",
   "metadata": {},
   "outputs": [
    {
     "data": {
      "text/plain": [
       "1.281530576620238"
      ]
     },
     "execution_count": 68,
     "metadata": {},
     "output_type": "execute_result"
    }
   ],
   "source": [
    "res2"
   ]
  },
  {
   "cell_type": "code",
   "execution_count": 135,
   "id": "3adbdb1d",
   "metadata": {},
   "outputs": [
    {
     "name": "stdout",
     "output_type": "stream",
     "text": [
      "Value of gamma: 1.2816715726658956\n",
      "1.2816715726658956\n",
      "Value of gamma: 1.2816940344414736\n",
      "1.2816940344414736\n",
      "Value of gamma: 1.2816793218688425\n",
      "1.2816793218688425\n",
      "Value of gamma: 1.28190850134238\n",
      "1.28190850134238\n",
      "Value of gamma: 1.2820997973742625\n",
      "1.2820997973742625\n",
      "Value of gamma: 1.2822530192400017\n",
      "1.2822530192400017\n",
      "Value of gamma: 1.2823679742985994\n",
      "1.2823679742985994\n",
      "Value of gamma: 1.2824444679636915\n",
      "1.2824444679636915\n",
      "Value of gamma: 1.2824823036741118\n",
      "1.2824823036741118\n",
      "Value of gamma: 1.2827617015249073\n",
      "1.2827617015249073\n",
      "Value of gamma: 1.2827214713584953\n",
      "1.2827214713584953\n",
      "Value of gamma: 1.2829221483500854\n",
      "1.2829221483500854\n",
      "Value of gamma: 1.2830831053836877\n",
      "1.2830831053836877\n",
      "Value of gamma: 1.2832041318007443\n",
      "1.2832041318007443\n",
      "Value of gamma: 1.2832850147040669\n",
      "1.2832850147040669\n",
      "Value of gamma: 1.2833255389220724\n",
      "1.2833255389220724\n",
      "Value of gamma: 1.283605207252947\n",
      "1.283605207252947\n",
      "Value of gamma: 1.2835642554484907\n",
      "1.2835642554484907\n",
      "Value of gamma: 1.2837618534222317\n",
      "1.2837618534222317\n",
      "Value of gamma: 1.2839180538455326\n",
      "1.2839180538455326\n",
      "Value of gamma: 1.2840326271544191\n",
      "1.2840326271544191\n",
      "Value of gamma: 1.2841053412268741\n",
      "1.2841053412268741\n",
      "Value of gamma: 1.284135961339873\n",
      "1.284135961339873\n",
      "Value of gamma: 1.2844036336836144\n",
      "1.2844036336836144\n",
      "Value of gamma: 1.2843493008513343\n",
      "1.2843493008513343\n",
      "Value of gamma: 1.2845314955970049\n",
      "1.2845314955970049\n",
      "Value of gamma: 1.284670588077306\n",
      "1.284670588077306\n",
      "Value of gamma: 1.284766329160086\n",
      "1.284766329160086\n",
      "Value of gamma: 1.2850978976067908\n",
      "1.2850978976067908\n",
      "Value of gamma: 1.285106186642516\n",
      "1.285106186642516\n",
      "Value of gamma: 1.28507035941644\n",
      "1.28507035941644\n",
      "Value of gamma: 1.2852696773858265\n",
      "1.2852696773858265\n",
      "Value of gamma: 1.2854244373604748\n",
      "1.2854244373604748\n",
      "Value of gamma: 1.2855343735968883\n",
      "1.2855343735968883\n",
      "Value of gamma: 1.2855992171702375\n",
      "1.2855992171702375\n",
      "Value of gamma: 1.2858985793001727\n",
      "1.2858985793001727\n",
      "Value of gamma: 1.2858724948740579\n",
      "1.2858724948740579\n",
      "Value of gamma: 1.2860805955043808\n",
      "1.2860805955043808\n",
      "Value of gamma: 1.2862427199583626\n",
      "1.2862427199583626\n",
      "Value of gamma: 1.286358587021238\n",
      "1.286358587021238\n",
      "Value of gamma: 1.286427912052393\n",
      "1.286427912052393\n",
      "Value of gamma: 1.286450406923189\n",
      "1.286450406923189\n",
      "Value of gamma: 1.2867066930713644\n",
      "1.2867066930713644\n",
      "Value of gamma: 1.2869159402260189\n",
      "1.2869159402260189\n",
      "Value of gamma: 1.287077857512527\n",
      "1.287077857512527\n",
      "Value of gamma: 1.2871921505375874\n",
      "1.2871921505375874\n",
      "Value of gamma: 1.2872585213276124\n",
      "1.2872585213276124\n",
      "Value of gamma: 1.2872766682657628\n",
      "1.2872766682657628\n",
      "Value of gamma: 1.2875286565702702\n",
      "1.2875286565702702\n",
      "Value of gamma: 1.2874496800149113\n",
      "1.2874496800149113\n",
      "Value of gamma: 1.2876044897299637\n",
      "1.2876044897299637\n",
      "Value of gamma: 1.2877104115689795\n",
      "1.2877104115689795\n",
      "Value of gamma: 1.2880507989381422\n",
      "1.2880507989381422\n",
      "Value of gamma: 1.2880583553760887\n",
      "1.2880583553760887\n",
      "Value of gamma: 1.2883005082793573\n",
      "1.2883005082793573\n",
      "Value of gamma: 1.288208464130199\n",
      "1.288208464130199\n",
      "Value of gamma: 1.2883511581603075\n",
      "1.2883511581603075\n",
      "Value of gamma: 1.2884438731748284\n",
      "1.2884438731748284\n",
      "Value of gamma: 1.2887724443959752\n",
      "1.2887724443959752\n",
      "Value of gamma: 1.2887647229839472\n",
      "1.2887647229839472\n",
      "Value of gamma: 1.2889932291129944\n",
      "1.2889932291129944\n",
      "Value of gamma: 1.2891715265773442\n",
      "1.2891715265773442\n",
      "Value of gamma: 1.2892993211389456\n",
      "1.2892993211389456\n",
      "Value of gamma: 1.2893763162206608\n",
      "1.2893763162206608\n",
      "Value of gamma: 1.2894022129286888\n",
      "1.2894022129286888\n",
      "Value of gamma: 1.2896667795319083\n",
      "1.2896667795319083\n",
      "Value of gamma: 1.2895901775518543\n",
      "1.2895901775518543\n",
      "Value of gamma: 1.2897529532831495\n",
      "1.2897529532831495\n",
      "Value of gamma: 1.2898647687750693\n",
      "1.2898647687750693\n",
      "Value of gamma: 1.2902182632223034\n",
      "1.2902182632223034\n",
      "Value of gamma: 1.2902280969908546\n",
      "1.2902280969908546\n",
      "Value of gamma: 1.2904806845973205\n",
      "1.2904806845973205\n",
      "Value of gamma: 1.2903875222954262\n",
      "1.2903875222954262\n",
      "Value of gamma: 1.2905382594598436\n",
      "1.2905382594598436\n",
      "Value of gamma: 1.2906381755661724\n",
      "1.2906381755661724\n",
      "Value of gamma: 1.2909851665530883\n",
      "1.2909851665530883\n",
      "Value of gamma: 1.2909837623486857\n",
      "1.2909837623486857\n",
      "Value of gamma: 1.2912310657544714\n",
      "1.2912310657544714\n",
      "Value of gamma: 1.2911276163532\n",
      "1.2911276163532\n",
      "Value of gamma: 1.2912746232503625\n",
      "1.2912746232503625\n",
      "Value of gamma: 1.2913718454019434\n",
      "1.2913718454019434\n",
      "Value of gamma: 1.291723860233158\n",
      "1.291723860233158\n",
      "Value of gamma: 1.2917224246142935\n",
      "1.2917224246142935\n",
      "Value of gamma: 1.2919781961413654\n",
      "1.2919781961413654\n",
      "Value of gamma: 1.2918779056900438\n",
      "1.2918779056900438\n",
      "Value of gamma: 1.2920374251373195\n",
      "1.2920374251373195\n",
      "Value of gamma: 1.2921495859369645\n",
      "1.2921495859369645\n",
      "Value of gamma: 1.2922144781435696\n",
      "1.2922144781435696\n",
      "Value of gamma: 1.2925467589405053\n",
      "1.2925467589405053\n",
      "Value of gamma: 1.292519063649315\n",
      "1.292519063649315\n",
      "Value of gamma: 1.2927624457123545\n",
      "1.2927624457123545\n",
      "Value of gamma: 1.292962705035725\n",
      "1.292962705035725\n",
      "Value of gamma: 1.293120226021319\n",
      "1.293120226021319\n",
      "Value of gamma: 1.2932354366781214\n",
      "1.2932354366781214\n",
      "Value of gamma: 1.293308812148755\n",
      "1.293308812148755\n",
      "Value of gamma: 1.2933408785536125\n",
      "1.2933408785536125\n",
      "Value of gamma: 1.2936619666771154\n",
      "1.2936619666771154\n",
      "Value of gamma: 1.2936154013017602\n",
      "1.2936154013017602\n",
      "Value of gamma: 1.2938638638119422\n",
      "1.2938638638119422\n",
      "Value of gamma: 1.2937417991956504\n",
      "1.2937417991956504\n",
      "Value of gamma: 1.293921388525895\n",
      "1.293921388525895\n",
      "Value of gamma: 1.294069503719143\n",
      "1.294069503719143\n",
      "Value of gamma: 1.2941874622971052\n",
      "1.2941874622971052\n",
      "Value of gamma: 1.2942767016143855\n",
      "1.2942767016143855\n",
      "Value of gamma: 1.294689483428002\n",
      "1.294689483428002\n",
      "Value of gamma: 1.294729230963958\n",
      "1.294729230963958\n",
      "Value of gamma: 1.294745528637135\n",
      "1.294745528637135\n",
      "Value of gamma: 1.2951009820927368\n",
      "1.2951009820927368\n",
      "Value of gamma: 1.2950802037822966\n",
      "1.2950802037822966\n",
      "Value of gamma: 1.2950428420250173\n",
      "1.2950428420250173\n",
      "Value of gamma: 1.295363296641654\n",
      "1.295363296641654\n",
      "Value of gamma: 1.2953050294999222\n",
      "1.2953050294999222\n",
      "Value of gamma: 1.2956192577189265\n",
      "1.2956192577189265\n",
      "Value of gamma: 1.2955536827929108\n",
      "1.2955536827929108\n",
      "Value of gamma: 1.2958773687260052\n",
      "1.2958773687260052\n",
      "Value of gamma: 1.295820835898133\n",
      "1.295820835898133\n",
      "Value of gamma: 1.2961728350453465\n",
      "1.2961728350453465\n",
      "Value of gamma: 1.296145089982159\n",
      "1.296145089982159\n",
      "Value of gamma: 1.2965481839634356\n",
      "1.2965481839634356\n",
      "Value of gamma: 1.296573198518028\n",
      "1.296573198518028\n",
      "Value of gamma: 1.2966320676120748\n",
      "1.2966320676120748\n",
      "Value of gamma: 1.296732516801742\n",
      "1.296732516801742\n",
      "Value of gamma: 1.2968831139848613\n",
      "1.2968831139848613\n",
      "Value of gamma: 1.2970933803485694\n",
      "1.2970933803485694\n",
      "Value of gamma: 1.2969223614693406\n",
      "1.2969223614693406\n",
      "Value of gamma: 1.297276630588533\n",
      "1.297276630588533\n",
      "Value of gamma: 1.297491407729133\n",
      "1.297491407729133\n",
      "Value of gamma: 1.2975675063348118\n",
      "1.2975675063348118\n",
      "Value of gamma: 1.2977495657220681\n",
      "1.2977495657220681\n",
      "Value of gamma: 1.2978053382278132\n",
      "1.2978053382278132\n",
      "Value of gamma: 1.2979912994688796\n",
      "1.2979912994688796\n",
      "Value of gamma: 1.2980673341552627\n",
      "1.2980673341552627\n",
      "Value of gamma: 1.298037474878189\n",
      "1.298037474878189\n",
      "Value of gamma: 1.2981789646265718\n",
      "1.2981789646265718\n",
      "Value of gamma: 1.2985180161526388\n",
      "1.2985180161526388\n",
      "Value of gamma: 1.2985100082794427\n",
      "1.2985100082794427\n",
      "Value of gamma: 1.298731383219686\n",
      "1.298731383219686\n",
      "Value of gamma: 1.298913804977159\n",
      "1.298913804977159\n",
      "Value of gamma: 1.2990703585719334\n",
      "1.2990703585719334\n",
      "Value of gamma: 1.2992161334132462\n",
      "1.2992161334132462\n",
      "Value of gamma: 1.2990350888283997\n",
      "1.2990350888283997\n",
      "Value of gamma: 1.2993754067067713\n",
      "1.2993754067067713\n",
      "Value of gamma: 1.2994203103503985\n",
      "1.2994203103503985\n",
      "Value of gamma: 1.299529213699664\n",
      "1.299529213699664\n",
      "Value of gamma: 1.2997325428328916\n",
      "1.2997325428328916\n",
      "Value of gamma: 1.2998655214629224\n",
      "1.2998655214629224\n",
      "Value of gamma: 1.2999445309770037\n",
      "1.2999445309770037\n",
      "Value of gamma: 1.3002076969057286\n",
      "1.3002076969057286\n",
      "Value of gamma: 1.3000220195923065\n",
      "1.3000220195923065\n",
      "Value of gamma: 1.3004317758765183\n",
      "1.3004317758765183\n",
      "Value of gamma: 1.3005490308700824\n",
      "1.3005490308700824\n",
      "Value of gamma: 1.3006241164216572\n",
      "1.3006241164216572\n",
      "Value of gamma: 1.3008238533479208\n",
      "1.3008238533479208\n",
      "Value of gamma: 1.3009054658050179\n",
      "1.3009054658050179\n",
      "Value of gamma: 1.3010402379748554\n",
      "1.3010402379748554\n",
      "Value of gamma: 1.3011041927697673\n",
      "1.3011041927697673\n",
      "Value of gamma: 1.3011175957720682\n",
      "1.3011175957720682\n",
      "Value of gamma: 1.301496509703807\n",
      "1.301496509703807\n",
      "Value of gamma: 1.301516099562954\n",
      "1.301516099562954\n",
      "Value of gamma: 1.3015752230493125\n",
      "1.3015752230493125\n",
      "Value of gamma: 1.3018396460599733\n",
      "1.3018396460599733\n",
      "Value of gamma: 1.301981520666631\n",
      "1.301981520666631\n",
      "Value of gamma: 2.55586945322339\n",
      "0.9630612360110552\n",
      "gamma value 1.301981520666631\n",
      "map\n",
      "compass\n",
      "water\n",
      "sandwich\n",
      "glucose\n",
      "banana\n",
      "cheese\n",
      "suntan cream\n",
      "waterproof trousers\n",
      "waterproof overclothes\n",
      "note-case\n",
      "sunglasses\n",
      "socks\n"
     ]
    },
    {
     "name": "stderr",
     "output_type": "stream",
     "text": [
      "/var/folders/c4/fvxhsb8j6kb6c97612_b98k00000gn/T/ipykernel_98108/1490428148.py:221: RuntimeWarning: overflow encountered in exp\n",
      "  return - self.limit*np.log(z)-np.log(1-z) + np.sum(np.log(1+z**(self.weights)*np.exp(self.values/T)))\n",
      "/var/folders/c4/fvxhsb8j6kb6c97612_b98k00000gn/T/ipykernel_98108/1490428148.py:221: RuntimeWarning: invalid value encountered in multiply\n",
      "  return - self.limit*np.log(z)-np.log(1-z) + np.sum(np.log(1+z**(self.weights)*np.exp(self.values/T)))\n"
     ]
    }
   ],
   "source": [
    "soln = KP_camping.largeN_algorithm_new()\n",
    "for k in range(len(soln)):\n",
    "    if soln[k] == 1:\n",
    "        print(items[k][0])"
   ]
  },
  {
   "cell_type": "markdown",
   "id": "2e09ec5f",
   "metadata": {},
   "source": [
    "### Running Large N Algorithm"
   ]
  },
  {
   "cell_type": "code",
   "execution_count": 68,
   "id": "674d6cf8",
   "metadata": {},
   "outputs": [
    {
     "name": "stdout",
     "output_type": "stream",
     "text": [
      "map\n",
      "compass\n",
      "water\n",
      "sandwich\n",
      "glucose\n",
      "banana\n",
      "suntan cream\n",
      "waterproof trousers\n",
      "waterproof overclothes\n",
      "note-case\n",
      "sunglasses\n",
      "socks\n"
     ]
    }
   ],
   "source": [
    "soln = KP_camping.largeN_algorithm()\n",
    "for k in range(len(soln)):\n",
    "    if soln[k] == 1:\n",
    "        print(items[k][0])"
   ]
  },
  {
   "cell_type": "markdown",
   "id": "587c018d",
   "metadata": {},
   "source": [
    "### Plotting Potential Function"
   ]
  },
  {
   "cell_type": "code",
   "execution_count": 65,
   "id": "ed15b2d8",
   "metadata": {},
   "outputs": [
    {
     "ename": "AttributeError",
     "evalue": "'KnapsackProblem' object has no attribute 'plot_potential'",
     "output_type": "error",
     "traceback": [
      "\u001b[0;31m---------------------------------------------------------------------------\u001b[0m",
      "\u001b[0;31mAttributeError\u001b[0m                            Traceback (most recent call last)",
      "Input \u001b[0;32mIn [65]\u001b[0m, in \u001b[0;36m<cell line: 1>\u001b[0;34m()\u001b[0m\n\u001b[0;32m----> 1\u001b[0m \u001b[43mKP_camping\u001b[49m\u001b[38;5;241;43m.\u001b[39;49m\u001b[43mplot_potential\u001b[49m(T \u001b[38;5;241m=\u001b[39m \u001b[38;5;241m0.275\u001b[39m)\n",
      "\u001b[0;31mAttributeError\u001b[0m: 'KnapsackProblem' object has no attribute 'plot_potential'"
     ]
    }
   ],
   "source": [
    "KP_camping.plot_potential(T = 0.275)"
   ]
  },
  {
   "cell_type": "code",
   "execution_count": 47,
   "id": "c1d32821",
   "metadata": {},
   "outputs": [
    {
     "ename": "AttributeError",
     "evalue": "'KnapsackProblem' object has no attribute 'plot_potential'",
     "output_type": "error",
     "traceback": [
      "\u001b[0;31m---------------------------------------------------------------------------\u001b[0m",
      "\u001b[0;31mAttributeError\u001b[0m                            Traceback (most recent call last)",
      "Input \u001b[0;32mIn [47]\u001b[0m, in \u001b[0;36m<cell line: 13>\u001b[0;34m()\u001b[0m\n\u001b[1;32m     10\u001b[0m \u001b[38;5;66;03m# defining instance of problem\u001b[39;00m\n\u001b[1;32m     11\u001b[0m KP_test \u001b[38;5;241m=\u001b[39m KnapsackProblem(weights \u001b[38;5;241m=\u001b[39m weight_vec, values \u001b[38;5;241m=\u001b[39m value_vec, limit \u001b[38;5;241m=\u001b[39m Wlimit)\n\u001b[0;32m---> 13\u001b[0m \u001b[43mKP_test\u001b[49m\u001b[38;5;241;43m.\u001b[39;49m\u001b[43mplot_potential\u001b[49m(T \u001b[38;5;241m=\u001b[39m \u001b[38;5;241m0.15\u001b[39m)\n",
      "\u001b[0;31mAttributeError\u001b[0m: 'KnapsackProblem' object has no attribute 'plot_potential'"
     ]
    }
   ],
   "source": [
    "# defining weight and value vectors and weight limit\n",
    "weight_vec = np.array([item[1] for item in items])\n",
    "value_vec = np.array([item[2] for item in items])\n",
    "Wlimit = 400\n",
    "\n",
    "Wlimit = 20\n",
    "weight_vec = 3.0*np.ones(10)\n",
    "value_vec = 3.0*np.ones(10)\n",
    "\n",
    "# defining instance of problem\n",
    "KP_test = KnapsackProblem(weights = weight_vec, values = value_vec, limit = Wlimit)\n",
    "\n",
    "KP_test.plot_potential(T = 0.15)"
   ]
  },
  {
   "cell_type": "code",
   "execution_count": null,
   "id": "4bc13b68",
   "metadata": {},
   "outputs": [],
   "source": [
    "KP_test.temp_constraint"
   ]
  },
  {
   "cell_type": "code",
   "execution_count": 9,
   "id": "d34895a6",
   "metadata": {},
   "outputs": [
    {
     "data": {
      "text/plain": [
       "1.1424283522651653"
      ]
     },
     "execution_count": 9,
     "metadata": {},
     "output_type": "execute_result"
    }
   ],
   "source": [
    "zaim = 1/2\n",
    "fsolve(KP_test.temp_constraint, x0=.205, args = (zaim,))[0]"
   ]
  },
  {
   "cell_type": "code",
   "execution_count": 11,
   "id": "7a10af76",
   "metadata": {},
   "outputs": [
    {
     "name": "stdout",
     "output_type": "stream",
     "text": [
      "0.6333333333333332\n"
     ]
    }
   ],
   "source": [
    "T = 1/2\n",
    "print(np.exp(3/T)/(zaim**(-3) + np.exp(3/T)))"
   ]
  },
  {
   "cell_type": "code",
   "execution_count": 30,
   "id": "608713ab",
   "metadata": {},
   "outputs": [],
   "source": [
    "# consolidating algorithm\n",
    "def largeN_algorithm_new(self, z0 = 1/2,  selection = True):\n",
    "\n",
    "    \"\"\"\n",
    "    Full algorithm for the zero-one KP\n",
    "\n",
    "    Parameters\n",
    "    ----------\n",
    "\n",
    "    x0 : float\n",
    "        Starting value for solving constraint equation\n",
    "\n",
    "    T : float\n",
    "        Temperature for statistical physics system\n",
    "\n",
    "    threshold : float\n",
    "        Limit for rounding to next highest integer\n",
    "\n",
    "\n",
    "    Returns\n",
    "    ----------\n",
    "    x_soln : array\n",
    "        Vector of occupancies\n",
    "\n",
    "    \"\"\"    \n",
    "\n",
    "    #starting temperature\n",
    "    Tstart = 1/np.max(self.values)\n",
    "    \n",
    "    # solving for temperature \n",
    "    T0 = fsolve(self.temp_constraint, x0=Tstart, args = (z0,))[0]\n",
    "    \n",
    "    # Compuiting x averages\n",
    "    x_avgs = self.X_avg_bounded(z = z0, T= T0)\n",
    "    \n",
    "    # selecting objects according to averages\n",
    "    if selection == True:\n",
    "        x_soln = x_selected(x_avgs, self.weights, self.limit)\n",
    "        return x_soln\n",
    "        \n",
    "    else: \n",
    "        return x_avgs"
   ]
  },
  {
   "cell_type": "code",
   "execution_count": 28,
   "id": "12f3709e",
   "metadata": {},
   "outputs": [],
   "source": [
    "def x_selected(x_vals, w_vals, W):\n",
    "    \n",
    "    '''\n",
    "    Selects the objects in decreasing order of \n",
    "    probability of occupancy until the weight limit is satisfied\n",
    "    '''\n",
    "    \n",
    "    final_object_list = np.zeros_like(x_vals)\n",
    "    for _ in range(len(x_vals)):\n",
    "        new_final_object_list = copy.deepcopy(final_object_list)\n",
    "        idx1 = np.argmax(x_vals)\n",
    "        new_final_object_list[idx1] = 1\n",
    "        x_vals[idx1] = 0\n",
    "        if np.dot(w_vals, new_final_object_list) <= W:\n",
    "            final_object_list = copy.deepcopy(new_final_object_list)\n",
    "        else:\n",
    "            break\n",
    "            \n",
    "    return final_object_list"
   ]
  },
  {
   "cell_type": "code",
   "execution_count": 4,
   "id": "a6cc18e5",
   "metadata": {},
   "outputs": [
    {
     "data": {
      "text/plain": [
       "[4, 4, 4]"
      ]
     },
     "execution_count": 4,
     "metadata": {},
     "output_type": "execute_result"
    }
   ],
   "source": [
    "copy.deepcopy([4,4,4])"
   ]
  },
  {
   "cell_type": "code",
   "execution_count": 29,
   "id": "a0b313a3",
   "metadata": {},
   "outputs": [
    {
     "data": {
      "text/plain": [
       "array([1., 0., 1.])"
      ]
     },
     "execution_count": 29,
     "metadata": {},
     "output_type": "execute_result"
    }
   ],
   "source": [
    "x_selected(np.array([0.4, 0.2, 0.6]), np.array([2, 4, 2]), 4)"
   ]
  },
  {
   "cell_type": "markdown",
   "id": "975d532c",
   "metadata": {},
   "source": [
    "```\n",
    "final_object_list = np.zeros_like(list_x)\n",
    "while np.dot(w, final_object_list) <= W:\n",
    "new_final_object_list = final_object_list\n",
    "idx1 = argmax(list_x)\n",
    "new_final_object_list[idx1] = 1\n",
    "list_x[idx1] = 0\n",
    "if np.dot(w, new_final_object_list) <= W:\n",
    "final_object_list = new_final_object_list\n",
    "```"
   ]
  },
  {
   "cell_type": "code",
   "execution_count": 3,
   "id": "2a6300e2",
   "metadata": {},
   "outputs": [
    {
     "ename": "TypeError",
     "evalue": "KnapsackProblem.temp_constraint() missing 2 required positional arguments: 'T' and 'z'",
     "output_type": "error",
     "traceback": [
      "\u001b[0;31m---------------------------------------------------------------------------\u001b[0m",
      "\u001b[0;31mTypeError\u001b[0m                                 Traceback (most recent call last)",
      "Input \u001b[0;32mIn [3]\u001b[0m, in \u001b[0;36m<cell line: 1>\u001b[0;34m()\u001b[0m\n\u001b[0;32m----> 1\u001b[0m \u001b[43mKP_camping\u001b[49m\u001b[38;5;241;43m.\u001b[39;49m\u001b[43mtemp_constraint\u001b[49m\u001b[43m(\u001b[49m\u001b[43m)\u001b[49m\n",
      "\u001b[0;31mTypeError\u001b[0m: KnapsackProblem.temp_constraint() missing 2 required positional arguments: 'T' and 'z'"
     ]
    }
   ],
   "source": [
    "KP_camping.temp_constraint()"
   ]
  },
  {
   "cell_type": "code",
   "execution_count": 4,
   "id": "3c1827e7",
   "metadata": {
    "scrolled": true
   },
   "outputs": [
    {
     "data": {
      "text/plain": [
       "1.841143237159423"
      ]
     },
     "execution_count": 4,
     "metadata": {},
     "output_type": "execute_result"
    }
   ],
   "source": [
    "z_test = 1/2\n",
    "fsolve(KP_camping.temp_constraint, x0=1/2, args = (z_test,))[0]"
   ]
  },
  {
   "cell_type": "code",
   "execution_count": null,
   "id": "fe7aa0f3",
   "metadata": {},
   "outputs": [],
   "source": []
  },
  {
   "cell_type": "code",
   "execution_count": 13,
   "id": "37bc31c0",
   "metadata": {},
   "outputs": [
    {
     "name": "stdout",
     "output_type": "stream",
     "text": [
      "0.16882074550000034\n",
      "19.79967934646371\n"
     ]
    },
    {
     "name": "stderr",
     "output_type": "stream",
     "text": [
      "/Library/Frameworks/Python.framework/Versions/3.10/lib/python3.10/site-packages/scipy/optimize/_minpack_py.py:175: RuntimeWarning: The iteration is not making good progress, as measured by the \n",
      "  improvement from the last ten iterations.\n",
      "  warnings.warn(msg, RuntimeWarning)\n"
     ]
    },
    {
     "data": {
      "image/png": "[encoded data removed]",
      "text/plain": [
       "<Figure size 432x360 with 1 Axes>"
      ]
     },
     "metadata": {
      "needs_background": "light"
     },
     "output_type": "display_data"
    }
   ],
   "source": [
    "# plotting \"Potential landscape\"\n",
    "\n",
    "mvals = 100000 # number of points to plot\n",
    "ztest = np.linspace(0.000001, 0.999999, mvals) # values to evaluate potential\n",
    "\n",
    "# figure\n",
    "plt.figure(figsize = (6, 5))\n",
    "ax = plt.subplot(111)\n",
    "\n",
    "# Hide the right and top spines\n",
    "ax.spines['right'].set_visible(False)\n",
    "ax.spines['top'].set_visible(False)\n",
    "linestyle_list = list(lines.lineStyles.keys())\n",
    "\n",
    "T = 0.5\n",
    "\n",
    "if type(T) == float:\n",
    "    Tlist = [T]\n",
    "else:\n",
    "    Tlist = T\n",
    "\n",
    "# Plotting function for three temperature values\n",
    "Fvals_dict = dict() # empty dictionary of F values\n",
    "for i in range(len(Tlist)):\n",
    "    Fvals_dict[i] = np.zeros(mvals)\n",
    "    for k in range(mvals):\n",
    "        Fvals_dict[i][k] = KP_test.potential(z= ztest[k], T = Tlist[i])\n",
    "#         Fvals_dict[i][k] = KP_test.constraint(z= ztest[k], T = Tlist[i])\n",
    "    ax.plot(ztest, Fvals_dict[i], label = r'$T = %.3f$' % Tlist[i], linestyle = linestyle_list[i], linewidth = 1.0)\n",
    "\n",
    "z_res = fmin(KP_test.potential, x0=1e-8, args = (T,), disp=False)[0]\n",
    "z_res2 = fsolve(KP_test.constraint, x0=1e-8, args = (T,))[0]\n",
    "\n",
    "\n",
    "# plot sides\n",
    "plt.xlabel(r'$z$', fontsize = 20, x = 1.0)\n",
    "plt.xticks(fontsize=13 )\n",
    "plt.ylabel(r'$F_N(z)$', fontsize = 18, rotation = 0, labelpad = 30, y = 0.9)\n",
    "plt.yticks(fontsize= 13)\n",
    "plt.axvline(x = z_res)\n",
    "# plt.xlim(-.0001, 0.00015)\n",
    "# plt.ylim(-.05, .05)\n",
    "plt.grid(alpha = 0.5)\n",
    "plt.legend(loc = 'best', fontsize = 15)\n",
    "\n",
    "print(z_res)\n",
    "print(10*3*np.exp(3/T)/(z_res**(-3) + np.exp(3/T)))\n",
    "\n",
    "plt.show()"
   ]
  },
  {
   "cell_type": "code",
   "execution_count": 135,
   "id": "298bf21a",
   "metadata": {},
   "outputs": [],
   "source": [
    "Tsolve = lambda T, z: -KP_test.limit+ z/(1-z) + np.sum(KP_test.weights*z**(KP_test.weights)/(np.exp(-KP_test.values/T) +z**(KP_test.weights)))"
   ]
  },
  {
   "cell_type": "code",
   "execution_count": 4,
   "id": "81b4290f",
   "metadata": {},
   "outputs": [
    {
     "ename": "NameError",
     "evalue": "name 'Tsolve' is not defined",
     "output_type": "error",
     "traceback": [
      "\u001b[0;31m---------------------------------------------------------------------------\u001b[0m",
      "\u001b[0;31mNameError\u001b[0m                                 Traceback (most recent call last)",
      "Input \u001b[0;32mIn [4]\u001b[0m, in \u001b[0;36m<cell line: 2>\u001b[0;34m()\u001b[0m\n\u001b[1;32m      1\u001b[0m zaim \u001b[38;5;241m=\u001b[39m \u001b[38;5;241m1\u001b[39m\u001b[38;5;241m/\u001b[39m\u001b[38;5;241m2\u001b[39m\n\u001b[0;32m----> 2\u001b[0m fsolve(\u001b[43mTsolve\u001b[49m, x0\u001b[38;5;241m=\u001b[39m\u001b[38;5;241m.205\u001b[39m, args \u001b[38;5;241m=\u001b[39m (zaim,))[\u001b[38;5;241m0\u001b[39m]\n",
      "\u001b[0;31mNameError\u001b[0m: name 'Tsolve' is not defined"
     ]
    }
   ],
   "source": [
    "zaim = 1/2\n",
    "fsolve(Tsolve, x0=.205, args = (zaim,))[0]"
   ]
  },
  {
   "cell_type": "code",
   "execution_count": 138,
   "id": "8a1963f3",
   "metadata": {},
   "outputs": [
    {
     "data": {
      "text/plain": [
       "0.0"
      ]
     },
     "execution_count": 138,
     "metadata": {},
     "output_type": "execute_result"
    }
   ],
   "source": [
    "zaim**(1000)"
   ]
  },
  {
   "cell_type": "code",
   "execution_count": null,
   "id": "59e6a7f1",
   "metadata": {},
   "outputs": [],
   "source": []
  },
  {
   "cell_type": "code",
   "execution_count": 103,
   "id": "cb298ccb",
   "metadata": {},
   "outputs": [
    {
     "data": {
      "text/plain": [
       "array([7.00520861e-20, 7.00520861e-20, 7.00520861e-20, 7.00520861e-20,\n",
       "       7.00520861e-20, 7.00520861e-20, 7.00520861e-20, 7.00520861e-20,\n",
       "       7.00520861e-20, 7.00520861e-20])"
      ]
     },
     "execution_count": 103,
     "metadata": {},
     "output_type": "execute_result"
    }
   ],
   "source": [
    "zaim**(-KP_test.weights)*np.exp(-KP_test.values/T)"
   ]
  },
  {
   "cell_type": "code",
   "execution_count": 92,
   "id": "f1ca5e60",
   "metadata": {},
   "outputs": [
    {
     "data": {
      "text/plain": [
       "2.593750000000007e-09"
      ]
     },
     "execution_count": 92,
     "metadata": {},
     "output_type": "execute_result"
    }
   ],
   "source": [
    "z_res"
   ]
  },
  {
   "cell_type": "code",
   "execution_count": 93,
   "id": "3de546e8",
   "metadata": {},
   "outputs": [
    {
     "data": {
      "text/plain": [
       "0.6658593843125693"
      ]
     },
     "execution_count": 93,
     "metadata": {},
     "output_type": "execute_result"
    }
   ],
   "source": [
    "np.exp(3/T)/(z_res**(-3) + np.exp(3/T))"
   ]
  },
  {
   "cell_type": "code",
   "execution_count": 6,
   "id": "f83d5eaf",
   "metadata": {},
   "outputs": [
    {
     "data": {
      "text/plain": [
       "array([2., 2., 2., 2., 2., 2., 2., 2., 2., 2.])"
      ]
     },
     "execution_count": 6,
     "metadata": {},
     "output_type": "execute_result"
    }
   ],
   "source": [
    "weight_vec"
   ]
  },
  {
   "cell_type": "code",
   "execution_count": null,
   "id": "d1f5a552",
   "metadata": {},
   "outputs": [],
   "source": []
  },
  {
   "cell_type": "code",
   "execution_count": 55,
   "id": "85d266c8",
   "metadata": {},
   "outputs": [
    {
     "name": "stderr",
     "output_type": "stream",
     "text": [
      "/Users/mobolajiwilliams/Dropbox/0Tex_Files_Mac/ipython_personal/2020_11_largeN_knapsack/largeNKP/KP.py:203: RuntimeWarning: overflow encountered in power\n",
      "  return -self.limit+ z/(1-z) + np.sum(self.weights/(z**(-self.weights)*np.exp(-self.values/T) +1))\n"
     ]
    }
   ],
   "source": [
    "Tval = 0.275\n",
    "KP_vals = list()\n",
    "x_vals = np.linspace(0.001, 0.999, 300)\n",
    "for zval in x_vals:\n",
    "    result = KP_camping.constraint(zval, Tval)\n",
    "    KP_vals.append(result)"
   ]
  },
  {
   "cell_type": "code",
   "execution_count": 59,
   "id": "89ba8db1",
   "metadata": {},
   "outputs": [
    {
     "data": {
      "image/png": "[encoded data removed]",
      "text/plain": [
       "<Figure size 432x288 with 1 Axes>"
      ]
     },
     "metadata": {
      "needs_background": "light"
     },
     "output_type": "display_data"
    }
   ],
   "source": [
    "import matplotlib.pyplot as plt\n",
    "plt.plot(x_vals, KP_vals)\n",
    "plt.axhline(y=0, color = 'r')\n",
    "plt.xlim(0,.02)\n",
    "plt.ylim(-10,10)\n",
    "plt.grid()"
   ]
  },
  {
   "cell_type": "code",
   "execution_count": 5,
   "id": "45eebdf1",
   "metadata": {},
   "outputs": [
    {
     "name": "stderr",
     "output_type": "stream",
     "text": [
      "/Users/mobolajiwilliams/Dropbox/0Tex_Files_Mac/ipython_personal/2020_11_largeN_knapsack/largeNKP/KP.py:203: RuntimeWarning: overflow encountered in power\n",
      "  return -self.limit+ z/(1-z) + np.sum(self.weights/(z**(-self.weights)*np.exp(-self.values/T) +1))\n"
     ]
    },
    {
     "ename": "ValueError",
     "evalue": "\n\n^\nDouble subscript  (at char 0), (line:1, col:1)",
     "output_type": "error",
     "traceback": [
      "\u001b[0;31m---------------------------------------------------------------------------\u001b[0m",
      "\u001b[0;31mParseFatalException\u001b[0m                       Traceback (most recent call last)",
      "File \u001b[0;32m/Library/Frameworks/Python.framework/Versions/3.10/lib/python3.10/site-packages/matplotlib/_mathtext.py:2237\u001b[0m, in \u001b[0;36mParser.parse\u001b[0;34m(self, s, fonts_object, fontsize, dpi)\u001b[0m\n\u001b[1;32m   2236\u001b[0m \u001b[38;5;28;01mtry\u001b[39;00m:\n\u001b[0;32m-> 2237\u001b[0m     result \u001b[38;5;241m=\u001b[39m \u001b[38;5;28;43mself\u001b[39;49m\u001b[38;5;241;43m.\u001b[39;49m\u001b[43m_expression\u001b[49m\u001b[38;5;241;43m.\u001b[39;49m\u001b[43mparseString\u001b[49m\u001b[43m(\u001b[49m\u001b[43ms\u001b[49m\u001b[43m)\u001b[49m\n\u001b[1;32m   2238\u001b[0m \u001b[38;5;28;01mexcept\u001b[39;00m ParseBaseException \u001b[38;5;28;01mas\u001b[39;00m err:\n",
      "File \u001b[0;32m/Library/Frameworks/Python.framework/Versions/3.10/lib/python3.10/site-packages/pyparsing/core.py:1141\u001b[0m, in \u001b[0;36mParserElement.parse_string\u001b[0;34m(self, instring, parse_all, parseAll)\u001b[0m\n\u001b[1;32m   1139\u001b[0m     \u001b[38;5;28;01melse\u001b[39;00m:\n\u001b[1;32m   1140\u001b[0m         \u001b[38;5;66;03m# catch and re-raise exception from here, clearing out pyparsing internal stack trace\u001b[39;00m\n\u001b[0;32m-> 1141\u001b[0m         \u001b[38;5;28;01mraise\u001b[39;00m exc\u001b[38;5;241m.\u001b[39mwith_traceback(\u001b[38;5;28;01mNone\u001b[39;00m)\n\u001b[1;32m   1142\u001b[0m \u001b[38;5;28;01melse\u001b[39;00m:\n",
      "\u001b[0;31mParseFatalException\u001b[0m: Double subscript  (at char 0), (line:1, col:1)",
      "\nThe above exception was the direct cause of the following exception:\n",
      "\u001b[0;31mValueError\u001b[0m                                Traceback (most recent call last)",
      "File \u001b[0;32m/Library/Frameworks/Python.framework/Versions/3.10/lib/python3.10/site-packages/IPython/core/formatters.py:339\u001b[0m, in \u001b[0;36mBaseFormatter.__call__\u001b[0;34m(self, obj)\u001b[0m\n\u001b[1;32m    337\u001b[0m     \u001b[38;5;28;01mpass\u001b[39;00m\n\u001b[1;32m    338\u001b[0m \u001b[38;5;28;01melse\u001b[39;00m:\n\u001b[0;32m--> 339\u001b[0m     \u001b[38;5;28;01mreturn\u001b[39;00m \u001b[43mprinter\u001b[49m\u001b[43m(\u001b[49m\u001b[43mobj\u001b[49m\u001b[43m)\u001b[49m\n\u001b[1;32m    340\u001b[0m \u001b[38;5;66;03m# Finally look for special method names\u001b[39;00m\n\u001b[1;32m    341\u001b[0m method \u001b[38;5;241m=\u001b[39m get_real_method(obj, \u001b[38;5;28mself\u001b[39m\u001b[38;5;241m.\u001b[39mprint_method)\n",
      "File \u001b[0;32m/Library/Frameworks/Python.framework/Versions/3.10/lib/python3.10/site-packages/IPython/core/pylabtools.py:151\u001b[0m, in \u001b[0;36mprint_figure\u001b[0;34m(fig, fmt, bbox_inches, base64, **kwargs)\u001b[0m\n\u001b[1;32m    148\u001b[0m     \u001b[38;5;28;01mfrom\u001b[39;00m \u001b[38;5;21;01mmatplotlib\u001b[39;00m\u001b[38;5;21;01m.\u001b[39;00m\u001b[38;5;21;01mbackend_bases\u001b[39;00m \u001b[38;5;28;01mimport\u001b[39;00m FigureCanvasBase\n\u001b[1;32m    149\u001b[0m     FigureCanvasBase(fig)\n\u001b[0;32m--> 151\u001b[0m \u001b[43mfig\u001b[49m\u001b[38;5;241;43m.\u001b[39;49m\u001b[43mcanvas\u001b[49m\u001b[38;5;241;43m.\u001b[39;49m\u001b[43mprint_figure\u001b[49m\u001b[43m(\u001b[49m\u001b[43mbytes_io\u001b[49m\u001b[43m,\u001b[49m\u001b[43m \u001b[49m\u001b[38;5;241;43m*\u001b[39;49m\u001b[38;5;241;43m*\u001b[39;49m\u001b[43mkw\u001b[49m\u001b[43m)\u001b[49m\n\u001b[1;32m    152\u001b[0m data \u001b[38;5;241m=\u001b[39m bytes_io\u001b[38;5;241m.\u001b[39mgetvalue()\n\u001b[1;32m    153\u001b[0m \u001b[38;5;28;01mif\u001b[39;00m fmt \u001b[38;5;241m==\u001b[39m \u001b[38;5;124m'\u001b[39m\u001b[38;5;124msvg\u001b[39m\u001b[38;5;124m'\u001b[39m:\n",
      "File \u001b[0;32m/Library/Frameworks/Python.framework/Versions/3.10/lib/python3.10/site-packages/matplotlib/backend_bases.py:2295\u001b[0m, in \u001b[0;36mFigureCanvasBase.print_figure\u001b[0;34m(self, filename, dpi, facecolor, edgecolor, orientation, format, bbox_inches, pad_inches, bbox_extra_artists, backend, **kwargs)\u001b[0m\n\u001b[1;32m   2289\u001b[0m     renderer \u001b[38;5;241m=\u001b[39m _get_renderer(\n\u001b[1;32m   2290\u001b[0m         \u001b[38;5;28mself\u001b[39m\u001b[38;5;241m.\u001b[39mfigure,\n\u001b[1;32m   2291\u001b[0m         functools\u001b[38;5;241m.\u001b[39mpartial(\n\u001b[1;32m   2292\u001b[0m             print_method, orientation\u001b[38;5;241m=\u001b[39morientation)\n\u001b[1;32m   2293\u001b[0m     )\n\u001b[1;32m   2294\u001b[0m     \u001b[38;5;28;01mwith\u001b[39;00m \u001b[38;5;28mgetattr\u001b[39m(renderer, \u001b[38;5;124m\"\u001b[39m\u001b[38;5;124m_draw_disabled\u001b[39m\u001b[38;5;124m\"\u001b[39m, nullcontext)():\n\u001b[0;32m-> 2295\u001b[0m         \u001b[38;5;28;43mself\u001b[39;49m\u001b[38;5;241;43m.\u001b[39;49m\u001b[43mfigure\u001b[49m\u001b[38;5;241;43m.\u001b[39;49m\u001b[43mdraw\u001b[49m\u001b[43m(\u001b[49m\u001b[43mrenderer\u001b[49m\u001b[43m)\u001b[49m\n\u001b[1;32m   2297\u001b[0m \u001b[38;5;28;01mif\u001b[39;00m bbox_inches:\n\u001b[1;32m   2298\u001b[0m     \u001b[38;5;28;01mif\u001b[39;00m bbox_inches \u001b[38;5;241m==\u001b[39m \u001b[38;5;124m\"\u001b[39m\u001b[38;5;124mtight\u001b[39m\u001b[38;5;124m\"\u001b[39m:\n",
      "File \u001b[0;32m/Library/Frameworks/Python.framework/Versions/3.10/lib/python3.10/site-packages/matplotlib/artist.py:73\u001b[0m, in \u001b[0;36m_finalize_rasterization.<locals>.draw_wrapper\u001b[0;34m(artist, renderer, *args, **kwargs)\u001b[0m\n\u001b[1;32m     71\u001b[0m \u001b[38;5;129m@wraps\u001b[39m(draw)\n\u001b[1;32m     72\u001b[0m \u001b[38;5;28;01mdef\u001b[39;00m \u001b[38;5;21mdraw_wrapper\u001b[39m(artist, renderer, \u001b[38;5;241m*\u001b[39margs, \u001b[38;5;241m*\u001b[39m\u001b[38;5;241m*\u001b[39mkwargs):\n\u001b[0;32m---> 73\u001b[0m     result \u001b[38;5;241m=\u001b[39m \u001b[43mdraw\u001b[49m\u001b[43m(\u001b[49m\u001b[43martist\u001b[49m\u001b[43m,\u001b[49m\u001b[43m \u001b[49m\u001b[43mrenderer\u001b[49m\u001b[43m,\u001b[49m\u001b[43m \u001b[49m\u001b[38;5;241;43m*\u001b[39;49m\u001b[43margs\u001b[49m\u001b[43m,\u001b[49m\u001b[43m \u001b[49m\u001b[38;5;241;43m*\u001b[39;49m\u001b[38;5;241;43m*\u001b[39;49m\u001b[43mkwargs\u001b[49m\u001b[43m)\u001b[49m\n\u001b[1;32m     74\u001b[0m     \u001b[38;5;28;01mif\u001b[39;00m renderer\u001b[38;5;241m.\u001b[39m_rasterizing:\n\u001b[1;32m     75\u001b[0m         renderer\u001b[38;5;241m.\u001b[39mstop_rasterizing()\n",
      "File \u001b[0;32m/Library/Frameworks/Python.framework/Versions/3.10/lib/python3.10/site-packages/matplotlib/artist.py:50\u001b[0m, in \u001b[0;36mallow_rasterization.<locals>.draw_wrapper\u001b[0;34m(artist, renderer)\u001b[0m\n\u001b[1;32m     47\u001b[0m     \u001b[38;5;28;01mif\u001b[39;00m artist\u001b[38;5;241m.\u001b[39mget_agg_filter() \u001b[38;5;129;01mis\u001b[39;00m \u001b[38;5;129;01mnot\u001b[39;00m \u001b[38;5;28;01mNone\u001b[39;00m:\n\u001b[1;32m     48\u001b[0m         renderer\u001b[38;5;241m.\u001b[39mstart_filter()\n\u001b[0;32m---> 50\u001b[0m     \u001b[38;5;28;01mreturn\u001b[39;00m \u001b[43mdraw\u001b[49m\u001b[43m(\u001b[49m\u001b[43martist\u001b[49m\u001b[43m,\u001b[49m\u001b[43m \u001b[49m\u001b[43mrenderer\u001b[49m\u001b[43m)\u001b[49m\n\u001b[1;32m     51\u001b[0m \u001b[38;5;28;01mfinally\u001b[39;00m:\n\u001b[1;32m     52\u001b[0m     \u001b[38;5;28;01mif\u001b[39;00m artist\u001b[38;5;241m.\u001b[39mget_agg_filter() \u001b[38;5;129;01mis\u001b[39;00m \u001b[38;5;129;01mnot\u001b[39;00m \u001b[38;5;28;01mNone\u001b[39;00m:\n",
      "File \u001b[0;32m/Library/Frameworks/Python.framework/Versions/3.10/lib/python3.10/site-packages/matplotlib/figure.py:2837\u001b[0m, in \u001b[0;36mFigure.draw\u001b[0;34m(self, renderer)\u001b[0m\n\u001b[1;32m   2834\u001b[0m         \u001b[38;5;66;03m# ValueError can occur when resizing a window.\u001b[39;00m\n\u001b[1;32m   2836\u001b[0m \u001b[38;5;28mself\u001b[39m\u001b[38;5;241m.\u001b[39mpatch\u001b[38;5;241m.\u001b[39mdraw(renderer)\n\u001b[0;32m-> 2837\u001b[0m \u001b[43mmimage\u001b[49m\u001b[38;5;241;43m.\u001b[39;49m\u001b[43m_draw_list_compositing_images\u001b[49m\u001b[43m(\u001b[49m\n\u001b[1;32m   2838\u001b[0m \u001b[43m    \u001b[49m\u001b[43mrenderer\u001b[49m\u001b[43m,\u001b[49m\u001b[43m \u001b[49m\u001b[38;5;28;43mself\u001b[39;49m\u001b[43m,\u001b[49m\u001b[43m \u001b[49m\u001b[43martists\u001b[49m\u001b[43m,\u001b[49m\u001b[43m \u001b[49m\u001b[38;5;28;43mself\u001b[39;49m\u001b[38;5;241;43m.\u001b[39;49m\u001b[43msuppressComposite\u001b[49m\u001b[43m)\u001b[49m\n\u001b[1;32m   2840\u001b[0m \u001b[38;5;28;01mfor\u001b[39;00m sfig \u001b[38;5;129;01min\u001b[39;00m \u001b[38;5;28mself\u001b[39m\u001b[38;5;241m.\u001b[39msubfigs:\n\u001b[1;32m   2841\u001b[0m     sfig\u001b[38;5;241m.\u001b[39mdraw(renderer)\n",
      "File \u001b[0;32m/Library/Frameworks/Python.framework/Versions/3.10/lib/python3.10/site-packages/matplotlib/image.py:132\u001b[0m, in \u001b[0;36m_draw_list_compositing_images\u001b[0;34m(renderer, parent, artists, suppress_composite)\u001b[0m\n\u001b[1;32m    130\u001b[0m \u001b[38;5;28;01mif\u001b[39;00m not_composite \u001b[38;5;129;01mor\u001b[39;00m \u001b[38;5;129;01mnot\u001b[39;00m has_images:\n\u001b[1;32m    131\u001b[0m     \u001b[38;5;28;01mfor\u001b[39;00m a \u001b[38;5;129;01min\u001b[39;00m artists:\n\u001b[0;32m--> 132\u001b[0m         \u001b[43ma\u001b[49m\u001b[38;5;241;43m.\u001b[39;49m\u001b[43mdraw\u001b[49m\u001b[43m(\u001b[49m\u001b[43mrenderer\u001b[49m\u001b[43m)\u001b[49m\n\u001b[1;32m    133\u001b[0m \u001b[38;5;28;01melse\u001b[39;00m:\n\u001b[1;32m    134\u001b[0m     \u001b[38;5;66;03m# Composite any adjacent images together\u001b[39;00m\n\u001b[1;32m    135\u001b[0m     image_group \u001b[38;5;241m=\u001b[39m []\n",
      "File \u001b[0;32m/Library/Frameworks/Python.framework/Versions/3.10/lib/python3.10/site-packages/matplotlib/artist.py:50\u001b[0m, in \u001b[0;36mallow_rasterization.<locals>.draw_wrapper\u001b[0;34m(artist, renderer)\u001b[0m\n\u001b[1;32m     47\u001b[0m     \u001b[38;5;28;01mif\u001b[39;00m artist\u001b[38;5;241m.\u001b[39mget_agg_filter() \u001b[38;5;129;01mis\u001b[39;00m \u001b[38;5;129;01mnot\u001b[39;00m \u001b[38;5;28;01mNone\u001b[39;00m:\n\u001b[1;32m     48\u001b[0m         renderer\u001b[38;5;241m.\u001b[39mstart_filter()\n\u001b[0;32m---> 50\u001b[0m     \u001b[38;5;28;01mreturn\u001b[39;00m \u001b[43mdraw\u001b[49m\u001b[43m(\u001b[49m\u001b[43martist\u001b[49m\u001b[43m,\u001b[49m\u001b[43m \u001b[49m\u001b[43mrenderer\u001b[49m\u001b[43m)\u001b[49m\n\u001b[1;32m     51\u001b[0m \u001b[38;5;28;01mfinally\u001b[39;00m:\n\u001b[1;32m     52\u001b[0m     \u001b[38;5;28;01mif\u001b[39;00m artist\u001b[38;5;241m.\u001b[39mget_agg_filter() \u001b[38;5;129;01mis\u001b[39;00m \u001b[38;5;129;01mnot\u001b[39;00m \u001b[38;5;28;01mNone\u001b[39;00m:\n",
      "File \u001b[0;32m/Library/Frameworks/Python.framework/Versions/3.10/lib/python3.10/site-packages/matplotlib/axes/_base.py:3091\u001b[0m, in \u001b[0;36m_AxesBase.draw\u001b[0;34m(self, renderer)\u001b[0m\n\u001b[1;32m   3088\u001b[0m         a\u001b[38;5;241m.\u001b[39mdraw(renderer)\n\u001b[1;32m   3089\u001b[0m     renderer\u001b[38;5;241m.\u001b[39mstop_rasterizing()\n\u001b[0;32m-> 3091\u001b[0m \u001b[43mmimage\u001b[49m\u001b[38;5;241;43m.\u001b[39;49m\u001b[43m_draw_list_compositing_images\u001b[49m\u001b[43m(\u001b[49m\n\u001b[1;32m   3092\u001b[0m \u001b[43m    \u001b[49m\u001b[43mrenderer\u001b[49m\u001b[43m,\u001b[49m\u001b[43m \u001b[49m\u001b[38;5;28;43mself\u001b[39;49m\u001b[43m,\u001b[49m\u001b[43m \u001b[49m\u001b[43martists\u001b[49m\u001b[43m,\u001b[49m\u001b[43m \u001b[49m\u001b[38;5;28;43mself\u001b[39;49m\u001b[38;5;241;43m.\u001b[39;49m\u001b[43mfigure\u001b[49m\u001b[38;5;241;43m.\u001b[39;49m\u001b[43msuppressComposite\u001b[49m\u001b[43m)\u001b[49m\n\u001b[1;32m   3094\u001b[0m renderer\u001b[38;5;241m.\u001b[39mclose_group(\u001b[38;5;124m'\u001b[39m\u001b[38;5;124maxes\u001b[39m\u001b[38;5;124m'\u001b[39m)\n\u001b[1;32m   3095\u001b[0m \u001b[38;5;28mself\u001b[39m\u001b[38;5;241m.\u001b[39mstale \u001b[38;5;241m=\u001b[39m \u001b[38;5;28;01mFalse\u001b[39;00m\n",
      "File \u001b[0;32m/Library/Frameworks/Python.framework/Versions/3.10/lib/python3.10/site-packages/matplotlib/image.py:132\u001b[0m, in \u001b[0;36m_draw_list_compositing_images\u001b[0;34m(renderer, parent, artists, suppress_composite)\u001b[0m\n\u001b[1;32m    130\u001b[0m \u001b[38;5;28;01mif\u001b[39;00m not_composite \u001b[38;5;129;01mor\u001b[39;00m \u001b[38;5;129;01mnot\u001b[39;00m has_images:\n\u001b[1;32m    131\u001b[0m     \u001b[38;5;28;01mfor\u001b[39;00m a \u001b[38;5;129;01min\u001b[39;00m artists:\n\u001b[0;32m--> 132\u001b[0m         \u001b[43ma\u001b[49m\u001b[38;5;241;43m.\u001b[39;49m\u001b[43mdraw\u001b[49m\u001b[43m(\u001b[49m\u001b[43mrenderer\u001b[49m\u001b[43m)\u001b[49m\n\u001b[1;32m    133\u001b[0m \u001b[38;5;28;01melse\u001b[39;00m:\n\u001b[1;32m    134\u001b[0m     \u001b[38;5;66;03m# Composite any adjacent images together\u001b[39;00m\n\u001b[1;32m    135\u001b[0m     image_group \u001b[38;5;241m=\u001b[39m []\n",
      "File \u001b[0;32m/Library/Frameworks/Python.framework/Versions/3.10/lib/python3.10/site-packages/matplotlib/artist.py:50\u001b[0m, in \u001b[0;36mallow_rasterization.<locals>.draw_wrapper\u001b[0;34m(artist, renderer)\u001b[0m\n\u001b[1;32m     47\u001b[0m     \u001b[38;5;28;01mif\u001b[39;00m artist\u001b[38;5;241m.\u001b[39mget_agg_filter() \u001b[38;5;129;01mis\u001b[39;00m \u001b[38;5;129;01mnot\u001b[39;00m \u001b[38;5;28;01mNone\u001b[39;00m:\n\u001b[1;32m     48\u001b[0m         renderer\u001b[38;5;241m.\u001b[39mstart_filter()\n\u001b[0;32m---> 50\u001b[0m     \u001b[38;5;28;01mreturn\u001b[39;00m \u001b[43mdraw\u001b[49m\u001b[43m(\u001b[49m\u001b[43martist\u001b[49m\u001b[43m,\u001b[49m\u001b[43m \u001b[49m\u001b[43mrenderer\u001b[49m\u001b[43m)\u001b[49m\n\u001b[1;32m     51\u001b[0m \u001b[38;5;28;01mfinally\u001b[39;00m:\n\u001b[1;32m     52\u001b[0m     \u001b[38;5;28;01mif\u001b[39;00m artist\u001b[38;5;241m.\u001b[39mget_agg_filter() \u001b[38;5;129;01mis\u001b[39;00m \u001b[38;5;129;01mnot\u001b[39;00m \u001b[38;5;28;01mNone\u001b[39;00m:\n",
      "File \u001b[0;32m/Library/Frameworks/Python.framework/Versions/3.10/lib/python3.10/site-packages/matplotlib/axis.py:1172\u001b[0m, in \u001b[0;36mAxis.draw\u001b[0;34m(self, renderer, *args, **kwargs)\u001b[0m\n\u001b[1;32m   1165\u001b[0m \u001b[38;5;66;03m# scale up the axis label box to also find the neighbors, not\u001b[39;00m\n\u001b[1;32m   1166\u001b[0m \u001b[38;5;66;03m# just the tick labels that actually overlap note we need a\u001b[39;00m\n\u001b[1;32m   1167\u001b[0m \u001b[38;5;66;03m# *copy* of the axis label box because we don't want to scale\u001b[39;00m\n\u001b[1;32m   1168\u001b[0m \u001b[38;5;66;03m# the actual bbox\u001b[39;00m\n\u001b[1;32m   1170\u001b[0m \u001b[38;5;28mself\u001b[39m\u001b[38;5;241m.\u001b[39m_update_label_position(renderer)\n\u001b[0;32m-> 1172\u001b[0m \u001b[38;5;28;43mself\u001b[39;49m\u001b[38;5;241;43m.\u001b[39;49m\u001b[43mlabel\u001b[49m\u001b[38;5;241;43m.\u001b[39;49m\u001b[43mdraw\u001b[49m\u001b[43m(\u001b[49m\u001b[43mrenderer\u001b[49m\u001b[43m)\u001b[49m\n\u001b[1;32m   1174\u001b[0m \u001b[38;5;28mself\u001b[39m\u001b[38;5;241m.\u001b[39m_update_offset_text_position(ticklabelBoxes, ticklabelBoxes2)\n\u001b[1;32m   1175\u001b[0m \u001b[38;5;28mself\u001b[39m\u001b[38;5;241m.\u001b[39moffsetText\u001b[38;5;241m.\u001b[39mset_text(\u001b[38;5;28mself\u001b[39m\u001b[38;5;241m.\u001b[39mmajor\u001b[38;5;241m.\u001b[39mformatter\u001b[38;5;241m.\u001b[39mget_offset())\n",
      "File \u001b[0;32m/Library/Frameworks/Python.framework/Versions/3.10/lib/python3.10/site-packages/matplotlib/artist.py:50\u001b[0m, in \u001b[0;36mallow_rasterization.<locals>.draw_wrapper\u001b[0;34m(artist, renderer)\u001b[0m\n\u001b[1;32m     47\u001b[0m     \u001b[38;5;28;01mif\u001b[39;00m artist\u001b[38;5;241m.\u001b[39mget_agg_filter() \u001b[38;5;129;01mis\u001b[39;00m \u001b[38;5;129;01mnot\u001b[39;00m \u001b[38;5;28;01mNone\u001b[39;00m:\n\u001b[1;32m     48\u001b[0m         renderer\u001b[38;5;241m.\u001b[39mstart_filter()\n\u001b[0;32m---> 50\u001b[0m     \u001b[38;5;28;01mreturn\u001b[39;00m \u001b[43mdraw\u001b[49m\u001b[43m(\u001b[49m\u001b[43martist\u001b[49m\u001b[43m,\u001b[49m\u001b[43m \u001b[49m\u001b[43mrenderer\u001b[49m\u001b[43m)\u001b[49m\n\u001b[1;32m     51\u001b[0m \u001b[38;5;28;01mfinally\u001b[39;00m:\n\u001b[1;32m     52\u001b[0m     \u001b[38;5;28;01mif\u001b[39;00m artist\u001b[38;5;241m.\u001b[39mget_agg_filter() \u001b[38;5;129;01mis\u001b[39;00m \u001b[38;5;129;01mnot\u001b[39;00m \u001b[38;5;28;01mNone\u001b[39;00m:\n",
      "File \u001b[0;32m/Library/Frameworks/Python.framework/Versions/3.10/lib/python3.10/site-packages/matplotlib/text.py:685\u001b[0m, in \u001b[0;36mText.draw\u001b[0;34m(self, renderer)\u001b[0m\n\u001b[1;32m    682\u001b[0m renderer\u001b[38;5;241m.\u001b[39mopen_group(\u001b[38;5;124m'\u001b[39m\u001b[38;5;124mtext\u001b[39m\u001b[38;5;124m'\u001b[39m, \u001b[38;5;28mself\u001b[39m\u001b[38;5;241m.\u001b[39mget_gid())\n\u001b[1;32m    684\u001b[0m \u001b[38;5;28;01mwith\u001b[39;00m \u001b[38;5;28mself\u001b[39m\u001b[38;5;241m.\u001b[39m_cm_set(text\u001b[38;5;241m=\u001b[39m\u001b[38;5;28mself\u001b[39m\u001b[38;5;241m.\u001b[39m_get_wrapped_text()):\n\u001b[0;32m--> 685\u001b[0m     bbox, info, descent \u001b[38;5;241m=\u001b[39m \u001b[38;5;28;43mself\u001b[39;49m\u001b[38;5;241;43m.\u001b[39;49m\u001b[43m_get_layout\u001b[49m\u001b[43m(\u001b[49m\u001b[43mrenderer\u001b[49m\u001b[43m)\u001b[49m\n\u001b[1;32m    686\u001b[0m     trans \u001b[38;5;241m=\u001b[39m \u001b[38;5;28mself\u001b[39m\u001b[38;5;241m.\u001b[39mget_transform()\n\u001b[1;32m    688\u001b[0m     \u001b[38;5;66;03m# don't use self.get_position here, which refers to text\u001b[39;00m\n\u001b[1;32m    689\u001b[0m     \u001b[38;5;66;03m# position in Text:\u001b[39;00m\n",
      "File \u001b[0;32m/Library/Frameworks/Python.framework/Versions/3.10/lib/python3.10/site-packages/matplotlib/text.py:317\u001b[0m, in \u001b[0;36mText._get_layout\u001b[0;34m(self, renderer)\u001b[0m\n\u001b[1;32m    315\u001b[0m clean_line, ismath \u001b[38;5;241m=\u001b[39m \u001b[38;5;28mself\u001b[39m\u001b[38;5;241m.\u001b[39m_preprocess_math(line)\n\u001b[1;32m    316\u001b[0m \u001b[38;5;28;01mif\u001b[39;00m clean_line:\n\u001b[0;32m--> 317\u001b[0m     w, h, d \u001b[38;5;241m=\u001b[39m \u001b[43mrenderer\u001b[49m\u001b[38;5;241;43m.\u001b[39;49m\u001b[43mget_text_width_height_descent\u001b[49m\u001b[43m(\u001b[49m\n\u001b[1;32m    318\u001b[0m \u001b[43m        \u001b[49m\u001b[43mclean_line\u001b[49m\u001b[43m,\u001b[49m\u001b[43m \u001b[49m\u001b[38;5;28;43mself\u001b[39;49m\u001b[38;5;241;43m.\u001b[39;49m\u001b[43m_fontproperties\u001b[49m\u001b[43m,\u001b[49m\u001b[43m \u001b[49m\u001b[43mismath\u001b[49m\u001b[38;5;241;43m=\u001b[39;49m\u001b[43mismath\u001b[49m\u001b[43m)\u001b[49m\n\u001b[1;32m    319\u001b[0m \u001b[38;5;28;01melse\u001b[39;00m:\n\u001b[1;32m    320\u001b[0m     w \u001b[38;5;241m=\u001b[39m h \u001b[38;5;241m=\u001b[39m d \u001b[38;5;241m=\u001b[39m \u001b[38;5;241m0\u001b[39m\n",
      "File \u001b[0;32m/Library/Frameworks/Python.framework/Versions/3.10/lib/python3.10/site-packages/matplotlib/backends/backend_agg.py:265\u001b[0m, in \u001b[0;36mRendererAgg.get_text_width_height_descent\u001b[0;34m(self, s, prop, ismath)\u001b[0m\n\u001b[1;32m    261\u001b[0m     \u001b[38;5;28;01mreturn\u001b[39;00m w, h, d\n\u001b[1;32m    263\u001b[0m \u001b[38;5;28;01mif\u001b[39;00m ismath:\n\u001b[1;32m    264\u001b[0m     ox, oy, width, height, descent, fonts, used_characters \u001b[38;5;241m=\u001b[39m \\\n\u001b[0;32m--> 265\u001b[0m         \u001b[38;5;28;43mself\u001b[39;49m\u001b[38;5;241;43m.\u001b[39;49m\u001b[43mmathtext_parser\u001b[49m\u001b[38;5;241;43m.\u001b[39;49m\u001b[43mparse\u001b[49m\u001b[43m(\u001b[49m\u001b[43ms\u001b[49m\u001b[43m,\u001b[49m\u001b[43m \u001b[49m\u001b[38;5;28;43mself\u001b[39;49m\u001b[38;5;241;43m.\u001b[39;49m\u001b[43mdpi\u001b[49m\u001b[43m,\u001b[49m\u001b[43m \u001b[49m\u001b[43mprop\u001b[49m\u001b[43m)\u001b[49m\n\u001b[1;32m    266\u001b[0m     \u001b[38;5;28;01mreturn\u001b[39;00m width, height, descent\n\u001b[1;32m    268\u001b[0m flags \u001b[38;5;241m=\u001b[39m get_hinting_flag()\n",
      "File \u001b[0;32m/Library/Frameworks/Python.framework/Versions/3.10/lib/python3.10/site-packages/matplotlib/mathtext.py:435\u001b[0m, in \u001b[0;36mMathTextParser.parse\u001b[0;34m(self, s, dpi, prop, _force_standard_ps_fonts)\u001b[0m\n\u001b[1;32m    420\u001b[0m     _api\u001b[38;5;241m.\u001b[39mwarn_deprecated(\n\u001b[1;32m    421\u001b[0m         \u001b[38;5;124m\"\u001b[39m\u001b[38;5;124m3.4\u001b[39m\u001b[38;5;124m\"\u001b[39m,\n\u001b[1;32m    422\u001b[0m         removal\u001b[38;5;241m=\u001b[39m\u001b[38;5;124m\"\u001b[39m\u001b[38;5;124m3.5\u001b[39m\u001b[38;5;124m\"\u001b[39m,\n\u001b[0;32m   (...)\u001b[0m\n\u001b[1;32m    429\u001b[0m         )\n\u001b[1;32m    430\u001b[0m     )\n\u001b[1;32m    432\u001b[0m \u001b[38;5;66;03m# lru_cache can't decorate parse() directly because the ps.useafm and\u001b[39;00m\n\u001b[1;32m    433\u001b[0m \u001b[38;5;66;03m# mathtext.fontset rcParams also affect the parse (e.g. by affecting\u001b[39;00m\n\u001b[1;32m    434\u001b[0m \u001b[38;5;66;03m# the glyph metrics).\u001b[39;00m\n\u001b[0;32m--> 435\u001b[0m \u001b[38;5;28;01mreturn\u001b[39;00m \u001b[38;5;28;43mself\u001b[39;49m\u001b[38;5;241;43m.\u001b[39;49m\u001b[43m_parse_cached\u001b[49m\u001b[43m(\u001b[49m\u001b[43ms\u001b[49m\u001b[43m,\u001b[49m\u001b[43m \u001b[49m\u001b[43mdpi\u001b[49m\u001b[43m,\u001b[49m\u001b[43m \u001b[49m\u001b[43mprop\u001b[49m\u001b[43m,\u001b[49m\u001b[43m \u001b[49m\u001b[43m_force_standard_ps_fonts\u001b[49m\u001b[43m)\u001b[49m\n",
      "File \u001b[0;32m/Library/Frameworks/Python.framework/Versions/3.10/lib/python3.10/site-packages/matplotlib/mathtext.py:456\u001b[0m, in \u001b[0;36mMathTextParser._parse_cached\u001b[0;34m(self, s, dpi, prop, force_standard_ps_fonts)\u001b[0m\n\u001b[1;32m    453\u001b[0m \u001b[38;5;28;01mif\u001b[39;00m \u001b[38;5;28mself\u001b[39m\u001b[38;5;241m.\u001b[39m_parser \u001b[38;5;129;01mis\u001b[39;00m \u001b[38;5;28;01mNone\u001b[39;00m:\n\u001b[1;32m    454\u001b[0m     \u001b[38;5;28mself\u001b[39m\u001b[38;5;241m.\u001b[39m\u001b[38;5;18m__class__\u001b[39m\u001b[38;5;241m.\u001b[39m_parser \u001b[38;5;241m=\u001b[39m _mathtext\u001b[38;5;241m.\u001b[39mParser()\n\u001b[0;32m--> 456\u001b[0m box \u001b[38;5;241m=\u001b[39m \u001b[38;5;28;43mself\u001b[39;49m\u001b[38;5;241;43m.\u001b[39;49m\u001b[43m_parser\u001b[49m\u001b[38;5;241;43m.\u001b[39;49m\u001b[43mparse\u001b[49m\u001b[43m(\u001b[49m\u001b[43ms\u001b[49m\u001b[43m,\u001b[49m\u001b[43m \u001b[49m\u001b[43mfont_output\u001b[49m\u001b[43m,\u001b[49m\u001b[43m \u001b[49m\u001b[43mfontsize\u001b[49m\u001b[43m,\u001b[49m\u001b[43m \u001b[49m\u001b[43mdpi\u001b[49m\u001b[43m)\u001b[49m\n\u001b[1;32m    457\u001b[0m font_output\u001b[38;5;241m.\u001b[39mset_canvas_size(box\u001b[38;5;241m.\u001b[39mwidth, box\u001b[38;5;241m.\u001b[39mheight, box\u001b[38;5;241m.\u001b[39mdepth)\n\u001b[1;32m    458\u001b[0m \u001b[38;5;28;01mreturn\u001b[39;00m font_output\u001b[38;5;241m.\u001b[39mget_results(box)\n",
      "File \u001b[0;32m/Library/Frameworks/Python.framework/Versions/3.10/lib/python3.10/site-packages/matplotlib/_mathtext.py:2239\u001b[0m, in \u001b[0;36mParser.parse\u001b[0;34m(self, s, fonts_object, fontsize, dpi)\u001b[0m\n\u001b[1;32m   2237\u001b[0m     result \u001b[38;5;241m=\u001b[39m \u001b[38;5;28mself\u001b[39m\u001b[38;5;241m.\u001b[39m_expression\u001b[38;5;241m.\u001b[39mparseString(s)\n\u001b[1;32m   2238\u001b[0m \u001b[38;5;28;01mexcept\u001b[39;00m ParseBaseException \u001b[38;5;28;01mas\u001b[39;00m err:\n\u001b[0;32m-> 2239\u001b[0m     \u001b[38;5;28;01mraise\u001b[39;00m \u001b[38;5;167;01mValueError\u001b[39;00m(\u001b[38;5;124m\"\u001b[39m\u001b[38;5;130;01m\\n\u001b[39;00m\u001b[38;5;124m\"\u001b[39m\u001b[38;5;241m.\u001b[39mjoin([\u001b[38;5;124m\"\u001b[39m\u001b[38;5;124m\"\u001b[39m,\n\u001b[1;32m   2240\u001b[0m                                 err\u001b[38;5;241m.\u001b[39mline,\n\u001b[1;32m   2241\u001b[0m                                 \u001b[38;5;124m\"\u001b[39m\u001b[38;5;124m \u001b[39m\u001b[38;5;124m\"\u001b[39m \u001b[38;5;241m*\u001b[39m (err\u001b[38;5;241m.\u001b[39mcolumn \u001b[38;5;241m-\u001b[39m \u001b[38;5;241m1\u001b[39m) \u001b[38;5;241m+\u001b[39m \u001b[38;5;124m\"\u001b[39m\u001b[38;5;124m^\u001b[39m\u001b[38;5;124m\"\u001b[39m,\n\u001b[1;32m   2242\u001b[0m                                 \u001b[38;5;28mstr\u001b[39m(err)])) \u001b[38;5;28;01mfrom\u001b[39;00m \u001b[38;5;21;01merr\u001b[39;00m\n\u001b[1;32m   2243\u001b[0m \u001b[38;5;28mself\u001b[39m\u001b[38;5;241m.\u001b[39m_state_stack \u001b[38;5;241m=\u001b[39m \u001b[38;5;28;01mNone\u001b[39;00m\n\u001b[1;32m   2244\u001b[0m \u001b[38;5;28mself\u001b[39m\u001b[38;5;241m.\u001b[39m_em_width_cache \u001b[38;5;241m=\u001b[39m {}\n",
      "\u001b[0;31mValueError\u001b[0m: \n\n^\nDouble subscript  (at char 0), (line:1, col:1)"
     ]
    },
    {
     "data": {
      "text/plain": [
       "<Figure size 432x360 with 1 Axes>"
      ]
     },
     "metadata": {
      "needs_background": "light"
     },
     "output_type": "display_data"
    }
   ],
   "source": [
    "KP_camping.plot_constraint(T = 0.63)"
   ]
  },
  {
   "cell_type": "markdown",
   "id": "c131363b",
   "metadata": {},
   "source": [
    "### Plotting Temperature Dependence of Value"
   ]
  },
  {
   "cell_type": "code",
   "execution_count": 5,
   "id": "466704f4",
   "metadata": {},
   "outputs": [
    {
     "name": "stderr",
     "output_type": "stream",
     "text": [
      "/Users/mobolajiwilliams/Dropbox/0Tex_Files_Mac/ipython_personal/2020_11_largeN_knapsack/largeNKP/KP.py:199: RuntimeWarning: invalid value encountered in log\n",
      "  return - self.limit*np.log(z)-np.log(1-z) + np.sum(np.log(1+z**(self.weights)*np.exp(self.values/T)))\n"
     ]
    },
    {
     "data": {
      "image/png": "[encoded data removed]",
      "text/plain": [
       "<Figure size 432x360 with 1 Axes>"
      ]
     },
     "metadata": {
      "needs_background": "light"
     },
     "output_type": "display_data"
    }
   ],
   "source": [
    "KP_camping.plot_value_vs_temp(temp_low=1.0, temp_high = 60.0)"
   ]
  },
  {
   "cell_type": "markdown",
   "id": "ed0c9875",
   "metadata": {},
   "source": [
    "### Algorithm Comparison"
   ]
  },
  {
   "cell_type": "code",
   "execution_count": 6,
   "id": "f6c9ad41",
   "metadata": {},
   "outputs": [],
   "source": [
    "from tabulate import tabulate\n",
    "from collections import defaultdict\n",
    "\n",
    "import time"
   ]
  },
  {
   "cell_type": "code",
   "execution_count": 7,
   "id": "dd7ea3a7",
   "metadata": {},
   "outputs": [
    {
     "name": "stdout",
     "output_type": "stream",
     "text": [
      "Stopping annealing because error tolerance was reached\n",
      "+-------------+---------+-----------+--------------+\n",
      "| Algorithm   |   Value |   Weight  |   Time (sec) |\n",
      "+=============+=========+===========+==============+\n",
      "| Brute       |    1030 |       396 |     18.1333  |\n",
      "+-------------+---------+-----------+--------------+\n",
      "| DP          |    1030 |       396 |      0.00295 |\n",
      "+-------------+---------+-----------+--------------+\n",
      "| FPTAS       |    1030 |       396 |      0.00203 |\n",
      "+-------------+---------+-----------+--------------+\n",
      "| Greedy      |    1030 |       396 |      5e-05   |\n",
      "+-------------+---------+-----------+--------------+\n",
      "| Annealing   |     905 |       397 |      0.0646  |\n",
      "+-------------+---------+-----------+--------------+\n",
      "| Large N     |    1030 |       396 |      0.00075 |\n",
      "+-------------+---------+-----------+--------------+\n"
     ]
    }
   ],
   "source": [
    "# dictionary of algorithm names and functions\n",
    "algo_name_dict = {'Brute': KP_camping.brute_force,\n",
    "                  'DP': KP_camping.knapsack01_dpV,\n",
    "                  'FPTAS': KP_camping.fptas,\n",
    "                  'Greedy': KP_camping.greedy,\n",
    "                  'Annealing': KP_camping.simann_knapsack,\n",
    "                  'Large N': KP_camping.largeN_algorithm}\n",
    "\n",
    "# dictionary of algorithm names and results\n",
    "results_name_dict = defaultdict(lambda: list())\n",
    "\n",
    "for name, func in algo_name_dict.items():\n",
    "    start_clock = time.time()\n",
    "    soln  = func()\n",
    "    \n",
    "    # calculating values\n",
    "    tot_value = str(round(np.dot(value_vec, soln), 0))\n",
    "    tot_weight = str(round(np.dot(weight_vec, soln), 0))\n",
    "    time_calc = str(round(time.time()-start_clock, 5)) \n",
    "    \n",
    "    # assembling results\n",
    "    results_name_dict[name] = [name, tot_value, tot_weight, time_calc]\n",
    "    \n",
    "# creating table of results\n",
    "tabular_results = []\n",
    "for k, v in results_name_dict.items():\n",
    "    tabular_results.append(v) \n",
    "\n",
    "print(tabulate(tabular_results, [\"Algorithm\", \"Value\", \"Weight \", \"Time (sec)\"], tablefmt=\"grid\"))"
   ]
  },
  {
   "cell_type": "markdown",
   "id": "6b2ef643",
   "metadata": {},
   "source": [
    "### Knapsack Variations: Bounded Version"
   ]
  },
  {
   "cell_type": "code",
   "execution_count": 2,
   "id": "5a561ab8",
   "metadata": {},
   "outputs": [],
   "source": [
    "items = ((\"map\", 9, 150, 1),(\"compass\", 13, 35, 1), (\"water\", 153, 200, 3),(\"sandwich\", 50, 60, 2),\n",
    "         (\"glucose\", 15, 60, 2),(\"tin\", 68, 45, 3), (\"banana\", 27, 60, 3),(\"apple\", 39, 40, 3),\n",
    "            (\"cheese\", 23, 30, 1),(\"beer\", 52, 10, 3),(\"suntan cream\", 11, 70, 1),(\"camera\", 32, 30, 1),\n",
    "            (\"t-shirt\", 24, 15, 2),(\"trousers\", 48, 10, 2),(\"umbrella\", 73, 40, 1),(\"waterproof trousers\", 42, 70, 1),\n",
    "            (\"waterproof overclothes\", 43, 75, 1),(\"note-case\", 22, 80, 1),(\"sunglasses\", 7, 20, 1),(\"towel\", 18, 12, 2),\n",
    "            (\"socks\", 4, 50, 1),(\"book\", 30, 10, 2),\n",
    "           )\n",
    "\n",
    "# defining weight and value vectors and weight limit\n",
    "weight_vec = np.array([item[1] for item in items])\n",
    "value_vec = np.array([item[2] for item in items])\n",
    "bound_vec = np.array([item[3] for item in items])\n",
    "Wlimit = 400\n",
    "\n",
    "# defining instance of problem\n",
    "KP_bounded = KnapsackProblem(weights = weight_vec, values = value_vec, limit = Wlimit, bounds = bound_vec)"
   ]
  },
  {
   "cell_type": "code",
   "execution_count": 3,
   "id": "d8db7f07",
   "metadata": {},
   "outputs": [
    {
     "name": "stdout",
     "output_type": "stream",
     "text": [
      "Item: Item #\n",
      "-----------\n",
      "map : 1 \n",
      "compass : 1 \n",
      "water : 3 \n",
      "suntan cream : 1 \n",
      "waterproof trousers : 1 \n",
      "waterproof overclothes : 1 \n",
      "note-case : 1 \n",
      "sunglasses : 1 \n",
      "socks : 1 \n",
      "\n",
      "Total Value: 1050\n",
      "Total Weight: 415\n"
     ]
    },
    {
     "name": "stderr",
     "output_type": "stream",
     "text": [
      "/Users/mobolajiwilliams/Dropbox/0Tex_Files_Mac/ipython_personal/2020_11_largeN_knapsack/largeNKP/KP.py:218: RuntimeWarning: overflow encountered in power\n",
      "  return -self.limit+ z/(1-z) + np.sum(self.weights/(z**(-self.weights)*np.exp(-self.values/T) -1 )) - np.sum((self.bounds+1)*self.weights/(z**(-(self.bounds+1)*self.weights)*np.exp(-(self.bounds+1)*self.values/T) - 1))\n"
     ]
    }
   ],
   "source": [
    "soln = KP_bounded.largeN_algorithm(T = 4.10, threshold = 0.50)\n",
    "print('Item: Item #')\n",
    "print('-----------')\n",
    "for k in range(len(soln)):\n",
    "    if soln[k] == 1:\n",
    "        print('%s : %i ' % (items[k][0], items[k][3]))\n",
    "print()        \n",
    "print('Total Value: %i' % (np.dot(soln, value_vec)))\n",
    "print('Total Weight: %i' % (np.dot(soln, weight_vec)))"
   ]
  },
  {
   "cell_type": "code",
   "execution_count": null,
   "id": "ebb23a92",
   "metadata": {},
   "outputs": [],
   "source": []
  }
 ],
 "metadata": {
  "kernelspec": {
   "display_name": "Python 3 (ipykernel)",
   "language": "python",
   "name": "python3"
  },
  "language_info": {
   "codemirror_mode": {
    "name": "ipython",
    "version": 3
   },
   "file_extension": ".py",
   "mimetype": "text/x-python",
   "name": "python",
   "nbconvert_exporter": "python",
   "pygments_lexer": "ipython3",
   "version": "3.10.2"
  }
 },
 "nbformat": 4,
 "nbformat_minor": 5
}
