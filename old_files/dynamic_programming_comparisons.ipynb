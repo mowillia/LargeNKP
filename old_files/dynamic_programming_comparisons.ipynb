{
 "cells": [
  {
   "cell_type": "code",
   "execution_count": 1,
   "id": "affected-gambling",
   "metadata": {},
   "outputs": [],
   "source": [
    "import numpy as np\n",
    "import matplotlib.pyplot as plt\n",
    "import logging\n",
    "from KP import KnapsackProblem\n",
    "\n",
    "\n",
    "import math\n",
    "import time"
   ]
  },
  {
   "cell_type": "markdown",
   "id": "dutch-authentication",
   "metadata": {},
   "source": [
    "## Dynamic Programming Algorithm Comparisons\n",
    "\n",
    "Notebook code for comparing the time and accuracy of various algorithms to solve the 0-1 Knapsack problem. \n",
    "\n",
    "Compared algorithms\n",
    "\n",
    "- **Dynamical Programming Solution:**(`knapsack_dpV`)  Standard iterative solution to the problem which involves storing sub-problem solutions in matrix elements\n",
    "\n",
    "- **Exact Partition Function (FPTAS):**(`exact_z_algorithm`)  Algorithm that uses dynamical programming to compute partition function and then from partition function compute the solution "
   ]
  },
  {
   "cell_type": "markdown",
   "id": "delayed-customer",
   "metadata": {},
   "source": [
    "### Main Calculation\n",
    "\n",
    "We now investigate how these accuracies vary as we change the number of items. We will ignore the brute force algorithm since it is so slow and take the dynamical programming solution to be our baseline of comparison (because it is exact). "
   ]
  },
  {
   "cell_type": "code",
   "execution_count": 2,
   "id": "norman-consolidation",
   "metadata": {},
   "outputs": [
    {
     "name": "stdout",
     "output_type": "stream",
     "text": [
      "DP\n",
      "ExactZ\n"
     ]
    }
   ],
   "source": [
    "# test instance\n",
    "KP_test = KnapsackProblem(weights = [1], values = [1], limit = 1)\n",
    "\n",
    "# dictionary of algorithm names and functions\n",
    "algo_name_dict = {'DP': KP_test.knapsack01_dpV,\n",
    "                  'ExactZ': KP_test.exact_z_algorithm}\n",
    "\n",
    "\n",
    "for k, v in algo_name_dict.items():\n",
    "    print(k)"
   ]
  },
  {
   "cell_type": "code",
   "execution_count": 3,
   "id": "breeding-warrant",
   "metadata": {},
   "outputs": [
    {
     "name": "stdout",
     "output_type": "stream",
     "text": [
      "## N = 8\n",
      "## Weight Limit: 287.000\n",
      "---\n",
      "---\n",
      "DP V_soln/V_exact: 1.000\n",
      "DP Weight: 264.000\n",
      "DP computation time: 0.001\n",
      "---\n",
      "ExactZ V_soln/V_exact: 1.000\n",
      "ExactZ Weight: 264.000\n",
      "ExactZ computation time: 0.004\n",
      "---\n",
      "Done with Round #1!\n",
      "Total elapsed time so far: 0.005 sec\n",
      "\n",
      "\n",
      "## N = 16\n",
      "## Weight Limit: 416.000\n",
      "---\n",
      "---\n",
      "DP V_soln/V_exact: 1.000\n",
      "DP Weight: 403.000\n",
      "DP computation time: 0.002\n",
      "---\n",
      "ExactZ V_soln/V_exact: 1.000\n",
      "ExactZ Weight: 403.000\n",
      "ExactZ computation time: 0.011\n",
      "---\n",
      "Done with Round #2!\n",
      "Total elapsed time so far: 0.019 sec\n",
      "\n",
      "\n",
      "## N = 32\n",
      "## Weight Limit: 850.000\n",
      "---\n",
      "---\n",
      "DP V_soln/V_exact: 1.000\n",
      "DP Weight: 843.000\n",
      "DP computation time: 0.009\n",
      "---\n",
      "ExactZ V_soln/V_exact: 1.000\n",
      "ExactZ Weight: 843.000\n",
      "ExactZ computation time: 0.047\n",
      "---\n",
      "Done with Round #3!\n",
      "Total elapsed time so far: 0.075 sec\n",
      "\n",
      "\n",
      "## N = 64\n",
      "## Weight Limit: 1643.000\n",
      "---\n",
      "---\n",
      "DP V_soln/V_exact: 1.000\n",
      "DP Weight: 1636.000\n",
      "DP computation time: 0.034\n",
      "---\n",
      "ExactZ V_soln/V_exact: 1.000\n",
      "ExactZ Weight: 1636.000\n",
      "ExactZ computation time: 0.187\n",
      "---\n",
      "Done with Round #4!\n",
      "Total elapsed time so far: 0.296 sec\n",
      "\n",
      "\n",
      "## N = 128\n",
      "## Weight Limit: 3049.000\n",
      "---\n",
      "---\n",
      "DP V_soln/V_exact: 1.000\n",
      "DP Weight: 3047.000\n",
      "DP computation time: 0.129\n",
      "---\n",
      "ExactZ V_soln/V_exact: 0.997\n",
      "ExactZ Weight: 3028.000\n",
      "ExactZ computation time: 0.704\n",
      "---\n",
      "Done with Round #5!\n",
      "Total elapsed time so far: 1.130 sec\n",
      "\n",
      "\n",
      "## N = 256\n",
      "## Weight Limit: 6307.000\n",
      "---\n",
      "---\n",
      "DP V_soln/V_exact: 1.000\n",
      "DP Weight: 6307.000\n",
      "DP computation time: 0.551\n",
      "---\n",
      "ExactZ V_soln/V_exact: 0.997\n",
      "ExactZ Weight: 6307.000\n",
      "ExactZ computation time: 2.960\n",
      "---\n",
      "Done with Round #6!\n",
      "Total elapsed time so far: 4.641 sec\n",
      "\n",
      "\n",
      "## N = 512\n",
      "## Weight Limit: 12681.000\n",
      "---\n",
      "---\n",
      "DP V_soln/V_exact: 1.000\n",
      "DP Weight: 12681.000\n",
      "DP computation time: 2.191\n",
      "---\n"
     ]
    },
    {
     "name": "stderr",
     "output_type": "stream",
     "text": [
      "/Users/mobolajiwilliams/Dropbox/0Tex_Files_Mac/ipython_personal/LargeNKP/KP.py:219: RuntimeWarning: overflow encountered in double_scalars\n",
      "  Z[i][w] = Z[i-1][w] + np.exp(val/T)*Z[i-1][w-wt]\n",
      "/Users/mobolajiwilliams/Dropbox/0Tex_Files_Mac/ipython_personal/LargeNKP/KP.py:226: RuntimeWarning: invalid value encountered in double_scalars\n",
      "  was_added = 1 - Z[j-1][w]/Z[j][w] > 0.5\n"
     ]
    },
    {
     "name": "stdout",
     "output_type": "stream",
     "text": [
      "ExactZ V_soln/V_exact: 0.935\n",
      "ExactZ Weight: 12632.000\n",
      "ExactZ computation time: 11.916\n",
      "---\n",
      "Done with Round #7!\n",
      "Total elapsed time so far: 18.749 sec\n",
      "\n",
      "\n",
      "## N = 1024\n",
      "## Weight Limit: 25521.000\n",
      "---\n",
      "---\n",
      "DP V_soln/V_exact: 1.000\n",
      "DP Weight: 25521.000\n",
      "DP computation time: 9.141\n",
      "---\n",
      "ExactZ V_soln/V_exact: 0.707\n",
      "ExactZ Weight: 25466.000\n",
      "ExactZ computation time: 48.553\n",
      "---\n",
      "Done with Round #8!\n",
      "Total elapsed time so far: 76.443 sec\n",
      "\n",
      "\n"
     ]
    }
   ],
   "source": [
    "# max power\n",
    "power = 11\n",
    "\n",
    "# print intermediate results\n",
    "verbose = True\n",
    "\n",
    "# number of elements\n",
    "nelem_list = [2**k for k in range(3, power)]\n",
    "\n",
    "# defining default dictionaries\n",
    "time_list_name_dict = defaultdict(lambda: list())\n",
    "v_ratio_list_name_dict = defaultdict(lambda: list())\n",
    "limit_list = list()\n",
    "limit_sat_list_name_dict = defaultdict(lambda: list())\n",
    "\n",
    "# start clock\n",
    "start_clock0 = time.time()\n",
    "\n",
    "for m in range(len(nelem_list)):\n",
    "    \n",
    "    # getting element\n",
    "    nelem = nelem_list[m]\n",
    "    \n",
    "    # set seed\n",
    "    np.random.seed(42)\n",
    "\n",
    "    # Randomly choose the weight of each object\n",
    "    weight_vec = np.random.randint(1,100,nelem)\n",
    "    value_vec = np.random.randint(1,100,nelem)\n",
    "    \n",
    "    # Defining Weight Limit as the average of the weights of \n",
    "    # randomly chosen objects\n",
    "    empt_list = []\n",
    "    for _ in range(10):\n",
    "        empt_list.append(np.dot(np.random.randint(0,2,nelem), weight_vec))\n",
    "    Wlimit = int(np.mean(empt_list))   \n",
    "    limit_list.append(Wlimit)\n",
    "    \n",
    "    # knapsack instance\n",
    "    KP_init = KnapsackProblem(weights = weight_vec, values = value_vec, limit = Wlimit)\n",
    "    \n",
    "    # dictionary of algorithm names and functions\n",
    "    algo_name_dict = {'DP': KP_init.knapsack01_dpV,\n",
    "                  'ExactZ': KP_init.exact_z_algorithm}   \n",
    "    \n",
    "    if verbose:\n",
    "        print('## N = %s' % str(nelem))\n",
    "        print('## Weight Limit: %.3f' % Wlimit)\n",
    "        print('---')\n",
    "        print('---')\n",
    "              \n",
    "    \n",
    "    for name, algo in algo_name_dict.items():\n",
    "        \n",
    "        # finding solution and computing time    \n",
    "        start_clock = time.time()   \n",
    "        soln = algo()\n",
    "            \n",
    "        time_list_name_dict[name].append(time.time()-start_clock)        \n",
    "    \n",
    "        if name == 'DP':\n",
    "            true_value = np.dot(soln, value_vec)\n",
    "\n",
    "        # adding accuracy \n",
    "        v_ratio_list_name_dict[name].append(np.dot(soln, value_vec)/true_value)  \n",
    "        limit_sat_list_name_dict[name].append(np.dot(soln, weight_vec)<Wlimit)  \n",
    "        \n",
    "        if verbose: \n",
    "            print('%s V_soln/V_exact: %.3f' % (name, np.dot(soln, value_vec)/true_value))\n",
    "            print('%s Weight: %.3f' % (name, np.dot(soln, weight_vec)))\n",
    "            print('%s computation time: %.3f' % (name, time_list_name_dict[name][-1]))\n",
    "            print('---')\n",
    "            \n",
    "    if verbose: \n",
    "        print('Done with Round #%i!' % (m+1))\n",
    "        print('Total elapsed time so far: %.3f sec' % (time.time()-start_clock0))\n",
    "        print('')\n",
    "        print('')"
   ]
  },
  {
   "cell_type": "code",
   "execution_count": 4,
   "id": "691016fa",
   "metadata": {},
   "outputs": [
    {
     "data": {
      "text/plain": [
       "array([2.35385267e+17, 4.31123155e+15, 2.64891221e+10, ...,\n",
       "       3.73324200e+32, 4.09399696e+35, 1.62754791e+05])"
      ]
     },
     "execution_count": 4,
     "metadata": {},
     "output_type": "execute_result"
    }
   ],
   "source": [
    "np.exp(value_vec)"
   ]
  },
  {
   "cell_type": "markdown",
   "id": "sporting-marshall",
   "metadata": {},
   "source": [
    "## Plots"
   ]
  },
  {
   "cell_type": "markdown",
   "id": "surface-screening",
   "metadata": {},
   "source": [
    "### Accuracy vs $N$"
   ]
  },
  {
   "cell_type": "code",
   "execution_count": 5,
   "id": "humanitarian-magnet",
   "metadata": {},
   "outputs": [],
   "source": [
    "# dictionary of algorithm names and functions\n",
    "marker_name_dict = {'DP': 's',  \n",
    "                    'ExactZ': 'X'}\n",
    "\n",
    "# dictionary of algorithm names and functions\n",
    "color_name_dict = {'DP': 'purple',  \n",
    "                    'ExactZ': 'blue'}"
   ]
  },
  {
   "cell_type": "code",
   "execution_count": 6,
   "id": "cellular-ethernet",
   "metadata": {},
   "outputs": [
    {
     "data": {
      "image/png": "[encoded data removed]",
      "text/plain": [
       "<Figure size 576x432 with 1 Axes>"
      ]
     },
     "metadata": {
      "needs_background": "light"
     },
     "output_type": "display_data"
    }
   ],
   "source": [
    "plt.figure(figsize = (8,6))\n",
    "\n",
    "ax = plt.subplot(111)\n",
    "\n",
    "# Hide the right and top spines\n",
    "ax.spines['right'].set_visible(False)\n",
    "ax.spines['top'].set_visible(False)\n",
    "\n",
    "for name, v_ratio in v_ratio_list_name_dict.items():\n",
    "    if name == 'Brute':\n",
    "        nums = [8, 16]\n",
    "        \n",
    "        plt.plot(nums, v_ratio, marker = marker_name_dict[name], color = color_name_dict[name], linestyle = '-',  markersize = 15, label = r'%s' % name)\n",
    "    else:\n",
    "        nums = nelem_list\n",
    "        plt.plot(nums, v_ratio, marker = marker_name_dict[name], color = color_name_dict[name], linestyle = '-', label = r'%s' % name, markersize = 15)\n",
    "\n",
    "plt.grid(alpha = 0.45)\n",
    "plt.xlabel(r'$N$', fontsize = 24)\n",
    "plt.xscale('log')\n",
    "plt.xticks(fontsize = 22)\n",
    "plt.yticks(fontsize = 22)\n",
    "plt.ylabel(r'$V/V_{exact}$', fontsize = 24)\n",
    "plt.legend(loc = 'best', fontsize = 13)\n",
    "\n",
    "plt.ylim([.5, 1.15])\n",
    "\n",
    "# plt.savefig('/Users/mobolajiwilliams/Dropbox/0Tex_Files_Mac/2020_largeN_knapsack_problem/LaTeX_JStatPhys/vratio_vs_num_easykp_new.png', dpi = 100, bbox_inches='tight' )\n",
    "\n",
    "plt.show()"
   ]
  },
  {
   "cell_type": "markdown",
   "id": "wireless-thursday",
   "metadata": {},
   "source": [
    "### Time vs $N$"
   ]
  },
  {
   "cell_type": "code",
   "execution_count": 7,
   "id": "1c630665",
   "metadata": {},
   "outputs": [
    {
     "data": {
      "image/png": "[encoded data removed]",
      "text/plain": [
       "<Figure size 576x432 with 1 Axes>"
      ]
     },
     "metadata": {
      "needs_background": "light"
     },
     "output_type": "display_data"
    }
   ],
   "source": [
    "plt.figure(figsize = (8,6))\n",
    "\n",
    "ax = plt.subplot(111)\n",
    "\n",
    "# Hide the right and top spines\n",
    "ax.spines['right'].set_visible(False)\n",
    "ax.spines['top'].set_visible(False)\n",
    "\n",
    "for name, time_ in time_list_name_dict.items():\n",
    "    if name == 'Brute':\n",
    "        nums = [8, 16]\n",
    "        \n",
    "        plt.loglog(nums, np.array(time_), marker_name_dict[name], color = color_name_dict[name],linestyle = '-',  markersize = 15, label = r'%s' % name)\n",
    "    else:\n",
    "        nums = nelem_list\n",
    "        plt.loglog(nums, np.array(time_), marker_name_dict[name], color = color_name_dict[name],linestyle = '-', label = r'%s' % name, markersize = 15)\n",
    "\n",
    "\n",
    "plt.grid(alpha = 0.45)\n",
    "plt.xlabel(r'$N$', fontsize = 24)\n",
    "plt.xticks(fontsize = 22)\n",
    "plt.yticks(fontsize = 22)\n",
    "plt.ylabel(r'Time (sec)', fontsize = 24)\n",
    "plt.legend(loc = (.01,.6), fontsize = 13)\n",
    "\n",
    "# plt.savefig('/Users/mobolajiwilliams/Dropbox/0Tex_Files_Mac/2020_largeN_knapsack_problem/LaTeX_JStatPhys/time_vs_num_easykp_new.png', dpi = 100, bbox_inches='tight' )\n",
    "\n",
    "plt.show()"
   ]
  },
  {
   "cell_type": "markdown",
   "id": "sweet-gravity",
   "metadata": {},
   "source": [
    "### Rate vs Accuracy"
   ]
  },
  {
   "cell_type": "code",
   "execution_count": 8,
   "id": "64b0c674",
   "metadata": {},
   "outputs": [
    {
     "data": {
      "image/png": "[encoded data removed]",
      "text/plain": [
       "<Figure size 576x432 with 1 Axes>"
      ]
     },
     "metadata": {
      "needs_background": "light"
     },
     "output_type": "display_data"
    }
   ],
   "source": [
    "## accuracy-time scatter plot\n",
    "\n",
    "plt.figure(figsize = (8,6))\n",
    "\n",
    "ax = plt.subplot(111)\n",
    "\n",
    "for name, _ in v_ratio_list_name_dict.items():\n",
    "    v_ratio = v_ratio_list_name_dict[name][-1]\n",
    "    time_ = time_list_name_dict[name][-1]\n",
    "    if name == 'Brute':\n",
    "        continue\n",
    "    else:\n",
    "\n",
    "        plt.plot([v_ratio], [time_], marker_name_dict[name], color = color_name_dict[name], label = r'%s' % name, markersize = 18)\n",
    "\n",
    "\n",
    "# Hide the right and top spines\n",
    "ax.spines['right'].set_visible(False)\n",
    "ax.spines['top'].set_visible(False)\n",
    "\n",
    "\n",
    "plt.grid(alpha = 0.45)\n",
    "plt.xlabel(r'$V/V_{exact}$', fontsize = 24)\n",
    "plt.yscale('log')\n",
    "plt.xticks(fontsize = 22)\n",
    "plt.yticks(fontsize = 22)\n",
    "plt.ylabel(r'Time (sec)', fontsize = 24)\n",
    "plt.legend(loc ='best', fontsize = 13)\n",
    "\n",
    "# plt.savefig('/Users/mobolajiwilliams/Dropbox/0Tex_Files_Mac/2020_largeN_knapsack_problem/LaTeX_JStatPhys/time_vs_vratio_easykp_new.png', dpi = 100, bbox_inches='tight' )\n",
    "\n",
    "plt.show()"
   ]
  },
  {
   "cell_type": "code",
   "execution_count": null,
   "id": "7c784381",
   "metadata": {},
   "outputs": [],
   "source": []
  }
 ],
 "metadata": {
  "kernelspec": {
   "display_name": "Python 3 (ipykernel)",
   "language": "python",
   "name": "python3"
  },
  "language_info": {
   "codemirror_mode": {
    "name": "ipython",
    "version": 3
   },
   "file_extension": ".py",
   "mimetype": "text/x-python",
   "name": "python",
   "nbconvert_exporter": "python",
   "pygments_lexer": "ipython3",
   "version": "3.10.2"
  }
 },
 "nbformat": 4,
 "nbformat_minor": 5
}
