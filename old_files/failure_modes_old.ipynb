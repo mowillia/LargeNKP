{
 "cells": [
  {
   "cell_type": "code",
   "execution_count": 1,
   "id": "affected-gambling",
   "metadata": {},
   "outputs": [],
   "source": [
    "from largeN_algo import zero_one_algorithm\n",
    "from classic_algos import knapsack01_dpV\n",
    "import numpy as np\n",
    "import time"
   ]
  },
  {
   "cell_type": "markdown",
   "id": "binary-baseball",
   "metadata": {},
   "source": [
    "## Failure Modes for Large N algorithm\n",
    "\n",
    "In this notebook we outline the various ways the large $N$ algorithm can fail. To be clear, the algorithm sometimes succeeds in the following cases, but if one finds that the algorithm is failing to converge to a solution (namely, that we can't find a real $z_0 \\in (0, 1)$ that leads to the weight constraint being satisfied), then the reason is likely due to at least one of the following. \n",
    "\n",
    "- **Low $N$:** Our algorithm is primarily a large $N$ algorithm, so as $N$ gets to be on $O(1)$ the algorithm typically performs worse. \n",
    "- **$|v_i-w_i| \\ll v_i, w_i$ for all $i$**: The algorithm doesn't perform well when differences in values and weights for objects are much less than the values or weights themselves. This seems to be because the algorithm thinks such an instance is sufficiently close to the degenerate case of $v_i = w_i$, that there is no unique solution. \n",
    "- **Large $v_i$**: Because the algorithm requires the calculation of quantities like $e^{v_i/T}$, if $v_{i}$ is very large then, depending on the compuational software, the algorithm cannot precisely track the high exponential values. \n",
    "- **Low temperature**: Same reason as that stated above. Although the algorithm should converge to the thermodynamic minimum as $T\\to 0$, for some numerical implementations this limit leads to an overflow error. \n",
    "\n",
    "----"
   ]
  },
  {
   "cell_type": "markdown",
   "id": "corresponding-premises",
   "metadata": {},
   "source": [
    "### Low $N$"
   ]
  },
  {
   "cell_type": "code",
   "execution_count": 27,
   "id": "eligible-saturn",
   "metadata": {},
   "outputs": [
    {
     "name": "stdout",
     "output_type": "stream",
     "text": [
      "Weight limit: 78\n"
     ]
    }
   ],
   "source": [
    "## Weight and Value Parameters; randomly selected\n",
    "\n",
    "# set seed\n",
    "np.random.seed(42) \n",
    "\n",
    "# number of objects\n",
    "nelems = 10\n",
    "\n",
    "# Randomly choose the value and weight of each object\n",
    "weight_vec = np.random.randint(10,20,nelems)\n",
    "value_vec = np.random.randint(10,20,nelems)\n",
    "\n",
    "# Defining Weight limit as the average \n",
    "# of the weights of randomly chosen objects\n",
    "empt_list = []\n",
    "for k in range(100):\n",
    "    empt_list.append(np.dot(np.random.randint(0,2,nelems), weight_vec))\n",
    "Wlimit = int(np.mean(empt_list))\n",
    "print('Weight limit: %i' % Wlimit)"
   ]
  },
  {
   "cell_type": "code",
   "execution_count": 28,
   "id": "provincial-monkey",
   "metadata": {},
   "outputs": [
    {
     "name": "stdout",
     "output_type": "stream",
     "text": [
      "Large N Results\n",
      "\n",
      "Total Value: 142.000\n",
      "Total Weight: 154.000\n",
      "Elapsed time: 0.0021 sec\n",
      "---------\n",
      "\n",
      "Dynamical Programming Results\n",
      "\n",
      "Total Value: 79.000\n",
      "Total Weight: 78.000\n",
      "Elapsed time: 0.0007 sec\n",
      "---------\n",
      "\n"
     ]
    }
   ],
   "source": [
    "# dictionary of algorithm names and functions\n",
    "algo_name_dict = {'Large N': zero_one_algorithm,\n",
    "                  'Dynamical Programming': knapsack01_dpV}\n",
    "\n",
    "# showing accuract and weight \n",
    "for name, func in algo_name_dict.items():\n",
    "    start_clock = time.time()\n",
    "    soln = func(weights = weight_vec, values = value_vec, limit = Wlimit)\n",
    "    print('%s Results' % name)\n",
    "    print()\n",
    "    print('Total Value: %.3f' % (np.dot(soln, value_vec)))\n",
    "    print('Total Weight: %.3f' % (np.dot(soln, weight_vec)))\n",
    "    print('Elapsed time: %.4f sec' % (time.time()-start_clock))\n",
    "    print('---------\\n')"
   ]
  },
  {
   "cell_type": "markdown",
   "id": "complete-variable",
   "metadata": {},
   "source": [
    "**Failure:** Does not respect weight limit and consequently over estimates optimal total value. "
   ]
  },
  {
   "cell_type": "markdown",
   "id": "precious-wireless",
   "metadata": {},
   "source": [
    "-----------"
   ]
  },
  {
   "cell_type": "markdown",
   "id": "above-gateway",
   "metadata": {},
   "source": [
    "### $|v_i-w_i| \\ll v_i, w_i$"
   ]
  },
  {
   "cell_type": "code",
   "execution_count": 29,
   "id": "banned-librarian",
   "metadata": {},
   "outputs": [
    {
     "name": "stdout",
     "output_type": "stream",
     "text": [
      "Weight limit: 78\n"
     ]
    }
   ],
   "source": [
    "## Weight and Value Parameters; randomly selected\n",
    "\n",
    "# set seed\n",
    "np.random.seed(42) \n",
    "\n",
    "# number of objects\n",
    "nelems = 10\n",
    "\n",
    "# Randomly choose the weight of each object\n",
    "weight_vec = np.random.randint(10,20,nelems)\n",
    "value_vec = weight_vec+1\n",
    "\n",
    "# Defining Weight limit as the average \n",
    "# of the weights of randomly chosen objects\n",
    "empt_list = []\n",
    "for k in range(100):\n",
    "    empt_list.append(np.dot(np.random.randint(0,2,nelems), weight_vec))\n",
    "Wlimit = int(np.mean(empt_list))\n",
    "print('Weight limit: %i' % Wlimit)"
   ]
  },
  {
   "cell_type": "code",
   "execution_count": 30,
   "id": "moral-timeline",
   "metadata": {},
   "outputs": [
    {
     "name": "stdout",
     "output_type": "stream",
     "text": [
      "Large N Results\n",
      "\n",
      "Total Value: 164.000\n",
      "Total Weight: 154.000\n",
      "Elapsed time: 0.0016 sec\n",
      "---------\n",
      "\n",
      "Dynamical Programming Results\n",
      "\n",
      "Total Value: 83.000\n",
      "Total Weight: 78.000\n",
      "Elapsed time: 0.0007 sec\n",
      "---------\n",
      "\n"
     ]
    }
   ],
   "source": [
    "# dictionary of algorithm names and functions\n",
    "algo_name_dict = {'Large N': zero_one_algorithm,\n",
    "                  'Dynamical Programming': knapsack01_dpV}\n",
    "\n",
    "# showing accuract and weight \n",
    "for name, func in algo_name_dict.items():\n",
    "    start_clock = time.time()\n",
    "    soln = func(weights = weight_vec, values = value_vec, limit = Wlimit)\n",
    "    print('%s Results' % name)\n",
    "    print()\n",
    "    print('Total Value: %.3f' % (np.dot(soln, value_vec)))\n",
    "    print('Total Weight: %.3f' % (np.dot(soln, weight_vec)))\n",
    "    print('Elapsed time: %.4f sec' % (time.time()-start_clock))\n",
    "    print('---------\\n')"
   ]
  },
  {
   "cell_type": "markdown",
   "id": "ordinary-guatemala",
   "metadata": {},
   "source": [
    "**Failure:** Does not respect weight limit and consequently over estimates optimal total value. "
   ]
  },
  {
   "cell_type": "markdown",
   "id": "impressed-prerequisite",
   "metadata": {},
   "source": [
    "------------"
   ]
  },
  {
   "cell_type": "markdown",
   "id": "normal-damage",
   "metadata": {},
   "source": [
    "### Large $v_i$"
   ]
  },
  {
   "cell_type": "code",
   "execution_count": 31,
   "id": "physical-drama",
   "metadata": {},
   "outputs": [
    {
     "name": "stdout",
     "output_type": "stream",
     "text": [
      "Weight limit: 745\n"
     ]
    }
   ],
   "source": [
    "## Weight and Value Parameters; randomly selected\n",
    "\n",
    "# set seed\n",
    "np.random.seed(42) \n",
    "\n",
    "# number of objects\n",
    "nelems = 100\n",
    "\n",
    "# Randomly choose the weight of each object\n",
    "weight_vec = np.random.randint(10,20,nelems)\n",
    "value_vec = np.random.randint(100,200,nelems) # very large values\n",
    "\n",
    "# Defining Weight limit as the average \n",
    "# of the weights of randomly chosen objects\n",
    "empt_list = []\n",
    "for k in range(100):\n",
    "    empt_list.append(np.dot(np.random.randint(0,2,nelems), weight_vec))\n",
    "Wlimit = int(np.mean(empt_list))\n",
    "print('Weight limit: %i' % Wlimit)"
   ]
  },
  {
   "cell_type": "code",
   "execution_count": 32,
   "id": "authentic-norfolk",
   "metadata": {},
   "outputs": [
    {
     "name": "stdout",
     "output_type": "stream",
     "text": [
      "Large N Results\n",
      "\n",
      "Total Value: 14923.000\n",
      "Total Weight: 1491.000\n",
      "Elapsed time: 0.0020 sec\n",
      "---------\n",
      "\n",
      "Dynamical Programming Results\n",
      "\n",
      "Total Value: 9006.000\n",
      "Total Weight: 745.000\n",
      "Elapsed time: 0.0486 sec\n",
      "---------\n",
      "\n"
     ]
    }
   ],
   "source": [
    "# dictionary of algorithm names and functions\n",
    "algo_name_dict = {'Large N': zero_one_algorithm,\n",
    "                  'Dynamical Programming': knapsack01_dpV}\n",
    "\n",
    "# showing accuract and weight \n",
    "for name, func in algo_name_dict.items():\n",
    "    start_clock = time.time()\n",
    "    soln = func(weights = weight_vec, values = value_vec, limit = Wlimit)\n",
    "    print('%s Results' % name)\n",
    "    print()\n",
    "    print('Total Value: %.3f' % (np.dot(soln, value_vec)))\n",
    "    print('Total Weight: %.3f' % (np.dot(soln, weight_vec)))\n",
    "    print('Elapsed time: %.4f sec' % (time.time()-start_clock))\n",
    "    print('---------\\n')"
   ]
  },
  {
   "cell_type": "markdown",
   "id": "documentary-necklace",
   "metadata": {},
   "source": [
    "**Failure:** Does not respect weight limit and consequently over estimates optimal total value. "
   ]
  },
  {
   "cell_type": "markdown",
   "id": "olive-pacific",
   "metadata": {},
   "source": [
    "---------"
   ]
  },
  {
   "cell_type": "markdown",
   "id": "monetary-trinity",
   "metadata": {},
   "source": [
    "### Low Temperature"
   ]
  },
  {
   "cell_type": "code",
   "execution_count": 33,
   "id": "removable-sixth",
   "metadata": {},
   "outputs": [
    {
     "name": "stdout",
     "output_type": "stream",
     "text": [
      "Weight limit: 744\n"
     ]
    }
   ],
   "source": [
    "## Weight and Value Parameters; randomly selected\n",
    "\n",
    "# set seed\n",
    "np.random.seed(42) \n",
    "\n",
    "# number of objects\n",
    "nelems = 100\n",
    "\n",
    "# Randomly choose the weight of each object\n",
    "weight_vec = np.random.randint(10,20,nelems)\n",
    "value_vec = np.random.randint(10,20,nelems) # very large values\n",
    "\n",
    "# Defining Weight limit as the average \n",
    "# of the weights of randomly chosen objects\n",
    "empt_list = []\n",
    "for k in range(100):\n",
    "    empt_list.append(np.dot(np.random.randint(0,2,nelems), weight_vec))\n",
    "Wlimit = int(np.mean(empt_list))\n",
    "print('Weight limit: %i' % Wlimit)"
   ]
  },
  {
   "cell_type": "code",
   "execution_count": 34,
   "id": "apparent-screening",
   "metadata": {},
   "outputs": [
    {
     "name": "stdout",
     "output_type": "stream",
     "text": [
      "Large N Results\n",
      "\n",
      "Total Value: 1421.000\n",
      "Total Weight: 1491.000\n",
      "Elapsed time: 0.0016 sec\n",
      "---------\n",
      "\n",
      "Dynamical Programming Results\n",
      "\n",
      "Total Value: 881.000\n",
      "Total Weight: 744.000\n",
      "Elapsed time: 0.0492 sec\n",
      "---------\n",
      "\n"
     ]
    }
   ],
   "source": [
    "# dictionary of algorithm names and functions\n",
    "algo_name_dict = {'Large N': zero_one_algorithm,\n",
    "                  'Dynamical Programming': knapsack01_dpV}\n",
    "\n",
    "# showing accuract and weight \n",
    "for name, func in algo_name_dict.items():\n",
    "    start_clock = time.time()\n",
    "    if name == 'Large N':\n",
    "        soln = func(weights = weight_vec, values = value_vec, limit = Wlimit, T= 0.2)\n",
    "    else:\n",
    "        soln = func(weights = weight_vec, values = value_vec, limit = Wlimit)\n",
    "    print('%s Results' % name)\n",
    "    print()\n",
    "    print('Total Value: %.3f' % (np.dot(soln, value_vec)))\n",
    "    print('Total Weight: %.3f' % (np.dot(soln, weight_vec)))\n",
    "    print('Elapsed time: %.4f sec' % (time.time()-start_clock))\n",
    "    print('---------\\n')"
   ]
  },
  {
   "cell_type": "markdown",
   "id": "banned-oakland",
   "metadata": {},
   "source": [
    "**Failure:** Does not respect weight limit and consequently over estimates optimal total value. "
   ]
  },
  {
   "cell_type": "code",
   "execution_count": null,
   "id": "cathedral-event",
   "metadata": {},
   "outputs": [],
   "source": []
  }
 ],
 "metadata": {
  "kernelspec": {
   "display_name": "Python 3",
   "language": "python",
   "name": "python3"
  },
  "language_info": {
   "codemirror_mode": {
    "name": "ipython",
    "version": 3
   },
   "file_extension": ".py",
   "mimetype": "text/x-python",
   "name": "python",
   "nbconvert_exporter": "python",
   "pygments_lexer": "ipython3",
   "version": "3.8.5"
  }
 },
 "nbformat": 4,
 "nbformat_minor": 5
}
