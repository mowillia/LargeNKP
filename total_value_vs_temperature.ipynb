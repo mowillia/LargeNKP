{
 "cells": [
  {
   "cell_type": "code",
   "execution_count": 1,
   "id": "affected-gambling",
   "metadata": {},
   "outputs": [],
   "source": [
    "from largeN_algo import plot_potential_zero_one, zero_one_algorithm\n",
    "from classic_algos import knapsack01_dpV\n",
    "import matplotlib.pyplot as plt\n",
    "import numpy as np\n",
    "%matplotlib inline\n",
    "\n",
    "### Plot Example\n",
    "# plt.rcParams.update({\n",
    "#     \"text.usetex\": True,\n",
    "#     \"font.family\": \"serif\",\n",
    "#     \"font.serif\": [\"Computer Modern Roman\"],\n",
    "# })"
   ]
  },
  {
   "cell_type": "markdown",
   "id": "binary-baseball",
   "metadata": {},
   "source": [
    "## Value of objects as function of temperature\n",
    "\n",
    "We plot  \n",
    "\n",
    "\\begin{align}\n",
    "V = \\sum_{\\ell=1}^N v_{\\ell} X_{\\ell}, \n",
    "\\end{align}\n",
    "\n",
    "as a function of temperature, where \n",
    "\n",
    "\\begin{equation}\n",
    "X_{\\ell} = \\begin{cases} 1 & \\text{if $\\langle x_{\\ell} \\rangle>1/2$,} \\\\[.75em] 0 & \\text{otherwise.}\\end{cases}\n",
    "\\end{equation}\n",
    "\n",
    "and where\n",
    "\n",
    "\\begin{equation}\n",
    "\\langle x_{\\ell} \\rangle  = \\frac{ e^{\\beta v_\\ell}}{z_0^{-w_\\ell} +e^{\\beta v_\\ell}},\n",
    "\\label{eq:xellsoln}\n",
    "\\end{equation}\n",
    "\n",
    "with $z_0$ defined as the value of $z$ at which $F_N(z; \\{\\beta v_k\\}, \\{w_k\\})$ is at a local minimum. \n",
    "\n",
    "----"
   ]
  },
  {
   "cell_type": "markdown",
   "id": "corresponding-premises",
   "metadata": {},
   "source": [
    "#### Weight, Value, and Limit"
   ]
  },
  {
   "cell_type": "code",
   "execution_count": 2,
   "id": "interested-lambda",
   "metadata": {},
   "outputs": [],
   "source": [
    "## Weight and Value Parameters; randomly selected\n",
    "\n",
    "# set seed\n",
    "np.random.seed(42) \n",
    "\n",
    "# number of objects\n",
    "nelems = 100\n",
    "\n",
    "# Randomly choose the value and weight of each object\n",
    "weight_vec = np.random.randint(1,10,nelems)\n",
    "value_vec = np.random.randint(1,10,nelems)\n",
    "\n",
    "# Defining Weight limit as the average \n",
    "# of the weights of randomly chosen objects\n",
    "empt_list = []\n",
    "for k in range(100):\n",
    "    empt_list.append(np.dot(np.random.randint(0,2,nelems), weight_vec))\n",
    "Wlimit = int(np.mean(empt_list))"
   ]
  },
  {
   "cell_type": "markdown",
   "id": "capital-praise",
   "metadata": {},
   "source": [
    "#### Computing solution for each temperature"
   ]
  },
  {
   "cell_type": "code",
   "execution_count": 3,
   "id": "found-mailing",
   "metadata": {},
   "outputs": [
    {
     "name": "stderr",
     "output_type": "stream",
     "text": [
      "/Users/mobolajiwilliams/opt/miniconda3/lib/python3.8/site-packages/scipy/optimize/minpack.py:175: RuntimeWarning: The iteration is not making good progress, as measured by the \n",
      "  improvement from the last ten iterations.\n",
      "  warnings.warn(msg, RuntimeWarning)\n"
     ]
    }
   ],
   "source": [
    "Tvals = np.linspace(.05, 5.0, 300)\n",
    "total_value_list = list()\n",
    "total_weight_list = list()\n",
    "\n",
    "for Tval in Tvals: \n",
    "    soln = zero_one_algorithm(weights = weight_vec, values = value_vec, limit = Wlimit, T = Tval)\n",
    "    total_value_list.append(np.dot(soln, value_vec))\n",
    "    total_weight_list.append(np.dot(soln, weight_vec))"
   ]
  },
  {
   "cell_type": "markdown",
   "id": "artificial-semiconductor",
   "metadata": {},
   "source": [
    "#### Plotting Value"
   ]
  },
  {
   "cell_type": "code",
   "execution_count": 6,
   "id": "knowing-hormone",
   "metadata": {},
   "outputs": [
    {
     "data": {
      "image/png": "[encoded data removed]",
      "text/plain": [
       "<Figure size 432x360 with 1 Axes>"
      ]
     },
     "metadata": {
      "needs_background": "light"
     },
     "output_type": "display_data"
    }
   ],
   "source": [
    "# figure\n",
    "plt.figure(figsize = (6, 5))\n",
    "ax = plt.subplot(111)\n",
    "\n",
    "#plots of values\n",
    "plt.plot(Tvals, total_value_list, color = 'red', label = r'Large $N$ Value', linewidth = 2.5)\n",
    "soln_dp = knapsack01_dpV(weights = weight_vec, values = value_vec, limit = Wlimit)\n",
    "plt.axhline(y = np.dot(soln_dp, value_vec), color = 'dodgerblue', linestyle = '--', label = 'Exact Optimal Value', linewidth = 2.5)\n",
    "    \n",
    "# plots of weights\n",
    "plt.plot(Tvals, total_weight_list, color = 'darkorange', linestyle = 'dotted', label = r'Large $N$ Weight', linewidth = 2.5)\n",
    "soln_dp = knapsack01_dpV(weights = weight_vec, values = value_vec, limit = Wlimit)\n",
    "plt.axhline(y = Wlimit, color = 'forestgreen', linestyle = 'dashdot', label = 'Weight Limit', linewidth = 2.5)    \n",
    "    \n",
    "# plot formatting\n",
    "plt.xlabel(r'$T$', fontsize = 20, x = 1.02)\n",
    "plt.ylabel(r'', fontsize = 18, rotation = 0,y = 1.05)\n",
    "ax.spines['right'].set_visible(False)\n",
    "ax.spines['top'].set_visible(False)\n",
    "plt.xticks(fontsize = 13)\n",
    "plt.yticks(fontsize = 13)\n",
    "plt.ylim([150, 500])\n",
    "plt.xlim([.1, 3.5])\n",
    "plt.legend(loc = 'best', fontsize = 13)\n",
    "plt.grid(alpha = 0.5)\n",
    "\n",
    "plt.savefig('/Users/mobolajiwilliams/Dropbox/0Tex_Files_Mac/2020_largeN_knapsack_problem/arxiv_submission/value_vs_temp.png', bbox_inches = 'tight', format='png')\n",
    "\n",
    "plt.show()\n"
   ]
  },
  {
   "cell_type": "code",
   "execution_count": null,
   "id": "intensive-eligibility",
   "metadata": {},
   "outputs": [],
   "source": []
  }
 ],
 "metadata": {
  "kernelspec": {
   "display_name": "Python 3",
   "language": "python",
   "name": "python3"
  },
  "language_info": {
   "codemirror_mode": {
    "name": "ipython",
    "version": 3
   },
   "file_extension": ".py",
   "mimetype": "text/x-python",
   "name": "python",
   "nbconvert_exporter": "python",
   "pygments_lexer": "ipython3",
   "version": "3.8.5"
  }
 },
 "nbformat": 4,
 "nbformat_minor": 5
}
