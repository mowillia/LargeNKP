{
 "cells": [
  {
   "cell_type": "code",
   "execution_count": 116,
   "id": "58c2ae19",
   "metadata": {},
   "outputs": [],
   "source": [
    "import mpmath as mp\n",
    "mp.dps = 30; mp.pretty = True\n",
    "from mpmath import findroot as findroot_mp"
   ]
  },
  {
   "cell_type": "code",
   "execution_count": 9,
   "id": "058b9197",
   "metadata": {},
   "outputs": [],
   "source": [
    "# defining instance\n",
    "import numpy as np\n",
    "from matplotlib import lines\n",
    "import matplotlib.pyplot as plt\n",
    "import copy\n",
    "import time\n",
    "from scipy.optimize import fsolve, fmin\n",
    "import math\n",
    "from itertools import combinations\n",
    "\n",
    "\n",
    "from KP import KnapsackProblem"
   ]
  },
  {
   "cell_type": "markdown",
   "id": "e7fde737",
   "metadata": {},
   "source": [
    "### Root Finding Algorithms and Computing $\\gamma$\n",
    "\n",
    "July 20, 2022\n",
    "\n",
    "Review some root finding algorithms for the purpose of computing $z_0$ and $\\lim_{\\beta \\to \\infty} \\beta^{-1} \\ln z_0$ for the Knapsack problem."
   ]
  },
  {
   "cell_type": "code",
   "execution_count": 3,
   "id": "d6248cf0",
   "metadata": {},
   "outputs": [],
   "source": [
    "items = (\n",
    "    (\"map\", 9, 150), (\"compass\", 13, 35), (\"water\", 153, 200), (\"sandwich\", 50, 160),\n",
    "    (\"glucose\", 15, 60), (\"tin\", 68, 45), (\"banana\", 27, 60), (\"apple\", 39, 40),\n",
    "    (\"cheese\", 23, 30), (\"beer\", 52, 10), (\"suntan cream\", 11, 70), (\"camera\", 32, 30),\n",
    "    (\"t-shirt\", 24, 15), (\"trousers\", 48, 10), (\"umbrella\", 73, 40),\n",
    "    (\"waterproof trousers\", 42, 70), (\"waterproof overclothes\", 43, 75),\n",
    "    (\"note-case\", 22, 80), (\"sunglasses\", 7, 20), (\"towel\", 18, 12),\n",
    "    (\"socks\", 4, 50), (\"book\", 30, 10),\n",
    "    )\n",
    "\n",
    "factor = 1.0\n",
    "\n",
    "# defining weight and value vectors and weight limit\n",
    "weight_vec = np.array([item[1]/factor for item in items])\n",
    "value_vec = np.array([item[2]/factor for item in items])\n",
    "Wlimit = 400/factor\n"
   ]
  },
  {
   "cell_type": "code",
   "execution_count": 8,
   "id": "ccc67348",
   "metadata": {},
   "outputs": [
    {
     "data": {
      "text/plain": [
       "mpf('283.33651395650634')"
      ]
     },
     "execution_count": 8,
     "metadata": {},
     "output_type": "execute_result"
    }
   ],
   "source": [
    "z0, T0 = 0.5, 0.5\n",
    "\n",
    "# mp definition of exponential\n",
    "mp_exp_array = np.frompyfunc(mp.exp, 1, 1)\n",
    "\n",
    "# constraint function\n",
    "constraint = lambda z, T,  weights, values, limit: -limit+ z/(1-z) + np.sum(weights/(mp_exp_array(-values/T)*mp_exp_array(-weights*mp.log(z)) + 1))\n",
    "\n",
    "# testing constraint function\n",
    "constraint(z0, T0, weight_vec, value_vec, Wlimit)"
   ]
  },
  {
   "cell_type": "code",
   "execution_count": 152,
   "id": "d5dbb47a",
   "metadata": {},
   "outputs": [],
   "source": [
    "# constraint function\n",
    "deriv_constraint = lambda z, T,  weights, values, limit: 1/(1-z)**2 + (1/z)*np.sum(weights**2*mp_exp_array(-values/T)*mp_exp_array(-weights*mp.log(z))/(mp_exp_array(-values/T)*mp_exp_array(-weights*mp.log(z)) + 1)**2)\n"
   ]
  },
  {
   "cell_type": "code",
   "execution_count": 169,
   "id": "6d4c5f99",
   "metadata": {},
   "outputs": [],
   "source": [
    "z0 = 0.01"
   ]
  },
  {
   "cell_type": "code",
   "execution_count": 170,
   "id": "97d826f7",
   "metadata": {},
   "outputs": [
    {
     "data": {
      "text/plain": [
       "mpf('-268.64579280063077')"
      ]
     },
     "execution_count": 170,
     "metadata": {},
     "output_type": "execute_result"
    }
   ],
   "source": [
    "constraint(z0, T0, weight_vec, value_vec, Wlimit)"
   ]
  },
  {
   "cell_type": "code",
   "execution_count": 171,
   "id": "be1d1bf6",
   "metadata": {},
   "outputs": [
    {
     "data": {
      "text/plain": [
       "mpf('930.1977783375338')"
      ]
     },
     "execution_count": 171,
     "metadata": {},
     "output_type": "execute_result"
    }
   ],
   "source": [
    "deriv_constraint(z0, T0, weight_vec, value_vec, Wlimit)"
   ]
  },
  {
   "cell_type": "markdown",
   "id": "2aa5abaa",
   "metadata": {},
   "source": [
    "#### Root Finding Through Newton's "
   ]
  },
  {
   "cell_type": "code",
   "execution_count": 190,
   "id": "cbceb0fd",
   "metadata": {},
   "outputs": [],
   "source": [
    "def find_root_newtons(func, deriv_func, verbose = False, etol = 1e-6, z=1e-9, **args):\n",
    "\n",
    "    \"\"\"\n",
    "    Finds the root of a function in the domain (0, 1) by \n",
    "    the Newtons method\n",
    "\n",
    "    Parameters\n",
    "    ----------\n",
    "    func : function\n",
    "        Function for which we are seeking the root\n",
    "        \n",
    "    num_powers : int\n",
    "        Number of powers of 10 to include in final answer\n",
    "\n",
    "    Returns\n",
    "    ----------\n",
    "    z : float\n",
    "        Value of critical point\n",
    "\n",
    "    error : float \n",
    "        How far function is from zero at this critical point\n",
    "\n",
    "    \"\"\"        \n",
    "    \n",
    "    error = np.abs(func(z, **args).real)\n",
    "    print(z)\n",
    "    \n",
    "    iter_ = 0\n",
    "    while error > etol:\n",
    "        h = func(z, **args).real/(deriv_func(z, **args).real)        \n",
    "        z = z - h\n",
    "        if verbose:\n",
    "            print(z)\n",
    "        error = np.abs(func(z, **args).real)\n",
    "        iter_+=1\n",
    "        if iter_ == 100:\n",
    "            print('Method is failing converge; Breaking')\n",
    "            break\n",
    "\n",
    "    return z, error  "
   ]
  },
  {
   "cell_type": "markdown",
   "id": "57d291c9",
   "metadata": {},
   "source": [
    "#### Root Finding Through Bijection"
   ]
  },
  {
   "cell_type": "code",
   "execution_count": 55,
   "id": "b900c6cf",
   "metadata": {},
   "outputs": [],
   "source": [
    "def find_root_bijection(func, num_bijections = 50, **args):\n",
    "\n",
    "    \"\"\"\n",
    "    Finds the root of a function in the domain (0, 1) by \n",
    "    the bijection method\n",
    "\n",
    "    Parameters\n",
    "    ----------\n",
    "    func : function\n",
    "        Function for which we are seeking the root\n",
    "        \n",
    "    num_powers : int\n",
    "        Number of powers of 10 to include in final answer\n",
    "\n",
    "    Returns\n",
    "    ----------\n",
    "    fin_z : float\n",
    "        Value of critical point\n",
    "\n",
    "    error : float \n",
    "        How far function is from zero at this critical point\n",
    "\n",
    "    \"\"\"        \n",
    "    \n",
    "    a = 1e-9\n",
    "    b = 1-1e-9\n",
    "    c = (a+b)/2\n",
    "\n",
    "    for k in range(num_bijections):\n",
    "        f_a = func(a, **args).real\n",
    "        f_b = func(b, **args).real\n",
    "        f_c = func(c, **args).real\n",
    "\n",
    "        if np.sign(f_a) == -np.sign(f_c):\n",
    "            b = c\n",
    "            c = (a+b)/2\n",
    "\n",
    "        elif np.sign(f_b) == -np.sign(f_c):  \n",
    "            a = c\n",
    "            c = (a+b)/2\n",
    "\n",
    "    fin_z = c\n",
    "    error = func(c, **args).real\n",
    "\n",
    "    return fin_z, error  "
   ]
  },
  {
   "cell_type": "markdown",
   "id": "6105f98b",
   "metadata": {},
   "source": [
    "#### Root Finding through False Position"
   ]
  },
  {
   "cell_type": "code",
   "execution_count": 78,
   "id": "50b7555c",
   "metadata": {},
   "outputs": [],
   "source": [
    "def find_root_falseposition(func, num_bijections = 50, **args):\n",
    "\n",
    "    \"\"\"\n",
    "    Finds the root of a function in the domain (0, 1) by \n",
    "    the false position method\n",
    "\n",
    "    Parameters\n",
    "    ----------\n",
    "    func : function\n",
    "        Function for which we are seeking the root\n",
    "        \n",
    "    num_powers : int\n",
    "        Number of powers of 10 to include in final answer\n",
    "\n",
    "    Returns\n",
    "    ----------\n",
    "    fin_z : float\n",
    "        Value of critical point\n",
    "\n",
    "    error : float \n",
    "        How far function is from zero at this critical point\n",
    "\n",
    "    \"\"\"        \n",
    "    \n",
    "    a = 1e-9\n",
    "    b = 1-1e-9\n",
    "    f_a = func(a, **args).real\n",
    "    f_b = func(b, **args).real\n",
    "    \n",
    "     \n",
    "    c = (a*f_b-b*f_a)/(f_b-f_a)\n",
    "    f_c = func(c, **args).real   \n",
    "\n",
    "    for k in range(num_bijections):\n",
    "        f_a = func(a, **args).real\n",
    "        f_b = func(b, **args).real\n",
    "        f_c = func(c, **args).real\n",
    "\n",
    "        if np.sign(f_a) == -np.sign(f_c):\n",
    "            b = c\n",
    "            f_b = func(b, **args).real\n",
    "            \n",
    "            c = (a*f_b-b*f_a)/(f_b-f_a)\n",
    "\n",
    "        elif np.sign(f_b) == -np.sign(f_c):  \n",
    "            a = c\n",
    "            f_a = func(a, **args).real\n",
    "            \n",
    "            c = (a*f_b-b*f_a)/(f_b-f_a)\n",
    "\n",
    "    fin_z = c\n",
    "    error = func(c, **args).real\n",
    "\n",
    "    return fin_z, error  "
   ]
  },
  {
   "cell_type": "markdown",
   "id": "f7b038d8",
   "metadata": {},
   "source": [
    "#### Root Finding Through Interpolation"
   ]
  },
  {
   "cell_type": "code",
   "execution_count": 56,
   "id": "d5edd47a",
   "metadata": {},
   "outputs": [],
   "source": [
    "def find_root(func, num_powers = 20, **args):\n",
    "    \n",
    "    \"\"\"\n",
    "    Finds the root of a function in the domain (0, 1) exclusive\n",
    "\n",
    "    Parameters\n",
    "    ----------\n",
    "    func : function\n",
    "        Function for which we are seeking the root\n",
    "        \n",
    "    num_powers : int\n",
    "        Number of powers of 10 to include in final answer\n",
    "\n",
    "    Returns\n",
    "    ----------\n",
    "    fin_z : float\n",
    "        Value of critical point\n",
    "\n",
    "    error : float \n",
    "        How far function is from zero at this critical point\n",
    "\n",
    "    \"\"\"    \n",
    "    \n",
    "    powers_10 = np.array([10**(-k) for k in range(num_powers+1)])\n",
    "    coeffs = np.zeros_like(powers_10)\n",
    "    coeffs[0] = 0\n",
    "\n",
    "    # defining $l_start\n",
    "    l_start = 1\n",
    "    \n",
    "    # determining initial order of current z\n",
    "    for i in range(1, num_powers+1):\n",
    "        coeffs[i] = 1\n",
    "        current_z =  np.dot(coeffs, powers_10)\n",
    "        current_sign = np.sign(func(current_z, **args).real)\n",
    "        # reset coeffs if sign doesn't change\n",
    "        if current_sign > 0:\n",
    "            coeffs[i] = 0\n",
    "        else:\n",
    "            l_start = i\n",
    "            break\n",
    "            \n",
    "    # determine subsequent coefficients\n",
    "    for k in range(l_start,num_powers+1):\n",
    "\n",
    "        # marching up\n",
    "        for j in range(10):\n",
    "\n",
    "            # try a value of the coefficient\n",
    "            coeffs[k] = j\n",
    "            new_z = np.dot(coeffs, powers_10)\n",
    "            new_sign = np.sign(func(new_z,**args).real)  \n",
    "\n",
    "            # if the sign has changed from the current sign, go to previous value\n",
    "            if new_sign > 0:\n",
    "                coeffs[k] = j-1 # set to the j value before the change\n",
    "                current_z = np.dot(coeffs, powers_10)\n",
    "                break\n",
    "\n",
    "    # final z value\n",
    "    fin_z = np.dot(coeffs, powers_10)    \n",
    "    \n",
    "    # error \n",
    "    error = func(fin_z, **args).real\n",
    "    \n",
    "    return fin_z, float(error)"
   ]
  },
  {
   "cell_type": "markdown",
   "id": "e98c4ac2",
   "metadata": {},
   "source": [
    "### Example: $f(x) = - \\cos(\\pi x)$"
   ]
  },
  {
   "cell_type": "code",
   "execution_count": 97,
   "id": "74880e67",
   "metadata": {},
   "outputs": [],
   "source": [
    "cosine_func = lambda x: -np.cos(np.pi*(1.02345678910)*x)\n",
    "\n",
    "deriv_cosine_func = lambda x: np.pi*(1.02345678910)*np.sin(np.pi*(1.02345678910)*x)"
   ]
  },
  {
   "cell_type": "code",
   "execution_count": 181,
   "id": "16849d5e",
   "metadata": {},
   "outputs": [
    {
     "name": "stdout",
     "output_type": "stream",
     "text": [
      "Root and error 0.48854041062123044 -6.123233995736766e-17\n",
      "Elapsed Time: 0.003138 secs\n"
     ]
    }
   ],
   "source": [
    "start_time = time.time()\n",
    "\n",
    "root, error = find_root(cosine_func)\n",
    "print('Root and error', root, error)\n",
    "print('Elapsed Time: {:2f} secs'.format( time.time()-start_time))"
   ]
  },
  {
   "cell_type": "code",
   "execution_count": 182,
   "id": "4f0f7e1c",
   "metadata": {},
   "outputs": [
    {
     "name": "stdout",
     "output_type": "stream",
     "text": [
      "Root and error 0.4885404106212309 1.4930798945178516e-15\n",
      "Elapsed Time: 0.002098 secs\n"
     ]
    }
   ],
   "source": [
    "start_time = time.time()\n",
    "\n",
    "root, error = find_root_bijection(cosine_func)\n",
    "print('Root and error', root, error)\n",
    "print('Elapsed Time: {:2f} secs'.format( time.time()-start_time))"
   ]
  },
  {
   "cell_type": "code",
   "execution_count": 183,
   "id": "5eeb71c0",
   "metadata": {},
   "outputs": [
    {
     "name": "stdout",
     "output_type": "stream",
     "text": [
      "Root and error 0.4885404106212305 1.6081226496766366e-16\n",
      "Elapsed Time: 0.001972 secs\n"
     ]
    }
   ],
   "source": [
    "start_time = time.time()\n",
    "\n",
    "root, error = find_root_falseposition(cosine_func)\n",
    "print('Root and error', root, error)\n",
    "print('Elapsed Time: {:2f} secs'.format( time.time()-start_time))"
   ]
  },
  {
   "cell_type": "code",
   "execution_count": 184,
   "id": "b158e895",
   "metadata": {},
   "outputs": [
    {
     "name": "stdout",
     "output_type": "stream",
     "text": [
      "0.2\n",
      "Root and error 0.4885404106212304 6.123233995736766e-17\n",
      "Elapsed Time: 0.000954 secs\n"
     ]
    }
   ],
   "source": [
    "start_time = time.time()\n",
    "\n",
    "root, error = find_root_newtons(cosine_func, deriv_cosine_func,  z=.2)\n",
    "print('Root and error', root, error)\n",
    "print('Elapsed Time: {:2f} secs'.format( time.time()-start_time))"
   ]
  },
  {
   "cell_type": "markdown",
   "id": "5d6b39d6",
   "metadata": {},
   "source": [
    "### Desired Case: Time Comparison"
   ]
  },
  {
   "cell_type": "code",
   "execution_count": 83,
   "id": "e9673129",
   "metadata": {},
   "outputs": [
    {
     "name": "stdout",
     "output_type": "stream",
     "text": [
      "Root and error 0.07454095467262639 -5.115907697472721e-13\n",
      "Elapsed Time: 0.080367 secs\n"
     ]
    }
   ],
   "source": [
    "start_time = time.time()\n",
    "\n",
    "root, error = find_root(constraint, T=T0, weights=weight_vec, values=value_vec, limit=Wlimit)\n",
    "print('Root and error', root, error)\n",
    "print('Elapsed Time: {:2f} secs'.format( time.time()-start_time))"
   ]
  },
  {
   "cell_type": "code",
   "execution_count": 82,
   "id": "f3924129",
   "metadata": {},
   "outputs": [
    {
     "name": "stdout",
     "output_type": "stream",
     "text": [
      "Root and error 0.07454095467262623 -3.80850906367414e-12\n",
      "Elapsed Time: 0.084775 secs\n"
     ]
    }
   ],
   "source": [
    "start_time = time.time()\n",
    "\n",
    "root, error = find_root_bijection(constraint, T=T0, weights=weight_vec, values=value_vec, limit=Wlimit)\n",
    "print('Root and error', root, error)\n",
    "print('Elapsed Time: {:2f} secs'.format( time.time()-start_time))"
   ]
  },
  {
   "cell_type": "code",
   "execution_count": 81,
   "id": "231fd766",
   "metadata": {},
   "outputs": [
    {
     "name": "stdout",
     "output_type": "stream",
     "text": [
      "Root and error 1.92679751664715e-5 -375.999980744446\n",
      "Elapsed Time: 0.103874 secs\n"
     ]
    }
   ],
   "source": [
    "start_time = time.time()\n",
    "\n",
    "root, error = find_root_falseposition(constraint, T=T0, weights=weight_vec, values=value_vec, limit=Wlimit)\n",
    "print('Root and error', root, error)\n",
    "print('Elapsed Time: {:2f} secs'.format( time.time()-start_time))"
   ]
  },
  {
   "cell_type": "code",
   "execution_count": 191,
   "id": "c56ba042",
   "metadata": {},
   "outputs": [
    {
     "name": "stdout",
     "output_type": "stream",
     "text": [
      "1e-09\n",
      "Method is failing converge; Breaking\n",
      "Root and error -1.10568132678751e+63406125634487632306126538719 402.0\n",
      "Elapsed Time: 0.258661 secs\n"
     ]
    }
   ],
   "source": [
    "start_time = time.time()\n",
    "\n",
    "root, error = find_root_newtons(constraint, deriv_constraint, T=T0, weights=weight_vec, values=value_vec, limit=Wlimit)\n",
    "print('Root and error', root, error)\n",
    "print('Elapsed Time: {:2f} secs'.format( time.time()-start_time))"
   ]
  }
 ],
 "metadata": {
  "kernelspec": {
   "display_name": "Python 3 (ipykernel)",
   "language": "python",
   "name": "python3"
  },
  "language_info": {
   "codemirror_mode": {
    "name": "ipython",
    "version": 3
   },
   "file_extension": ".py",
   "mimetype": "text/x-python",
   "name": "python",
   "nbconvert_exporter": "python",
   "pygments_lexer": "ipython3",
   "version": "3.10.2"
  }
 },
 "nbformat": 4,
 "nbformat_minor": 5
}
