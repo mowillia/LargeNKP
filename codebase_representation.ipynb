{
 "cells": [
  {
   "cell_type": "markdown",
   "id": "bb58913f",
   "metadata": {},
   "source": [
    "## Codebase Represenation\n",
    "\n"
   ]
  },
  {
   "cell_type": "code",
   "execution_count": 1,
   "id": "10b543c6",
   "metadata": {},
   "outputs": [],
   "source": [
    "# defining instance\n",
    "import numpy as np"
   ]
  },
  {
   "cell_type": "code",
   "execution_count": 11,
   "id": "ebb23a92",
   "metadata": {},
   "outputs": [],
   "source": [
    "import os"
   ]
  },
  {
   "cell_type": "markdown",
   "id": "41c76e9a",
   "metadata": {},
   "source": [
    "### Practice"
   ]
  },
  {
   "cell_type": "code",
   "execution_count": 13,
   "id": "cc4c5027",
   "metadata": {},
   "outputs": [
    {
     "data": {
      "text/plain": [
       "'/Users/mobolajiwilliams/Dropbox/0Tex_Files_Mac/ipython_personal/LargeNKP'"
      ]
     },
     "execution_count": 13,
     "metadata": {},
     "output_type": "execute_result"
    }
   ],
   "source": [
    "## getting current working directory as test\n",
    "os.getcwd()"
   ]
  },
  {
   "cell_type": "code",
   "execution_count": 27,
   "id": "f48b615c",
   "metadata": {},
   "outputs": [],
   "source": [
    "from os import listdir\n",
    "mypath = '/Users/mobolajiwilliams/Dropbox/0Tex_Files_Mac/ipython_personal/'\n",
    "from os.path import isfile, join\n",
    "onlyfiles = [f for f in listdir(mypath) if isfile(join(mypath, f))]"
   ]
  },
  {
   "cell_type": "code",
   "execution_count": 36,
   "id": "253cc8a2",
   "metadata": {},
   "outputs": [],
   "source": [
    "import os\n",
    "\n",
    "## practice get list of files from starting path\n",
    "def list_files(startpath):\n",
    "    for root, dirs, files in os.walk(startpath):\n",
    "        level = root.replace(startpath, '').count(os.sep)\n",
    "        indent = ' ' * 4 * (level)\n",
    "        print('{}{}/'.format(indent, os.path.basename(root)))\n",
    "        subindent = ' ' * 4 * (level + 1)\n",
    "        for f in files:\n",
    "            print('{}--{}'.format(subindent, f))"
   ]
  },
  {
   "cell_type": "code",
   "execution_count": 47,
   "id": "1e5abd55",
   "metadata": {},
   "outputs": [],
   "source": [
    "# defining starting directory\n",
    "str_dir = '/Users/mobolajiwilliams/Dropbox/0Tex_Files_Mac/ipython_personal'"
   ]
  },
  {
   "cell_type": "markdown",
   "id": "4b61b414",
   "metadata": {},
   "source": [
    "#### Main Code"
   ]
  },
  {
   "cell_type": "code",
   "execution_count": 78,
   "id": "3793d1ca",
   "metadata": {},
   "outputs": [
    {
     "data": {
      "text/plain": [
       "10921"
      ]
     },
     "execution_count": 78,
     "metadata": {},
     "output_type": "execute_result"
    }
   ],
   "source": [
    "## getting list of elements for directory\n",
    "\n",
    "verbose = False\n",
    "\n",
    "num_elements=0\n",
    "startpath = str_dir\n",
    "elements_list = list()\n",
    "for root, dirs, files in os.walk(startpath):\n",
    "    if verbose: print('Root:',root)\n",
    "    if root not in elements_list:\n",
    "        elements_list.append(root)\n",
    "        num_elements+=1\n",
    "    if verbose: \n",
    "        print('Level:',root.replace(startpath, '').count(os.sep))\n",
    "        print('Directories:',dirs)\n",
    "        print('Files')\n",
    "    for f in files:\n",
    "        if verbose: print('   ---',f)\n",
    "        full_path = join(root, f)\n",
    "        if full_path not in elements_list:\n",
    "            elements_list.append(full_path)\n",
    "            num_elements+=1\n",
    "    if verbose: print()\n",
    "    \n",
    "num_elements"
   ]
  },
  {
   "cell_type": "code",
   "execution_count": 53,
   "id": "a9656c07",
   "metadata": {},
   "outputs": [],
   "source": [
    "## determining whether element is a directory or not\n",
    "## and storing\n",
    "\n",
    "directory_question = dict()\n",
    "for elem in elements_list:\n",
    "    if os.path.isdir(elem):\n",
    "        directory_question[elem] = True\n",
    "    else: \n",
    "        directory_question[elem] = False"
   ]
  },
  {
   "cell_type": "code",
   "execution_count": 79,
   "id": "69954040",
   "metadata": {},
   "outputs": [],
   "source": [
    "## building tree structure for files\n",
    "\n",
    "# empty directory structure matrix\n",
    "dir_structure = np.zeros((num_elements, num_elements))\n",
    "\n",
    "# going through indices of matrix\n",
    "for idx1 in range(num_elements):\n",
    "    # call corresponding element\n",
    "    elem = elements_list[idx1]\n",
    "    # if element is a directory continue\n",
    "    if directory_question[elem]:\n",
    "        # find sub directories in directory\n",
    "        sub_dirs = os.listdir(elem)\n",
    "        # loop through sub directories/files\n",
    "        for sub_element in sub_dirs:\n",
    "            # get full path for sub directory/file\n",
    "            full_path = join(elem, sub_element)\n",
    "            # get corresponding index of sub directory/file\n",
    "            idx2 = elements_list.index(full_path)\n",
    "            # file in matrix indicating that an \n",
    "            # arrow points from idx1 to idx2\n",
    "            dir_structure[idx1, idx2]=1"
   ]
  },
  {
   "cell_type": "code",
   "execution_count": 93,
   "id": "e97b2b17",
   "metadata": {},
   "outputs": [],
   "source": [
    "## number of files\n",
    "files_list = [file for file in elements_list if not directory_question[file] ]\n",
    "num_files = len(files_list)"
   ]
  },
  {
   "cell_type": "code",
   "execution_count": 106,
   "id": "970432d8",
   "metadata": {},
   "outputs": [],
   "source": [
    "from tqdm.notebook import tqdm"
   ]
  },
  {
   "cell_type": "code",
   "execution_count": 111,
   "id": "2a9e6b27",
   "metadata": {},
   "outputs": [],
   "source": [
    "# symmetric directory structure for computing \n",
    "symm_dir_structure = dir_structure + dir_structure.T"
   ]
  },
  {
   "cell_type": "code",
   "execution_count": 113,
   "id": "ce244d4a",
   "metadata": {},
   "outputs": [],
   "source": [
    "## computing adjacency matrix for all files; Needs a GPU to compute; Projected time is 166 hours otherwise\n",
    "large_dist = int(1e9)\n",
    "shortest_path_adj = np.zeros((num_files, num_files))\n",
    "\n",
    "# graph for directory\n",
    "dir_G = nx.from_numpy_matrix(symm_dir_structure, create_using=nx.DiGraph())\n",
    "for k in tqdm(range(num_files)):\n",
    "    for j in range(k+1, num_files):\n",
    "        shortest_path_adj[k, j] = nx.dijkstra_path_length(dir_G, k, j)"
   ]
  },
  {
   "cell_type": "code",
   "execution_count": 108,
   "id": "47e10619",
   "metadata": {},
   "outputs": [
    {
     "data": {
      "text/plain": [
       "array([[0., 0., 0., ..., 0., 1., 1.],\n",
       "       [0., 0., 0., ..., 0., 0., 0.],\n",
       "       [0., 0., 0., ..., 0., 0., 0.],\n",
       "       ...,\n",
       "       [0., 0., 0., ..., 0., 0., 0.],\n",
       "       [0., 0., 0., ..., 0., 0., 0.],\n",
       "       [0., 0., 0., ..., 0., 0., 0.]])"
      ]
     },
     "execution_count": 108,
     "metadata": {},
     "output_type": "execute_result"
    }
   ],
   "source": [
    "np.linalg.matrix_power(dir_structure,3)"
   ]
  },
  {
   "cell_type": "markdown",
   "id": "1987f5cb",
   "metadata": {},
   "source": [
    "#### Djikstra Path Computation"
   ]
  },
  {
   "cell_type": "code",
   "execution_count": null,
   "id": "8a6e530e",
   "metadata": {},
   "outputs": [],
   "source": [
    "nx.dijkstra_path_length"
   ]
  },
  {
   "cell_type": "code",
   "execution_count": 103,
   "id": "725cba76",
   "metadata": {},
   "outputs": [
    {
     "name": "stdout",
     "output_type": "stream",
     "text": [
      "2\n"
     ]
    }
   ],
   "source": [
    "import networkx as nx\n",
    "import numpy as np\n",
    "A = np.array([[0, 1, 1, 0],\n",
    "              [0, 0, 0, 1],\n",
    "              [0, 1, 0, 1],\n",
    "              [1, 0, 0, 0]])\n",
    "G = nx.from_numpy_matrix(A, create_using=nx.DiGraph())\n",
    "print(nx.dijkstra_path_length(G, 0, 3))"
   ]
  },
  {
   "cell_type": "code",
   "execution_count": 100,
   "id": "5c040932",
   "metadata": {},
   "outputs": [
    {
     "data": {
      "image/png": "[encoded data removed]",
      "text/plain": [
       "<Figure size 432x288 with 1 Axes>"
      ]
     },
     "metadata": {},
     "output_type": "display_data"
    }
   ],
   "source": [
    "nx.draw(G, with_labels = True)"
   ]
  },
  {
   "cell_type": "code",
   "execution_count": null,
   "id": "8f0f29ff",
   "metadata": {},
   "outputs": [],
   "source": []
  }
 ],
 "metadata": {
  "kernelspec": {
   "display_name": "Python 3 (ipykernel)",
   "language": "python",
   "name": "python3"
  },
  "language_info": {
   "codemirror_mode": {
    "name": "ipython",
    "version": 3
   },
   "file_extension": ".py",
   "mimetype": "text/x-python",
   "name": "python",
   "nbconvert_exporter": "python",
   "pygments_lexer": "ipython3",
   "version": "3.10.2"
  }
 },
 "nbformat": 4,
 "nbformat_minor": 5
}
