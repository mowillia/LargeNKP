{
 "cells": [
  {
   "cell_type": "code",
   "execution_count": 1,
   "id": "affected-gambling",
   "metadata": {},
   "outputs": [],
   "source": [
    "from largeN_algo import limit_ratio\n",
    "from classic_algos import greedy_ratio\n",
    "from tabulate import tabulate\n",
    "import matplotlib.pyplot as plt\n",
    "import numpy as np\n",
    "%matplotlib inline\n",
    "\n",
    "### Plot Example\n",
    "plt.rcParams.update({\n",
    "    \"text.usetex\": True,\n",
    "    \"font.family\": \"serif\",\n",
    "    \"font.serif\": [\"Computer Modern Roman\"],\n",
    "})"
   ]
  },
  {
   "cell_type": "markdown",
   "id": "binary-baseball",
   "metadata": {},
   "source": [
    "## Limit ratio as function of temperature\n",
    "\n",
    "We plot the limit ratio \n",
    "\n",
    "\\begin{equation}\n",
    "\\lambda_{\\ell} = - T\\ln(z_0) + T \\ln w_{\\ell} \\left( \\frac{1-p_{\\text{thresh}}}{p_{\\text{thresh}}}\\right)\n",
    "\\end{equation}\n",
    "\n",
    "as a function of $T$. We set the value of $p_{\\text{thresh}} =1/2$ to eliminate the second term. \n",
    "\n",
    "----"
   ]
  },
  {
   "cell_type": "markdown",
   "id": "corresponding-premises",
   "metadata": {},
   "source": [
    "#### Weight, Value, and Limit"
   ]
  },
  {
   "cell_type": "code",
   "execution_count": 85,
   "id": "interested-lambda",
   "metadata": {},
   "outputs": [
    {
     "name": "stdout",
     "output_type": "stream",
     "text": [
      "+---------------+----------+---------+----------+----------+\n",
      "|               |      100 |    1000 |    10000 |   100000 |\n",
      "+===============+==========+=========+==========+==========+\n",
      "| Large N ratio | 0.783772 | 0.69993 | 0.735195 | 0.752867 |\n",
      "+---------------+----------+---------+----------+----------+\n",
      "| Greedy ratio  | 0.789474 | 0.69697 | 0.734177 | 0.752688 |\n",
      "+---------------+----------+---------+----------+----------+\n"
     ]
    }
   ],
   "source": [
    "## Weight and Value Parameters; randomly selected\n",
    "\n",
    "limit_ratio_list = ['Large N ratio']\n",
    "greedy_ratio_list = ['Greedy ratio']\n",
    "\n",
    "# set seed\n",
    "np.random.seed(42) \n",
    "nelem_list = [10**k for k in range(2, 6)]\n",
    "    \n",
    "for nelem in nelem_list: \n",
    "\n",
    "    # Randomly choose the value and weight of each object\n",
    "    weight_vec = np.random.randint(1,100,nelem)\n",
    "    value_vec = np.random.randint(1,100,nelem)\n",
    "\n",
    "    # Defining Weight limit as the average \n",
    "    # of the weights of randomly chosen objects\n",
    "    empt_list = []\n",
    "    for k in range(100):\n",
    "        empt_list.append(np.dot(np.random.randint(0,2,nelem), weight_vec))\n",
    "    Wlimit = int(np.mean(empt_list))\n",
    "\n",
    "    limit_ratio_value = limit_ratio(weights = weight_vec, values = value_vec, limit = Wlimit, T = 1.0, threshold = 0.5)\n",
    "    limit_ratio_list.append(limit_ratio_value)\n",
    "    \n",
    "    ratio_greedy_dp = greedy_ratio(weights = weight_vec, values = value_vec, limit = Wlimit)\n",
    "    greedy_ratio_list.append(ratio_greedy_dp)\n",
    "        \n",
    "        \n",
    "# creating table of results\n",
    "tabular_results = [limit_ratio_list, greedy_ratio_list]\n",
    "\n",
    "print(tabulate(tabular_results, [str(elem) for elem in nelem_list], tablefmt=\"grid\"))        "
   ]
  },
  {
   "cell_type": "markdown",
   "id": "capital-praise",
   "metadata": {},
   "source": [
    "#### Computing solution for each temperature"
   ]
  },
  {
   "cell_type": "code",
   "execution_count": 81,
   "id": "found-mailing",
   "metadata": {},
   "outputs": [],
   "source": [
    "Tvals = np.linspace(.25, 1.0, 300)\n",
    "limit_ratio_list = list()\n",
    "ratio_greedy_list = list()\n",
    "\n",
    "for Tval in Tvals: \n",
    "    limit_ratio_value = limit_ratio(weights = weight_vec, values = value_vec, limit = Wlimit, T = Tval, threshold = 0.5)\n",
    "    \n",
    "    ratio_greedy_dp = greedy_ratio(weights = weight_vec, values = value_vec, limit = Wlimit)\n",
    "    \n",
    "    limit_ratio_list.append(limit_ratio_value)\n",
    "    ratio_greedy_list.append(ratio_greedy_dp)"
   ]
  },
  {
   "cell_type": "markdown",
   "id": "artificial-semiconductor",
   "metadata": {},
   "source": [
    "#### Plotting Value"
   ]
  },
  {
   "cell_type": "code",
   "execution_count": 82,
   "id": "knowing-hormone",
   "metadata": {},
   "outputs": [
    {
     "data": {
      "image/png": "[encoded data removed]",
      "text/plain": [
       "<Figure size 432x360 with 1 Axes>"
      ]
     },
     "metadata": {
      "needs_background": "light"
     },
     "output_type": "display_data"
    }
   ],
   "source": [
    "# figure\n",
    "plt.figure(figsize = (6, 5))\n",
    "ax = plt.subplot(111)\n",
    "\n",
    "#plots of values\n",
    "plt.plot(Tvals, limit_ratio_list, color = 'red', label = r'Large $N$ Value', linewidth = 2.5)\n",
    "ratio_greedy_dp = greedy_ratio(weights = weight_vec, values = value_vec, limit = Wlimit)\n",
    "plt.axhline(y = ratio_greedy_dp, color = 'dodgerblue', linestyle = '--', label = 'Exact Optimal Value', linewidth = 2.5)\n",
    "    \n",
    "# plot formatting\n",
    "plt.xlabel(r'$T$', fontsize = 20, x = 1.02)\n",
    "plt.ylabel(r'$\\min\\{v_{\\ell}/w_{\\ell}\\}$', fontsize = 18, rotation = 0,y = 1.05)\n",
    "ax.spines['right'].set_visible(False)\n",
    "ax.spines['top'].set_visible(False)\n",
    "plt.xticks(fontsize = 13)\n",
    "plt.yticks(fontsize = 13)\n",
    "plt.ylim([0.5,1.0])\n",
    "# plt.xlim([.1, 3.5])\n",
    "plt.legend(loc = 'best', fontsize = 14)\n",
    "plt.grid(alpha = 0.5)\n",
    "\n",
    "# plt.savefig('/Users/mobolajiwilliams/Dropbox/0Tex_Files_Mac/2020_largeN_knapsack_problem/value_vs_temp.eps', format='eps', dpi = 1200, bbox_inches = 'tight')\n",
    "\n",
    "plt.show()\n"
   ]
  }
 ],
 "metadata": {
  "kernelspec": {
   "display_name": "Python 3",
   "language": "python",
   "name": "python3"
  },
  "language_info": {
   "codemirror_mode": {
    "name": "ipython",
    "version": 3
   },
   "file_extension": ".py",
   "mimetype": "text/x-python",
   "name": "python",
   "nbconvert_exporter": "python",
   "pygments_lexer": "ipython3",
   "version": "3.8.5"
  }
 },
 "nbformat": 4,
 "nbformat_minor": 5
}
