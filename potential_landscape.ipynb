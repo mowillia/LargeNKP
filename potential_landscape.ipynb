{
 "cells": [
  {
   "cell_type": "code",
   "execution_count": 1,
   "id": "affected-gambling",
   "metadata": {},
   "outputs": [],
   "source": [
    "from KP import KnapsackProblem, find_root\n",
    "import matplotlib.pyplot as plt\n",
    "from tqdm.notebook import tqdm\n",
    "import numpy as np\n",
    "%matplotlib inline\n",
    "\n",
    "### Plot Example\n",
    "plt.rcParams.update({\n",
    "    \"text.usetex\": True,\n",
    "    \"font.family\": \"serif\",\n",
    "    \"font.serif\": [\"Computer Modern Roman\"],\n",
    "})"
   ]
  },
  {
   "cell_type": "markdown",
   "id": "binary-baseball",
   "metadata": {},
   "source": [
    "## Potential Landscape of Continuous Objective Function\n",
    "\n",
    "We plot the function \n",
    "\n",
    "\\begin{equation}\n",
    "F_{N}\\left(z; \\{v_i\\}, \\{w_i\\}, W\\right) = - W \\ln z - \\ln (1-z) + \\sum_{i=1}^N\\ln \\left(1+ z^{ w_i}e^{\\beta v_i}\\right),\n",
    "\\label{eq:knapsack_Fdef}\n",
    "\\end{equation}\n",
    "\n",
    "for a random collection of weights and values. \n",
    "\n",
    "----"
   ]
  },
  {
   "cell_type": "markdown",
   "id": "equivalent-fruit",
   "metadata": {},
   "source": [
    "#### Weight, Value, and Limit"
   ]
  },
  {
   "cell_type": "code",
   "execution_count": 2,
   "id": "cf8152f0",
   "metadata": {},
   "outputs": [],
   "source": [
    "items = (\n",
    "    (\"map\", 9, 150), (\"compass\", 13, 35), (\"water\", 153, 200), (\"sandwich\", 50, 160),\n",
    "    (\"glucose\", 15, 60), (\"tin\", 68, 45), (\"banana\", 27, 60), (\"apple\", 39, 40),\n",
    "    (\"cheese\", 23, 30), (\"beer\", 52, 10), (\"suntan cream\", 11, 70), (\"camera\", 32, 30),\n",
    "    (\"t-shirt\", 24, 15), (\"trousers\", 48, 10), (\"umbrella\", 73, 40),\n",
    "    (\"waterproof trousers\", 42, 70), (\"waterproof overclothes\", 43, 75),\n",
    "    (\"note-case\", 22, 80), (\"sunglasses\", 7, 20), (\"towel\", 18, 12),\n",
    "    (\"socks\", 4, 50), (\"book\", 30, 10),\n",
    "    )\n",
    "\n",
    "# defining weight and value vectors and weight limit\n",
    "weight_vec = np.array([item[1] for item in items])\n",
    "value_vec = np.array([item[2] for item in items])\n",
    "Wlimit = 400\n",
    "\n",
    "# defining instance of problem\n",
    "KP_init = KnapsackProblem(weights = weight_vec, values = value_vec, limit = Wlimit)"
   ]
  },
  {
   "cell_type": "markdown",
   "id": "competent-samba",
   "metadata": {},
   "source": [
    "#### Plotting Potential"
   ]
  },
  {
   "cell_type": "code",
   "execution_count": 3,
   "id": "valued-toronto",
   "metadata": {},
   "outputs": [
    {
     "data": {
      "image/png": "[encoded data removed]",
      "text/plain": [
       "<Figure size 504x360 with 1 Axes>"
      ]
     },
     "metadata": {
      "needs_background": "light"
     },
     "output_type": "display_data"
    }
   ],
   "source": [
    "# plotting \"Potential landscape\"\n",
    "# Taken from interior of `plot_potential_zero_one` in `potential_plots`\n",
    "\n",
    "mvals = 100 # number of points to plot\n",
    "ztest = np.linspace(0.001, 0.99, mvals) # values to evaluate potential\n",
    "Tlist = [0.5, 1.0, 2.0]\n",
    "\n",
    "# figure\n",
    "plt.figure(figsize = (7, 5))\n",
    "ax = plt.subplot(111)\n",
    "\n",
    "marker_list = ['solid', 'dashdot', 'dashed']\n",
    "\n",
    "# Plotting function for three temperature values\n",
    "Fvals_dict = dict() # empty dictionary of F values\n",
    "z0_dict = dict()\n",
    "for i in range(len(Tlist)):\n",
    "    Fvals_dict[i] = np.zeros(mvals)\n",
    "    z0_dict[i], _ = find_root(KP_init.constraint, T=Tlist[i])\n",
    "    for k in range(mvals):\n",
    "        Fvals_dict[i][k] = KP_init.potential(z = ztest[k], T = Tlist[i])\n",
    "        \n",
    "    ax.plot(ztest, Fvals_dict[i], label = r'$T = %.1f$' % Tlist[i], linestyle = marker_list[i], linewidth = 2.5)\n",
    "\n",
    "for i in range(len(Tlist)):    \n",
    "    ax.plot(z0_dict[i], KP_init.potential(z = z0_dict[i], T = Tlist[i]), marker=\"o\", markersize=6, markeredgecolor=\"black\", markerfacecolor=\"black\")\n",
    "    \n",
    "\n",
    "# plot sides\n",
    "plt.xlabel(r'$z$', fontsize = 20)\n",
    "plt.ylabel(r'$F_N(z)$', fontsize = 20, rotation = 0, labelpad = 35)\n",
    "plt.yticks(fontsize= 14)\n",
    "plt.xticks(fontsize=14)\n",
    "plt.xlim(0, .9)\n",
    "ax.spines['right'].set_visible(False)\n",
    "ax.spines['top'].set_visible(False)\n",
    "plt.grid()\n",
    "plt.legend(loc = 'right', fontsize = 15, framealpha =1)\n",
    "# plt.savefig('/Users/mobolajiwilliams/Dropbox/0Tex_Files_Mac/2020_largeN_knapsack_problem/LaTeX_Scientific_reports/FN_plot_new.png', dpi = 100, bbox_inches='tight' )\n",
    "\n",
    "plt.show()"
   ]
  },
  {
   "cell_type": "code",
   "execution_count": null,
   "id": "b9223054",
   "metadata": {},
   "outputs": [],
   "source": []
  }
 ],
 "metadata": {
  "kernelspec": {
   "display_name": "Python 3 (ipykernel)",
   "language": "python",
   "name": "python3"
  },
  "language_info": {
   "codemirror_mode": {
    "name": "ipython",
    "version": 3
   },
   "file_extension": ".py",
   "mimetype": "text/x-python",
   "name": "python",
   "nbconvert_exporter": "python",
   "pygments_lexer": "ipython3",
   "version": "3.10.2"
  }
 },
 "nbformat": 4,
 "nbformat_minor": 5
}
